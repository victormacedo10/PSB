{
 "cells": [
  {
   "cell_type": "markdown",
   "metadata": {
    "toc": true
   },
   "source": [
    "<h1>Table of Contents<span class=\"tocSkip\"></span></h1>\n",
    "<div class=\"toc\"><ul class=\"toc-item\"><li><span><a href=\"#Questões\" data-toc-modified-id=\"Questões-1\"><span class=\"toc-item-num\">1&nbsp;&nbsp;</span>Questões</a></span></li><li><span><a href=\"#Soluções\" data-toc-modified-id=\"Soluções-2\"><span class=\"toc-item-num\">2&nbsp;&nbsp;</span>Soluções</a></span></li></ul></div>"
   ]
  },
  {
   "cell_type": "markdown",
   "metadata": {},
   "source": [
    "## Questões"
   ]
  },
  {
   "cell_type": "markdown",
   "metadata": {},
   "source": [
    "1) Elabore um programa que recebe na entrada um sinal amostrado com uma taxa conhecida. O programa deve gerar na saída uma imagem em que as colunas representam indíces de tempo de duração especificada e as linhas representam faixas de frequência com largura também especificada. Nesta imagem, em cada pixel tem-se um valor de cinza proporcional à energia do sinal naquela faixa de tempo, naquela banda de frequência.\n",
    "\n",
    "![image](images/espectograma.png)\n",
    "\n",
    "Usar a WFT (transformada janelada de Fourier)"
   ]
  },
  {
   "cell_type": "markdown",
   "metadata": {},
   "source": [
    "2) Teste o seu programa com sinais do tipo \"chirps\" amostrados.\n",
    "\n",
    "\\begin{eqnarray}\n",
    "x_c(t) = A \\sin (2 \\pi f(t) t)\n",
    "\\end{eqnarray}\n",
    "\n",
    "com $f(t)$ conhecida. Por exemplo:\n",
    "\n",
    "\\begin{eqnarray}\n",
    "f(t) = kt\n",
    "\\end{eqnarray}"
   ]
  },
  {
   "cell_type": "markdown",
   "metadata": {},
   "source": [
    "3) Repita o exercício 1, porém partindo de uma decomposição QMF multinível dos sinais (o tipo de filtros é um parâmetro de entrada). Neste caso, a imagem final não será composta de retângulos de mesma área."
   ]
  },
  {
   "cell_type": "markdown",
   "metadata": {},
   "source": [
    "4) Cálculo de algumas características temporais e em frequência de sinais. Implementar um programa para o cálculo.\n",
    "\n",
    "<font color='red'> * Para cada janela: </font>\n",
    "\n",
    "**Entradas:** sinal, taxa de amostragem, largura da janela, tipo de janela, número de bandas para o caso da distribuição de energia.\n",
    "\n",
    "**Saída:** valor médio retificado (médio do valor absoluto), valor eficaz (RMS: root mean square), desvio padrão.\n",
    "\n",
    "<font color='green'> OBS: posteriormente para sinais de ECG: intervalo RR, intervalo RS, relação entre picos R e S etc. </font>\n",
    "\n",
    "**Calcular:**\n",
    "\n",
    "- Frequência modal\n",
    "- Frequência média\n",
    "- Frequência mediana\n",
    "- Energia em cada banda"
   ]
  },
  {
   "cell_type": "markdown",
   "metadata": {},
   "source": [
    "## Soluções"
   ]
  },
  {
   "cell_type": "code",
   "execution_count": 2,
   "metadata": {
    "ExecuteTime": {
     "end_time": "2019-10-04T18:12:55.867971Z",
     "start_time": "2019-10-04T18:12:55.863982Z"
    }
   },
   "outputs": [],
   "source": [
    "from scipy.signal import hamming\n",
    "import numpy as np\n",
    "from numpy.ftt import fft"
   ]
  },
  {
   "cell_type": "code",
   "execution_count": null,
   "metadata": {},
   "outputs": [],
   "source": [
    "# Questão 1\n",
    "def timeFrequencyVisualization(x, fs, window_duration_seconds, window_type=None, n_fft=None, window_overlap=0.5):\n",
    "    N_window = np.round(window_duration_seconds * fs)\n",
    "    if nfft == None:\n",
    "        nfft = len(N_window)\n",
    "    if window_type == None:\n",
    "        window_type = lambda x: x\n",
    "        window_type = hamming\n",
    "    w = window_type(N_window)\n",
    "    if x.shape[1] > x.shape[0]\n",
    "        w = w.T\n",
    "    window_n1 = 0\n",
    "    window_n2 = window_n1 + N_window - 1\n",
    "    window_shift = np.round((1-window_overlap) * N_window).astype(int)\n",
    "    s = np.zeros([np.round(Nfft/2).astype(int), 2 * np.ceil(len(x)/window_shift - 2*N_window/window_shift).astype(int)])\n",
    "    number_windows = 0\n",
    "    while(window_n2 <= len(x)):\n",
    "        xw = x[window_n1 : window_n2] * w\n",
    "        Xw = fft(xw, nfft)\n",
    "        Xw = Xw[:np.floor(nfft/2)]\n",
    "        Xw = np.power(np.abs(Xw), 2)\n",
    "        s[:, number_windows] = Xw\n",
    "        number_windows = number_windows + 1\n",
    "        window_n1 = window_n1 + window_shift\n",
    "        window_n2 = window_n2 + window_shift"
   ]
  },
  {
   "cell_type": "code",
   "execution_count": 5,
   "metadata": {
    "ExecuteTime": {
     "end_time": "2019-10-04T18:19:56.509343Z",
     "start_time": "2019-10-04T18:19:56.505049Z"
    }
   },
   "outputs": [],
   "source": [
    "b = lambda x: test_func"
   ]
  },
  {
   "cell_type": "code",
   "execution_count": 6,
   "metadata": {
    "ExecuteTime": {
     "end_time": "2019-10-04T18:20:05.255705Z",
     "start_time": "2019-10-04T18:20:05.238401Z"
    }
   },
   "outputs": [
    {
     "data": {
      "text/plain": [
       "<function __main__.test_func(a)>"
      ]
     },
     "execution_count": 6,
     "metadata": {},
     "output_type": "execute_result"
    }
   ],
   "source": [
    "b(2)"
   ]
  }
 ],
 "metadata": {
  "kernelspec": {
   "display_name": "Python 3",
   "language": "python",
   "name": "python3"
  },
  "language_info": {
   "codemirror_mode": {
    "name": "ipython",
    "version": 3
   },
   "file_extension": ".py",
   "mimetype": "text/x-python",
   "name": "python",
   "nbconvert_exporter": "python",
   "pygments_lexer": "ipython3",
   "version": "3.6.8"
  },
  "latex_envs": {
   "LaTeX_envs_menu_present": true,
   "autoclose": false,
   "autocomplete": true,
   "bibliofile": "biblio.bib",
   "cite_by": "apalike",
   "current_citInitial": 1,
   "eqLabelWithNumbers": true,
   "eqNumInitial": 1,
   "hotkeys": {
    "equation": "Ctrl-E",
    "itemize": "Ctrl-I"
   },
   "labels_anchors": false,
   "latex_user_defs": false,
   "report_style_numbering": false,
   "user_envs_cfg": false
  },
  "toc": {
   "base_numbering": 1,
   "nav_menu": {},
   "number_sections": true,
   "sideBar": true,
   "skip_h1_title": false,
   "title_cell": "Table of Contents",
   "title_sidebar": "Contents",
   "toc_cell": true,
   "toc_position": {},
   "toc_section_display": true,
   "toc_window_display": false
  },
  "varInspector": {
   "cols": {
    "lenName": 16,
    "lenType": 16,
    "lenVar": 40
   },
   "kernels_config": {
    "python": {
     "delete_cmd_postfix": "",
     "delete_cmd_prefix": "del ",
     "library": "var_list.py",
     "varRefreshCmd": "print(var_dic_list())"
    },
    "r": {
     "delete_cmd_postfix": ") ",
     "delete_cmd_prefix": "rm(",
     "library": "var_list.r",
     "varRefreshCmd": "cat(var_dic_list()) "
    }
   },
   "types_to_exclude": [
    "module",
    "function",
    "builtin_function_or_method",
    "instance",
    "_Feature"
   ],
   "window_display": false
  }
 },
 "nbformat": 4,
 "nbformat_minor": 2
}
