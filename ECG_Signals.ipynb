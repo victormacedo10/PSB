{
 "cells": [
  {
   "cell_type": "markdown",
   "metadata": {},
   "source": [
    "**Victor Oliveira Corrieri de Macedo 14/0164961**"
   ]
  },
  {
   "cell_type": "markdown",
   "metadata": {},
   "source": [
    "All the necessary python libraries to run this code are listed and imported below:"
   ]
  },
  {
   "cell_type": "code",
   "execution_count": 1,
   "metadata": {
    "ExecuteTime": {
     "end_time": "2019-11-18T01:27:13.101987Z",
     "start_time": "2019-11-18T01:27:11.532883Z"
    }
   },
   "outputs": [],
   "source": [
    "# change to \"%matplotlib notebook\" to get interative plot with zoom functionalities \n",
    "%matplotlib inline\n",
    "#%matplotlib notebook\n",
    "import numpy as np\n",
    "import matplotlib.pyplot as plt\n",
    "import pandas as pd\n",
    "from mat4py import loadmat"
   ]
  },
  {
   "cell_type": "markdown",
   "metadata": {},
   "source": [
    "# Functions"
   ]
  },
  {
   "cell_type": "markdown",
   "metadata": {},
   "source": [
    "All the implemented functions used are presented in this section."
   ]
  },
  {
   "cell_type": "code",
   "execution_count": 2,
   "metadata": {
    "ExecuteTime": {
     "end_time": "2019-11-18T01:27:13.172947Z",
     "start_time": "2019-11-18T01:27:13.143962Z"
    }
   },
   "outputs": [],
   "source": [
    "def plotECGSignal(ecg_signal, fs, t0=0, delta_t=-1):\n",
    "    \"\"\"\n",
    "    This function plots a signal for a given time interval.\n",
    "\n",
    "    If no interval if given the whole signal will be plotted.\n",
    "\n",
    "    If the interval exceeds the signal duration, \n",
    "    a warning will be printed in the terminal\n",
    "\n",
    "    Parameters\n",
    "    ----------\n",
    "    ecg_signal : numpy array (signal_length,)\n",
    "        The ecg signal as a row vector\n",
    "    fs : integer\n",
    "        The signal sampling rate in Hertz\n",
    "    t0 : float\n",
    "        The time to begin plotting in seconds\n",
    "    delta_t : float\n",
    "        The duration of the signal to be plotted in seconds\n",
    "    \"\"\"\n",
    "    if delta_t == -1: # if delta is -1 plot till the end of the signal\n",
    "        # set delta to the duration of the signal minus t0\n",
    "        delta_t = len(ecg_signal)*(1/fs) - t0 \n",
    "    # calculate duration from num of samples and sampling rate\n",
    "    duration = len(ecg_signal)*(1/fs) \n",
    "    # get input required duration\n",
    "    calc_duration = t0 + delta_t \n",
    "    # check if required duration exceeds the real duration\n",
    "    if calc_duration > duration: \n",
    "        print(\"Exceeded signal duration\")\n",
    "        return\n",
    "    # get equivalent sample for the initial time\n",
    "    n0 = int(round(t0*fs)) \n",
    "    # get equivalent sample for the final time\n",
    "    n1 = n0 + int(round(delta_t*fs)) \n",
    "    # produce time vector to show plot in sec\n",
    "    t = np.linspace(0, len(ecg_signal)/fs, len(ecg_signal))\n",
    "    # configure plot for the ECG signal\n",
    "    plt.figure()\n",
    "    plt.plot(t[n0:n1], ecg_signal[n0:n1])\n",
    "    plt.ylabel(\"ECG amplitude\")\n",
    "    plt.xlabel(\"time (s)\")\n",
    "    plt.grid()\n",
    "    plt.show()"
   ]
  },
  {
   "cell_type": "code",
   "execution_count": 3,
   "metadata": {
    "ExecuteTime": {
     "end_time": "2019-11-18T01:27:13.472774Z",
     "start_time": "2019-11-18T01:27:13.463781Z"
    }
   },
   "outputs": [],
   "source": [
    "def plotFFTSignal(signal, fs):\n",
    "    \"\"\"\n",
    "    This function plots a signal power espectrum density (PSD)\n",
    "\n",
    "    Parameters\n",
    "    ----------\n",
    "    esignal : numpy array (signal_length,)\n",
    "        The signal as a row vector\n",
    "    fs : integer\n",
    "        The signal sampling rate in Hertz\n",
    "    \"\"\"\n",
    "    N = len(signal) # store the number of sample in the signal\n",
    "    # create a frequency vector to match the frequency index for each sample\n",
    "    f = np.linspace(0, fs, N)\n",
    "    # apply the fft transform to the signal normalized by the signal length\n",
    "    signal_fft = np.fft.fft(signal)/N\n",
    "    # calculate the PSB by elevating the signal magnitude to the second power\n",
    "#     psd = np.power(np.abs(signal_fft), 2)\n",
    "    signal_fft = np.abs(signal_fft)\n",
    "    # configure plot\n",
    "    plt.figure() \n",
    "    # plot only the positive frequencies\n",
    "    plt.plot(f[:N // 2], signal_fft[:N // 2])\n",
    "    plt.xlabel(\"frequency (Hz)\")\n",
    "    plt.grid()\n",
    "    plt.show()"
   ]
  },
  {
   "cell_type": "markdown",
   "metadata": {},
   "source": [
    "# ECG Analysis"
   ]
  },
  {
   "cell_type": "markdown",
   "metadata": {},
   "source": [
    "In this section the ECG sample signal is analyzed to identify the Q, R and S locations and later segment the QRS complex."
   ]
  },
  {
   "cell_type": "markdown",
   "metadata": {},
   "source": [
    "## Raw ECG plot"
   ]
  },
  {
   "cell_type": "markdown",
   "metadata": {},
   "source": [
    "The signal used for the experiment is the first sample named \"ecg01.mat\" which has a sampling frequency fs of 125 Hz."
   ]
  },
  {
   "cell_type": "code",
   "execution_count": 8,
   "metadata": {
    "ExecuteTime": {
     "end_time": "2019-11-18T01:27:54.637803Z",
     "start_time": "2019-11-18T01:27:54.604822Z"
    }
   },
   "outputs": [],
   "source": [
    "# load signal\n",
    "# data_input = loadmat('sinais_ecg/ecg01.mat') \n",
    "data_input = loadmat('sinais_prova_1/ecg_1.mat') \n",
    "# get only the x values and transform in a row vector\n",
    "data_ecg = np.array(data_input['x'])[:, 0]\n",
    "fs = 360 # set sampling rate\n",
    "data_ecg = data_ecg - np.mean(data_ecg)"
   ]
  },
  {
   "cell_type": "markdown",
   "metadata": {},
   "source": [
    "In order to plot in a visible scale, only an interval of a couple ECG cycles are displayed. To control the region to be displayed the starting point t0 can be defined, along with lenght in seconds desired."
   ]
  },
  {
   "cell_type": "code",
   "execution_count": 9,
   "metadata": {
    "ExecuteTime": {
     "end_time": "2019-11-18T01:27:56.936489Z",
     "start_time": "2019-11-18T01:27:56.255878Z"
    },
    "scrolled": false
   },
   "outputs": [
    {
     "data": {
      "image/png": "[encoded data removed]",
      "text/plain": [
       "<Figure size 432x288 with 1 Axes>"
      ]
     },
     "metadata": {
      "needs_background": "light"
     },
     "output_type": "display_data"
    }
   ],
   "source": [
    "plotECGSignal(data_ecg, fs)"
   ]
  },
  {
   "cell_type": "code",
   "execution_count": 10,
   "metadata": {
    "ExecuteTime": {
     "end_time": "2019-11-18T01:27:59.325125Z",
     "start_time": "2019-11-18T01:27:58.162787Z"
    }
   },
   "outputs": [
    {
     "data": {
      "image/png": "[encoded data removed]",
      "text/plain": [
       "<Figure size 432x288 with 1 Axes>"
      ]
     },
     "metadata": {
      "needs_background": "light"
     },
     "output_type": "display_data"
    }
   ],
   "source": [
    "plotFFTSignal(data_ecg, fs)"
   ]
  },
  {
   "cell_type": "markdown",
   "metadata": {},
   "source": [
    "Similiarly, the QRS segments PSD's are also mainly below 10 Hz, but now, because de signal has less points and the FFT was calculated with same amount of points, the PSD appeared in a lower frequency resolution."
   ]
  },
  {
   "cell_type": "markdown",
   "metadata": {},
   "source": [
    "## Individual QRS segments"
   ]
  },
  {
   "cell_type": "markdown",
   "metadata": {},
   "source": [
    "To check the power distribution over the frequencies for the individual QRS segments we plotted all their PSD simultaneously below. Similiar to the original the main part of the signal is located below 10 Hz, but in this case, because the FFT was calculated with the same number of points as the input signal, its frequency resolution was lower, making it harder to distinct between the lower frequencies."
   ]
  },
  {
   "cell_type": "code",
   "execution_count": null,
   "metadata": {
    "ExecuteTime": {
     "end_time": "2019-10-10T20:40:11.033426Z",
     "start_time": "2019-10-10T20:40:10.476254Z"
    },
    "scrolled": false
   },
   "outputs": [],
   "source": [
    "plotAllPSDSignals(QRS_cplx, fs)"
   ]
  },
  {
   "cell_type": "markdown",
   "metadata": {},
   "source": [
    "## QRS Concatenated"
   ]
  },
  {
   "cell_type": "markdown",
   "metadata": {},
   "source": [
    "Then, for the signal with all the QRS segments concatenated, the PSD showed a similiar power distribution as the original, but with less peaks and the density more spreaded out in the frequencies. This should be due to the high frequencies introduced by each segment window transition."
   ]
  },
  {
   "cell_type": "code",
   "execution_count": null,
   "metadata": {
    "ExecuteTime": {
     "end_time": "2019-10-10T20:40:11.245656Z",
     "start_time": "2019-10-10T20:40:11.036477Z"
    },
    "scrolled": false
   },
   "outputs": [],
   "source": [
    "plotPSDSignal(QRS_cplx_conc, fs)"
   ]
  },
  {
   "cell_type": "markdown",
   "metadata": {},
   "source": [
    "To better visualize the differences between the original and concatenated signals, we plotted them together below. In this case, the graph shows that the mean peaks changed by eliminating the regions without a QRS segment."
   ]
  },
  {
   "cell_type": "code",
   "execution_count": null,
   "metadata": {
    "ExecuteTime": {
     "end_time": "2019-10-10T20:40:11.511742Z",
     "start_time": "2019-10-10T20:40:11.291345Z"
    }
   },
   "outputs": [],
   "source": [
    "plotAllPSDSignals([data_ecg, QRS_cplx_conc], fs)"
   ]
  },
  {
   "cell_type": "markdown",
   "metadata": {},
   "source": [
    "## QRS with Zeros"
   ]
  },
  {
   "cell_type": "markdown",
   "metadata": {},
   "source": [
    "Finally, the signal where values were substituted with zeros in the regions outside the QRS segments showed a power distribution if closer to the original, but with more evenly distributing of power through the peaks in the lower frequencies, which consequently reduced the max peaks amplitude."
   ]
  },
  {
   "cell_type": "code",
   "execution_count": null,
   "metadata": {
    "ExecuteTime": {
     "end_time": "2019-11-18T01:22:38.065838Z",
     "start_time": "2019-11-18T01:22:38.051846Z"
    },
    "scrolled": true
   },
   "outputs": [],
   "source": [
    "plotPSDSignal(QRS_cplx_zeros, fs)"
   ]
  },
  {
   "cell_type": "markdown",
   "metadata": {},
   "source": [
    "To check if the peaks location were mantained between the original signal and the signal with zero we plotted both simultaneously. As we can see, the peaks seem to match and only the amplitude changed, which makes sense since we kept most of the signal content intact."
   ]
  },
  {
   "cell_type": "code",
   "execution_count": null,
   "metadata": {
    "ExecuteTime": {
     "end_time": "2019-10-10T20:40:12.643936Z",
     "start_time": "2019-10-10T20:40:12.387374Z"
    }
   },
   "outputs": [],
   "source": [
    "plotAllPSDSignals([data_ecg, QRS_cplx_zeros], fs)"
   ]
  }
 ],
 "metadata": {
  "file_extension": ".py",
  "hide_input": false,
  "kernelspec": {
   "display_name": "Python 3",
   "language": "python",
   "name": "python3"
  },
  "language_info": {
   "codemirror_mode": {
    "name": "ipython",
    "version": 3
   },
   "file_extension": ".py",
   "mimetype": "text/x-python",
   "name": "python",
   "nbconvert_exporter": "python",
   "pygments_lexer": "ipython3",
   "version": "3.7.5"
  },
  "latex_envs": {
   "LaTeX_envs_menu_present": true,
   "autoclose": false,
   "autocomplete": true,
   "bibliofile": "biblio.bib",
   "cite_by": "apalike",
   "current_citInitial": 1,
   "eqLabelWithNumbers": true,
   "eqNumInitial": 1,
   "hotkeys": {
    "equation": "Ctrl-E",
    "itemize": "Ctrl-I"
   },
   "labels_anchors": false,
   "latex_user_defs": false,
   "report_style_numbering": false,
   "user_envs_cfg": false
  },
  "mimetype": "text/x-python",
  "name": "python",
  "npconvert_exporter": "python",
  "pygments_lexer": "ipython3",
  "toc": {
   "base_numbering": 1,
   "nav_menu": {},
   "number_sections": true,
   "sideBar": true,
   "skip_h1_title": false,
   "title_cell": "Table of Contents",
   "title_sidebar": "Contents",
   "toc_cell": false,
   "toc_position": {},
   "toc_section_display": true,
   "toc_window_display": false
  },
  "varInspector": {
   "cols": {
    "lenName": 16,
    "lenType": 16,
    "lenVar": 40
   },
   "kernels_config": {
    "python": {
     "delete_cmd_postfix": "",
     "delete_cmd_prefix": "del ",
     "library": "var_list.py",
     "varRefreshCmd": "print(var_dic_list())"
    },
    "r": {
     "delete_cmd_postfix": ") ",
     "delete_cmd_prefix": "rm(",
     "library": "var_list.r",
     "varRefreshCmd": "cat(var_dic_list()) "
    }
   },
   "types_to_exclude": [
    "module",
    "function",
    "builtin_function_or_method",
    "instance",
    "_Feature"
   ],
   "window_display": false
  },
  "version": 3
 },
 "nbformat": 4,
 "nbformat_minor": 2
}
