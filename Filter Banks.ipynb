{
 "cells": [
  {
   "cell_type": "markdown",
   "metadata": {},
   "source": [
    "# Filter Bank"
   ]
  },
  {
   "cell_type": "markdown",
   "metadata": {
    "heading_collapsed": true
   },
   "source": [
    "## Import libraries"
   ]
  },
  {
   "cell_type": "code",
   "execution_count": 1,
   "metadata": {
    "ExecuteTime": {
     "end_time": "2019-09-13T17:26:04.948991Z",
     "start_time": "2019-09-13T17:26:00.888970Z"
    },
    "hidden": true
   },
   "outputs": [],
   "source": [
    "%matplotlib notebook\n",
    "import numpy as np\n",
    "import matplotlib.pyplot as plt\n",
    "from numpy import convolve as conv\n",
    "import pandas as pd\n",
    "from mat4py import loadmat"
   ]
  },
  {
   "cell_type": "markdown",
   "metadata": {},
   "source": [
    "## Functions"
   ]
  },
  {
   "cell_type": "markdown",
   "metadata": {
    "heading_collapsed": true
   },
   "source": [
    "### Alternate coefficients signals"
   ]
  },
  {
   "cell_type": "code",
   "execution_count": 101,
   "metadata": {
    "ExecuteTime": {
     "end_time": "2019-09-06T18:34:27.473554Z",
     "start_time": "2019-09-06T18:34:27.469291Z"
    },
    "hidden": true
   },
   "outputs": [],
   "source": [
    "def alternate_coefficients_signals(h):\n",
    "    h0_ = np.array(h)\n",
    "    h0_[1:len(h0_):2] = -h0_[1:len(h0_):2]\n",
    "    return list(h0_)"
   ]
  },
  {
   "cell_type": "markdown",
   "metadata": {
    "heading_collapsed": true
   },
   "source": [
    "### Polynomial sum"
   ]
  },
  {
   "cell_type": "code",
   "execution_count": 3,
   "metadata": {
    "ExecuteTime": {
     "end_time": "2019-09-13T17:26:34.851108Z",
     "start_time": "2019-09-13T17:26:34.841849Z"
    },
    "hidden": true
   },
   "outputs": [],
   "source": [
    "def poly_sum(x, y):\n",
    "    x1 = np.zeros(max(len(x), len(y)))\n",
    "    y1 = np.copy(x1)\n",
    "    x1[:len(x)] = x\n",
    "    y1[:len(x)] = y\n",
    "    z = x1 + y1\n",
    "    return z"
   ]
  },
  {
   "cell_type": "markdown",
   "metadata": {
    "heading_collapsed": true
   },
   "source": [
    "### Evaluate decomposition synthesis filters"
   ]
  },
  {
   "cell_type": "code",
   "execution_count": 113,
   "metadata": {
    "ExecuteTime": {
     "end_time": "2019-09-06T18:41:42.606654Z",
     "start_time": "2019-09-06T18:41:42.589771Z"
    },
    "hidden": true
   },
   "outputs": [],
   "source": [
    "def evaluate_decomposition_synthesis_filters(h0, h1, g0, g1, tol=1e-8):\n",
    "    h0_ = alternate_coefficients_signals(h0)\n",
    "    h1_ = alternate_coefficients_signals(h1)\n",
    "    alias_term = poly_sum(conv(h0_, h0), conv(h1_, g1))\n",
    "    #perfect_reconstruction = not(any(not(abs(alias_term) < tol)));\n",
    "    lti_term = poly_sum(conv(h0, g0),conv(h1, g1));\n",
    "    k = list(np.where(np.abs(lti_term) >= tol))[0]\n",
    "    perfect_reconstruction = ((len(k) == len(lti_term)) & perfect_reconstruction)\n",
    "#     if not perfect_reconstruction:\n",
    "#         k = find(abs(lti_term) == max(abs(lti_term)))\n",
    "#         k = k[1]\n",
    "#         d = 0\n",
    "    A = lti_term[k]/2.0;\n",
    "    d = k-1;\n",
    "    return perfect_reconstruction, A, d"
   ]
  },
  {
   "cell_type": "markdown",
   "metadata": {
    "heading_collapsed": true
   },
   "source": [
    "### Downsample and upsample"
   ]
  },
  {
   "cell_type": "code",
   "execution_count": 2,
   "metadata": {
    "ExecuteTime": {
     "end_time": "2019-09-13T17:26:20.921781Z",
     "start_time": "2019-09-13T17:26:20.916779Z"
    },
    "hidden": true
   },
   "outputs": [],
   "source": [
    "def downsample(x, factor):\n",
    "    x = x[:len(x):factor]\n",
    "    return x\n",
    "def upsample(x, factor):\n",
    "    y = np.zeros(len(x)*factor)\n",
    "    y[:len(y):factor] = x\n",
    "    return y"
   ]
  },
  {
   "cell_type": "markdown",
   "metadata": {
    "heading_collapsed": true
   },
   "source": [
    "### QMF 1 level decomposition and synthesis"
   ]
  },
  {
   "cell_type": "code",
   "execution_count": 56,
   "metadata": {
    "ExecuteTime": {
     "end_time": "2019-09-13T18:14:56.485370Z",
     "start_time": "2019-09-13T18:14:56.476434Z"
    },
    "hidden": true
   },
   "outputs": [],
   "source": [
    "def qmf_decomposition_1level(x, h0, h1):\n",
    "    w0 = np.convolve(h0, x)\n",
    "    w1 = np.convolve(h1, x)\n",
    "    x0 = downsample(w0, 2)\n",
    "    x1 = downsample(w1, 2)\n",
    "    xd = np.append(x0, x1)\n",
    "    return xd\n",
    "\n",
    "def qmf_synthesis_1level(xd, g0, g1):\n",
    "    u0 = upsample(xd[:int(len(xd)/2)], 2)\n",
    "    u1 = upsample(xd[int(len(xd)/2):], 2)\n",
    "    y0 = np.convolve(g0, u0)\n",
    "    y1 = np.convolve(g1, u1)\n",
    "    yd = poly_sum(y0, y1)\n",
    "    return yd"
   ]
  },
  {
   "cell_type": "markdown",
   "metadata": {
    "heading_collapsed": true
   },
   "source": [
    "### Filter iterator"
   ]
  },
  {
   "cell_type": "code",
   "execution_count": 4,
   "metadata": {
    "ExecuteTime": {
     "end_time": "2019-09-13T17:27:01.026721Z",
     "start_time": "2019-09-13T17:27:01.013979Z"
    },
    "hidden": true
   },
   "outputs": [],
   "source": [
    "def filter_iterator(h0, h1, levels):\n",
    "    h0 = np.array(h0)\n",
    "    h1 = np.array(h1)\n",
    "    h = [0] * (levels+1)\n",
    "    h[levels] = h1\n",
    "    aux = np.copy(h0)\n",
    "    for n in range(levels, 1, -1):\n",
    "        h_ = upsample(h[n], 2)\n",
    "        h_ = h_[:len(h_) - 1]\n",
    "        h[n-1] = conv(h_, h0)\n",
    "        aux = upsample(aux, 2)\n",
    "        aux = aux[:len(aux) - 1]\n",
    "        aux = conv(aux, h0)\n",
    "    h[0] = aux\n",
    "    return h"
   ]
  },
  {
   "cell_type": "markdown",
   "metadata": {
    "heading_collapsed": true
   },
   "source": [
    "## Evaluate decomposition synthesis filters"
   ]
  },
  {
   "cell_type": "code",
   "execution_count": 96,
   "metadata": {
    "ExecuteTime": {
     "end_time": "2019-09-06T18:30:15.284452Z",
     "start_time": "2019-09-06T18:30:15.240023Z"
    },
    "hidden": true
   },
   "outputs": [],
   "source": [
    "data = loadmat('sinais_ecg/ecg01.mat')\n",
    "data = np.array(data['x'])\n",
    "data_n = data[:500,0]"
   ]
  },
  {
   "cell_type": "code",
   "execution_count": 97,
   "metadata": {
    "ExecuteTime": {
     "end_time": "2019-09-06T18:30:15.496334Z",
     "start_time": "2019-09-06T18:30:15.489739Z"
    },
    "hidden": true
   },
   "outputs": [],
   "source": [
    "data_qmf = qmf_decomposition_1level(data_n, [1,1], [1,-1])\n",
    "data_rec = qmf_synthesis_1level(data_qmf, [1,1], [1,-1])"
   ]
  },
  {
   "cell_type": "code",
   "execution_count": 115,
   "metadata": {
    "ExecuteTime": {
     "end_time": "2019-09-06T19:17:06.342351Z",
     "start_time": "2019-09-06T19:17:06.161340Z"
    },
    "hidden": true,
    "scrolled": false
   },
   "outputs": [
    {
     "data": {
      "application/javascript": [
       "/* Put everything inside the global mpl namespace */\n",
       "window.mpl = {};\n",
       "\n",
       "\n",
       "mpl.get_websocket_type = function() {\n",
       "    if (typeof(WebSocket) !== 'undefined') {\n",
       "        return WebSocket;\n",
       "    } else if (typeof(MozWebSocket) !== 'undefined') {\n",
       "        return MozWebSocket;\n",
       "    } else {\n",
       "        alert('Your browser does not have WebSocket support.' +\n",
       "              'Please try Chrome, Safari or Firefox ≥ 6. ' +\n",
       "              'Firefox 4 and 5 are also supported but you ' +\n",
       "              'have to enable WebSockets in about:config.');\n",
       "    };\n",
       "}\n",
       "\n",
       "mpl.figure = function(figure_id, websocket, ondownload, parent_element) {\n",
       "    this.id = figure_id;\n",
       "\n",
       "    this.ws = websocket;\n",
       "\n",
       "    this.supports_binary = (this.ws.binaryType != undefined);\n",
       "\n",
       "    if (!this.supports_binary) {\n",
       "        var warnings = document.getElementById(\"mpl-warnings\");\n",
       "        if (warnings) {\n",
       "            warnings.style.display = 'block';\n",
       "            warnings.textContent = (\n",
       "                \"This browser does not support binary websocket messages. \" +\n",
       "                    \"Performance may be slow.\");\n",
       "        }\n",
       "    }\n",
       "\n",
       "    this.imageObj = new Image();\n",
       "\n",
       "    this.context = undefined;\n",
       "    this.message = undefined;\n",
       "    this.canvas = undefined;\n",
       "    this.rubberband_canvas = undefined;\n",
       "    this.rubberband_context = undefined;\n",
       "    this.format_dropdown = undefined;\n",
       "\n",
       "    this.image_mode = 'full';\n",
       "\n",
       "    this.root = $('<div/>');\n",
       "    this._root_extra_style(this.root)\n",
       "    this.root.attr('style', 'display: inline-block');\n",
       "\n",
       "    $(parent_element).append(this.root);\n",
       "\n",
       "    this._init_header(this);\n",
       "    this._init_canvas(this);\n",
       "    this._init_toolbar(this);\n",
       "\n",
       "    var fig = this;\n",
       "\n",
       "    this.waiting = false;\n",
       "\n",
       "    this.ws.onopen =  function () {\n",
       "            fig.send_message(\"supports_binary\", {value: fig.supports_binary});\n",
       "            fig.send_message(\"send_image_mode\", {});\n",
       "            if (mpl.ratio != 1) {\n",
       "                fig.send_message(\"set_dpi_ratio\", {'dpi_ratio': mpl.ratio});\n",
       "            }\n",
       "            fig.send_message(\"refresh\", {});\n",
       "        }\n",
       "\n",
       "    this.imageObj.onload = function() {\n",
       "            if (fig.image_mode == 'full') {\n",
       "                // Full images could contain transparency (where diff images\n",
       "                // almost always do), so we need to clear the canvas so that\n",
       "                // there is no ghosting.\n",
       "                fig.context.clearRect(0, 0, fig.canvas.width, fig.canvas.height);\n",
       "            }\n",
       "            fig.context.drawImage(fig.imageObj, 0, 0);\n",
       "        };\n",
       "\n",
       "    this.imageObj.onunload = function() {\n",
       "        fig.ws.close();\n",
       "    }\n",
       "\n",
       "    this.ws.onmessage = this._make_on_message_function(this);\n",
       "\n",
       "    this.ondownload = ondownload;\n",
       "}\n",
       "\n",
       "mpl.figure.prototype._init_header = function() {\n",
       "    var titlebar = $(\n",
       "        '<div class=\"ui-dialog-titlebar ui-widget-header ui-corner-all ' +\n",
       "        'ui-helper-clearfix\"/>');\n",
       "    var titletext = $(\n",
       "        '<div class=\"ui-dialog-title\" style=\"width: 100%; ' +\n",
       "        'text-align: center; padding: 3px;\"/>');\n",
       "    titlebar.append(titletext)\n",
       "    this.root.append(titlebar);\n",
       "    this.header = titletext[0];\n",
       "}\n",
       "\n",
       "\n",
       "\n",
       "mpl.figure.prototype._canvas_extra_style = function(canvas_div) {\n",
       "\n",
       "}\n",
       "\n",
       "\n",
       "mpl.figure.prototype._root_extra_style = function(canvas_div) {\n",
       "\n",
       "}\n",
       "\n",
       "mpl.figure.prototype._init_canvas = function() {\n",
       "    var fig = this;\n",
       "\n",
       "    var canvas_div = $('<div/>');\n",
       "\n",
       "    canvas_div.attr('style', 'position: relative; clear: both; outline: 0');\n",
       "\n",
       "    function canvas_keyboard_event(event) {\n",
       "        return fig.key_event(event, event['data']);\n",
       "    }\n",
       "\n",
       "    canvas_div.keydown('key_press', canvas_keyboard_event);\n",
       "    canvas_div.keyup('key_release', canvas_keyboard_event);\n",
       "    this.canvas_div = canvas_div\n",
       "    this._canvas_extra_style(canvas_div)\n",
       "    this.root.append(canvas_div);\n",
       "\n",
       "    var canvas = $('<canvas/>');\n",
       "    canvas.addClass('mpl-canvas');\n",
       "    canvas.attr('style', \"left: 0; top: 0; z-index: 0; outline: 0\")\n",
       "\n",
       "    this.canvas = canvas[0];\n",
       "    this.context = canvas[0].getContext(\"2d\");\n",
       "\n",
       "    var backingStore = this.context.backingStorePixelRatio ||\n",
       "\tthis.context.webkitBackingStorePixelRatio ||\n",
       "\tthis.context.mozBackingStorePixelRatio ||\n",
       "\tthis.context.msBackingStorePixelRatio ||\n",
       "\tthis.context.oBackingStorePixelRatio ||\n",
       "\tthis.context.backingStorePixelRatio || 1;\n",
       "\n",
       "    mpl.ratio = (window.devicePixelRatio || 1) / backingStore;\n",
       "\n",
       "    var rubberband = $('<canvas/>');\n",
       "    rubberband.attr('style', \"position: absolute; left: 0; top: 0; z-index: 1;\")\n",
       "\n",
       "    var pass_mouse_events = true;\n",
       "\n",
       "    canvas_div.resizable({\n",
       "        start: function(event, ui) {\n",
       "            pass_mouse_events = false;\n",
       "        },\n",
       "        resize: function(event, ui) {\n",
       "            fig.request_resize(ui.size.width, ui.size.height);\n",
       "        },\n",
       "        stop: function(event, ui) {\n",
       "            pass_mouse_events = true;\n",
       "            fig.request_resize(ui.size.width, ui.size.height);\n",
       "        },\n",
       "    });\n",
       "\n",
       "    function mouse_event_fn(event) {\n",
       "        if (pass_mouse_events)\n",
       "            return fig.mouse_event(event, event['data']);\n",
       "    }\n",
       "\n",
       "    rubberband.mousedown('button_press', mouse_event_fn);\n",
       "    rubberband.mouseup('button_release', mouse_event_fn);\n",
       "    // Throttle sequential mouse events to 1 every 20ms.\n",
       "    rubberband.mousemove('motion_notify', mouse_event_fn);\n",
       "\n",
       "    rubberband.mouseenter('figure_enter', mouse_event_fn);\n",
       "    rubberband.mouseleave('figure_leave', mouse_event_fn);\n",
       "\n",
       "    canvas_div.on(\"wheel\", function (event) {\n",
       "        event = event.originalEvent;\n",
       "        event['data'] = 'scroll'\n",
       "        if (event.deltaY < 0) {\n",
       "            event.step = 1;\n",
       "        } else {\n",
       "            event.step = -1;\n",
       "        }\n",
       "        mouse_event_fn(event);\n",
       "    });\n",
       "\n",
       "    canvas_div.append(canvas);\n",
       "    canvas_div.append(rubberband);\n",
       "\n",
       "    this.rubberband = rubberband;\n",
       "    this.rubberband_canvas = rubberband[0];\n",
       "    this.rubberband_context = rubberband[0].getContext(\"2d\");\n",
       "    this.rubberband_context.strokeStyle = \"#000000\";\n",
       "\n",
       "    this._resize_canvas = function(width, height) {\n",
       "        // Keep the size of the canvas, canvas container, and rubber band\n",
       "        // canvas in synch.\n",
       "        canvas_div.css('width', width)\n",
       "        canvas_div.css('height', height)\n",
       "\n",
       "        canvas.attr('width', width * mpl.ratio);\n",
       "        canvas.attr('height', height * mpl.ratio);\n",
       "        canvas.attr('style', 'width: ' + width + 'px; height: ' + height + 'px;');\n",
       "\n",
       "        rubberband.attr('width', width);\n",
       "        rubberband.attr('height', height);\n",
       "    }\n",
       "\n",
       "    // Set the figure to an initial 600x600px, this will subsequently be updated\n",
       "    // upon first draw.\n",
       "    this._resize_canvas(600, 600);\n",
       "\n",
       "    // Disable right mouse context menu.\n",
       "    $(this.rubberband_canvas).bind(\"contextmenu\",function(e){\n",
       "        return false;\n",
       "    });\n",
       "\n",
       "    function set_focus () {\n",
       "        canvas.focus();\n",
       "        canvas_div.focus();\n",
       "    }\n",
       "\n",
       "    window.setTimeout(set_focus, 100);\n",
       "}\n",
       "\n",
       "mpl.figure.prototype._init_toolbar = function() {\n",
       "    var fig = this;\n",
       "\n",
       "    var nav_element = $('<div/>')\n",
       "    nav_element.attr('style', 'width: 100%');\n",
       "    this.root.append(nav_element);\n",
       "\n",
       "    // Define a callback function for later on.\n",
       "    function toolbar_event(event) {\n",
       "        return fig.toolbar_button_onclick(event['data']);\n",
       "    }\n",
       "    function toolbar_mouse_event(event) {\n",
       "        return fig.toolbar_button_onmouseover(event['data']);\n",
       "    }\n",
       "\n",
       "    for(var toolbar_ind in mpl.toolbar_items) {\n",
       "        var name = mpl.toolbar_items[toolbar_ind][0];\n",
       "        var tooltip = mpl.toolbar_items[toolbar_ind][1];\n",
       "        var image = mpl.toolbar_items[toolbar_ind][2];\n",
       "        var method_name = mpl.toolbar_items[toolbar_ind][3];\n",
       "\n",
       "        if (!name) {\n",
       "            // put a spacer in here.\n",
       "            continue;\n",
       "        }\n",
       "        var button = $('<button/>');\n",
       "        button.addClass('ui-button ui-widget ui-state-default ui-corner-all ' +\n",
       "                        'ui-button-icon-only');\n",
       "        button.attr('role', 'button');\n",
       "        button.attr('aria-disabled', 'false');\n",
       "        button.click(method_name, toolbar_event);\n",
       "        button.mouseover(tooltip, toolbar_mouse_event);\n",
       "\n",
       "        var icon_img = $('<span/>');\n",
       "        icon_img.addClass('ui-button-icon-primary ui-icon');\n",
       "        icon_img.addClass(image);\n",
       "        icon_img.addClass('ui-corner-all');\n",
       "\n",
       "        var tooltip_span = $('<span/>');\n",
       "        tooltip_span.addClass('ui-button-text');\n",
       "        tooltip_span.html(tooltip);\n",
       "\n",
       "        button.append(icon_img);\n",
       "        button.append(tooltip_span);\n",
       "\n",
       "        nav_element.append(button);\n",
       "    }\n",
       "\n",
       "    var fmt_picker_span = $('<span/>');\n",
       "\n",
       "    var fmt_picker = $('<select/>');\n",
       "    fmt_picker.addClass('mpl-toolbar-option ui-widget ui-widget-content');\n",
       "    fmt_picker_span.append(fmt_picker);\n",
       "    nav_element.append(fmt_picker_span);\n",
       "    this.format_dropdown = fmt_picker[0];\n",
       "\n",
       "    for (var ind in mpl.extensions) {\n",
       "        var fmt = mpl.extensions[ind];\n",
       "        var option = $(\n",
       "            '<option/>', {selected: fmt === mpl.default_extension}).html(fmt);\n",
       "        fmt_picker.append(option)\n",
       "    }\n",
       "\n",
       "    // Add hover states to the ui-buttons\n",
       "    $( \".ui-button\" ).hover(\n",
       "        function() { $(this).addClass(\"ui-state-hover\");},\n",
       "        function() { $(this).removeClass(\"ui-state-hover\");}\n",
       "    );\n",
       "\n",
       "    var status_bar = $('<span class=\"mpl-message\"/>');\n",
       "    nav_element.append(status_bar);\n",
       "    this.message = status_bar[0];\n",
       "}\n",
       "\n",
       "mpl.figure.prototype.request_resize = function(x_pixels, y_pixels) {\n",
       "    // Request matplotlib to resize the figure. Matplotlib will then trigger a resize in the client,\n",
       "    // which will in turn request a refresh of the image.\n",
       "    this.send_message('resize', {'width': x_pixels, 'height': y_pixels});\n",
       "}\n",
       "\n",
       "mpl.figure.prototype.send_message = function(type, properties) {\n",
       "    properties['type'] = type;\n",
       "    properties['figure_id'] = this.id;\n",
       "    this.ws.send(JSON.stringify(properties));\n",
       "}\n",
       "\n",
       "mpl.figure.prototype.send_draw_message = function() {\n",
       "    if (!this.waiting) {\n",
       "        this.waiting = true;\n",
       "        this.ws.send(JSON.stringify({type: \"draw\", figure_id: this.id}));\n",
       "    }\n",
       "}\n",
       "\n",
       "\n",
       "mpl.figure.prototype.handle_save = function(fig, msg) {\n",
       "    var format_dropdown = fig.format_dropdown;\n",
       "    var format = format_dropdown.options[format_dropdown.selectedIndex].value;\n",
       "    fig.ondownload(fig, format);\n",
       "}\n",
       "\n",
       "\n",
       "mpl.figure.prototype.handle_resize = function(fig, msg) {\n",
       "    var size = msg['size'];\n",
       "    if (size[0] != fig.canvas.width || size[1] != fig.canvas.height) {\n",
       "        fig._resize_canvas(size[0], size[1]);\n",
       "        fig.send_message(\"refresh\", {});\n",
       "    };\n",
       "}\n",
       "\n",
       "mpl.figure.prototype.handle_rubberband = function(fig, msg) {\n",
       "    var x0 = msg['x0'] / mpl.ratio;\n",
       "    var y0 = (fig.canvas.height - msg['y0']) / mpl.ratio;\n",
       "    var x1 = msg['x1'] / mpl.ratio;\n",
       "    var y1 = (fig.canvas.height - msg['y1']) / mpl.ratio;\n",
       "    x0 = Math.floor(x0) + 0.5;\n",
       "    y0 = Math.floor(y0) + 0.5;\n",
       "    x1 = Math.floor(x1) + 0.5;\n",
       "    y1 = Math.floor(y1) + 0.5;\n",
       "    var min_x = Math.min(x0, x1);\n",
       "    var min_y = Math.min(y0, y1);\n",
       "    var width = Math.abs(x1 - x0);\n",
       "    var height = Math.abs(y1 - y0);\n",
       "\n",
       "    fig.rubberband_context.clearRect(\n",
       "        0, 0, fig.canvas.width, fig.canvas.height);\n",
       "\n",
       "    fig.rubberband_context.strokeRect(min_x, min_y, width, height);\n",
       "}\n",
       "\n",
       "mpl.figure.prototype.handle_figure_label = function(fig, msg) {\n",
       "    // Updates the figure title.\n",
       "    fig.header.textContent = msg['label'];\n",
       "}\n",
       "\n",
       "mpl.figure.prototype.handle_cursor = function(fig, msg) {\n",
       "    var cursor = msg['cursor'];\n",
       "    switch(cursor)\n",
       "    {\n",
       "    case 0:\n",
       "        cursor = 'pointer';\n",
       "        break;\n",
       "    case 1:\n",
       "        cursor = 'default';\n",
       "        break;\n",
       "    case 2:\n",
       "        cursor = 'crosshair';\n",
       "        break;\n",
       "    case 3:\n",
       "        cursor = 'move';\n",
       "        break;\n",
       "    }\n",
       "    fig.rubberband_canvas.style.cursor = cursor;\n",
       "}\n",
       "\n",
       "mpl.figure.prototype.handle_message = function(fig, msg) {\n",
       "    fig.message.textContent = msg['message'];\n",
       "}\n",
       "\n",
       "mpl.figure.prototype.handle_draw = function(fig, msg) {\n",
       "    // Request the server to send over a new figure.\n",
       "    fig.send_draw_message();\n",
       "}\n",
       "\n",
       "mpl.figure.prototype.handle_image_mode = function(fig, msg) {\n",
       "    fig.image_mode = msg['mode'];\n",
       "}\n",
       "\n",
       "mpl.figure.prototype.updated_canvas_event = function() {\n",
       "    // Called whenever the canvas gets updated.\n",
       "    this.send_message(\"ack\", {});\n",
       "}\n",
       "\n",
       "// A function to construct a web socket function for onmessage handling.\n",
       "// Called in the figure constructor.\n",
       "mpl.figure.prototype._make_on_message_function = function(fig) {\n",
       "    return function socket_on_message(evt) {\n",
       "        if (evt.data instanceof Blob) {\n",
       "            /* FIXME: We get \"Resource interpreted as Image but\n",
       "             * transferred with MIME type text/plain:\" errors on\n",
       "             * Chrome.  But how to set the MIME type?  It doesn't seem\n",
       "             * to be part of the websocket stream */\n",
       "            evt.data.type = \"image/png\";\n",
       "\n",
       "            /* Free the memory for the previous frames */\n",
       "            if (fig.imageObj.src) {\n",
       "                (window.URL || window.webkitURL).revokeObjectURL(\n",
       "                    fig.imageObj.src);\n",
       "            }\n",
       "\n",
       "            fig.imageObj.src = (window.URL || window.webkitURL).createObjectURL(\n",
       "                evt.data);\n",
       "            fig.updated_canvas_event();\n",
       "            fig.waiting = false;\n",
       "            return;\n",
       "        }\n",
       "        else if (typeof evt.data === 'string' && evt.data.slice(0, 21) == \"data:image/png;base64\") {\n",
       "            fig.imageObj.src = evt.data;\n",
       "            fig.updated_canvas_event();\n",
       "            fig.waiting = false;\n",
       "            return;\n",
       "        }\n",
       "\n",
       "        var msg = JSON.parse(evt.data);\n",
       "        var msg_type = msg['type'];\n",
       "\n",
       "        // Call the  \"handle_{type}\" callback, which takes\n",
       "        // the figure and JSON message as its only arguments.\n",
       "        try {\n",
       "            var callback = fig[\"handle_\" + msg_type];\n",
       "        } catch (e) {\n",
       "            console.log(\"No handler for the '\" + msg_type + \"' message type: \", msg);\n",
       "            return;\n",
       "        }\n",
       "\n",
       "        if (callback) {\n",
       "            try {\n",
       "                // console.log(\"Handling '\" + msg_type + \"' message: \", msg);\n",
       "                callback(fig, msg);\n",
       "            } catch (e) {\n",
       "                console.log(\"Exception inside the 'handler_\" + msg_type + \"' callback:\", e, e.stack, msg);\n",
       "            }\n",
       "        }\n",
       "    };\n",
       "}\n",
       "\n",
       "// from http://stackoverflow.com/questions/1114465/getting-mouse-location-in-canvas\n",
       "mpl.findpos = function(e) {\n",
       "    //this section is from http://www.quirksmode.org/js/events_properties.html\n",
       "    var targ;\n",
       "    if (!e)\n",
       "        e = window.event;\n",
       "    if (e.target)\n",
       "        targ = e.target;\n",
       "    else if (e.srcElement)\n",
       "        targ = e.srcElement;\n",
       "    if (targ.nodeType == 3) // defeat Safari bug\n",
       "        targ = targ.parentNode;\n",
       "\n",
       "    // jQuery normalizes the pageX and pageY\n",
       "    // pageX,Y are the mouse positions relative to the document\n",
       "    // offset() returns the position of the element relative to the document\n",
       "    var x = e.pageX - $(targ).offset().left;\n",
       "    var y = e.pageY - $(targ).offset().top;\n",
       "\n",
       "    return {\"x\": x, \"y\": y};\n",
       "};\n",
       "\n",
       "/*\n",
       " * return a copy of an object with only non-object keys\n",
       " * we need this to avoid circular references\n",
       " * http://stackoverflow.com/a/24161582/3208463\n",
       " */\n",
       "function simpleKeys (original) {\n",
       "  return Object.keys(original).reduce(function (obj, key) {\n",
       "    if (typeof original[key] !== 'object')\n",
       "        obj[key] = original[key]\n",
       "    return obj;\n",
       "  }, {});\n",
       "}\n",
       "\n",
       "mpl.figure.prototype.mouse_event = function(event, name) {\n",
       "    var canvas_pos = mpl.findpos(event)\n",
       "\n",
       "    if (name === 'button_press')\n",
       "    {\n",
       "        this.canvas.focus();\n",
       "        this.canvas_div.focus();\n",
       "    }\n",
       "\n",
       "    var x = canvas_pos.x * mpl.ratio;\n",
       "    var y = canvas_pos.y * mpl.ratio;\n",
       "\n",
       "    this.send_message(name, {x: x, y: y, button: event.button,\n",
       "                             step: event.step,\n",
       "                             guiEvent: simpleKeys(event)});\n",
       "\n",
       "    /* This prevents the web browser from automatically changing to\n",
       "     * the text insertion cursor when the button is pressed.  We want\n",
       "     * to control all of the cursor setting manually through the\n",
       "     * 'cursor' event from matplotlib */\n",
       "    event.preventDefault();\n",
       "    return false;\n",
       "}\n",
       "\n",
       "mpl.figure.prototype._key_event_extra = function(event, name) {\n",
       "    // Handle any extra behaviour associated with a key event\n",
       "}\n",
       "\n",
       "mpl.figure.prototype.key_event = function(event, name) {\n",
       "\n",
       "    // Prevent repeat events\n",
       "    if (name == 'key_press')\n",
       "    {\n",
       "        if (event.which === this._key)\n",
       "            return;\n",
       "        else\n",
       "            this._key = event.which;\n",
       "    }\n",
       "    if (name == 'key_release')\n",
       "        this._key = null;\n",
       "\n",
       "    var value = '';\n",
       "    if (event.ctrlKey && event.which != 17)\n",
       "        value += \"ctrl+\";\n",
       "    if (event.altKey && event.which != 18)\n",
       "        value += \"alt+\";\n",
       "    if (event.shiftKey && event.which != 16)\n",
       "        value += \"shift+\";\n",
       "\n",
       "    value += 'k';\n",
       "    value += event.which.toString();\n",
       "\n",
       "    this._key_event_extra(event, name);\n",
       "\n",
       "    this.send_message(name, {key: value,\n",
       "                             guiEvent: simpleKeys(event)});\n",
       "    return false;\n",
       "}\n",
       "\n",
       "mpl.figure.prototype.toolbar_button_onclick = function(name) {\n",
       "    if (name == 'download') {\n",
       "        this.handle_save(this, null);\n",
       "    } else {\n",
       "        this.send_message(\"toolbar_button\", {name: name});\n",
       "    }\n",
       "};\n",
       "\n",
       "mpl.figure.prototype.toolbar_button_onmouseover = function(tooltip) {\n",
       "    this.message.textContent = tooltip;\n",
       "};\n",
       "mpl.toolbar_items = [[\"Home\", \"Reset original view\", \"fa fa-home icon-home\", \"home\"], [\"Back\", \"Back to previous view\", \"fa fa-arrow-left icon-arrow-left\", \"back\"], [\"Forward\", \"Forward to next view\", \"fa fa-arrow-right icon-arrow-right\", \"forward\"], [\"\", \"\", \"\", \"\"], [\"Pan\", \"Pan axes with left mouse, zoom with right\", \"fa fa-arrows icon-move\", \"pan\"], [\"Zoom\", \"Zoom to rectangle\", \"fa fa-square-o icon-check-empty\", \"zoom\"], [\"\", \"\", \"\", \"\"], [\"Download\", \"Download plot\", \"fa fa-floppy-o icon-save\", \"download\"]];\n",
       "\n",
       "mpl.extensions = [\"eps\", \"jpeg\", \"pdf\", \"png\", \"ps\", \"raw\", \"svg\", \"tif\"];\n",
       "\n",
       "mpl.default_extension = \"png\";var comm_websocket_adapter = function(comm) {\n",
       "    // Create a \"websocket\"-like object which calls the given IPython comm\n",
       "    // object with the appropriate methods. Currently this is a non binary\n",
       "    // socket, so there is still some room for performance tuning.\n",
       "    var ws = {};\n",
       "\n",
       "    ws.close = function() {\n",
       "        comm.close()\n",
       "    };\n",
       "    ws.send = function(m) {\n",
       "        //console.log('sending', m);\n",
       "        comm.send(m);\n",
       "    };\n",
       "    // Register the callback with on_msg.\n",
       "    comm.on_msg(function(msg) {\n",
       "        //console.log('receiving', msg['content']['data'], msg);\n",
       "        // Pass the mpl event to the overridden (by mpl) onmessage function.\n",
       "        ws.onmessage(msg['content']['data'])\n",
       "    });\n",
       "    return ws;\n",
       "}\n",
       "\n",
       "mpl.mpl_figure_comm = function(comm, msg) {\n",
       "    // This is the function which gets called when the mpl process\n",
       "    // starts-up an IPython Comm through the \"matplotlib\" channel.\n",
       "\n",
       "    var id = msg.content.data.id;\n",
       "    // Get hold of the div created by the display call when the Comm\n",
       "    // socket was opened in Python.\n",
       "    var element = $(\"#\" + id);\n",
       "    var ws_proxy = comm_websocket_adapter(comm)\n",
       "\n",
       "    function ondownload(figure, format) {\n",
       "        window.open(figure.imageObj.src);\n",
       "    }\n",
       "\n",
       "    var fig = new mpl.figure(id, ws_proxy,\n",
       "                           ondownload,\n",
       "                           element.get(0));\n",
       "\n",
       "    // Call onopen now - mpl needs it, as it is assuming we've passed it a real\n",
       "    // web socket which is closed, not our websocket->open comm proxy.\n",
       "    ws_proxy.onopen();\n",
       "\n",
       "    fig.parent_element = element.get(0);\n",
       "    fig.cell_info = mpl.find_output_cell(\"<div id='\" + id + \"'></div>\");\n",
       "    if (!fig.cell_info) {\n",
       "        console.error(\"Failed to find cell for figure\", id, fig);\n",
       "        return;\n",
       "    }\n",
       "\n",
       "    var output_index = fig.cell_info[2]\n",
       "    var cell = fig.cell_info[0];\n",
       "\n",
       "};\n",
       "\n",
       "mpl.figure.prototype.handle_close = function(fig, msg) {\n",
       "    var width = fig.canvas.width/mpl.ratio\n",
       "    fig.root.unbind('remove')\n",
       "\n",
       "    // Update the output cell to use the data from the current canvas.\n",
       "    fig.push_to_output();\n",
       "    var dataURL = fig.canvas.toDataURL();\n",
       "    // Re-enable the keyboard manager in IPython - without this line, in FF,\n",
       "    // the notebook keyboard shortcuts fail.\n",
       "    IPython.keyboard_manager.enable()\n",
       "    $(fig.parent_element).html('<img src=\"' + dataURL + '\" width=\"' + width + '\">');\n",
       "    fig.close_ws(fig, msg);\n",
       "}\n",
       "\n",
       "mpl.figure.prototype.close_ws = function(fig, msg){\n",
       "    fig.send_message('closing', msg);\n",
       "    // fig.ws.close()\n",
       "}\n",
       "\n",
       "mpl.figure.prototype.push_to_output = function(remove_interactive) {\n",
       "    // Turn the data on the canvas into data in the output cell.\n",
       "    var width = this.canvas.width/mpl.ratio\n",
       "    var dataURL = this.canvas.toDataURL();\n",
       "    this.cell_info[1]['text/html'] = '<img src=\"' + dataURL + '\" width=\"' + width + '\">';\n",
       "}\n",
       "\n",
       "mpl.figure.prototype.updated_canvas_event = function() {\n",
       "    // Tell IPython that the notebook contents must change.\n",
       "    IPython.notebook.set_dirty(true);\n",
       "    this.send_message(\"ack\", {});\n",
       "    var fig = this;\n",
       "    // Wait a second, then push the new image to the DOM so\n",
       "    // that it is saved nicely (might be nice to debounce this).\n",
       "    setTimeout(function () { fig.push_to_output() }, 1000);\n",
       "}\n",
       "\n",
       "mpl.figure.prototype._init_toolbar = function() {\n",
       "    var fig = this;\n",
       "\n",
       "    var nav_element = $('<div/>')\n",
       "    nav_element.attr('style', 'width: 100%');\n",
       "    this.root.append(nav_element);\n",
       "\n",
       "    // Define a callback function for later on.\n",
       "    function toolbar_event(event) {\n",
       "        return fig.toolbar_button_onclick(event['data']);\n",
       "    }\n",
       "    function toolbar_mouse_event(event) {\n",
       "        return fig.toolbar_button_onmouseover(event['data']);\n",
       "    }\n",
       "\n",
       "    for(var toolbar_ind in mpl.toolbar_items){\n",
       "        var name = mpl.toolbar_items[toolbar_ind][0];\n",
       "        var tooltip = mpl.toolbar_items[toolbar_ind][1];\n",
       "        var image = mpl.toolbar_items[toolbar_ind][2];\n",
       "        var method_name = mpl.toolbar_items[toolbar_ind][3];\n",
       "\n",
       "        if (!name) { continue; };\n",
       "\n",
       "        var button = $('<button class=\"btn btn-default\" href=\"#\" title=\"' + name + '\"><i class=\"fa ' + image + ' fa-lg\"></i></button>');\n",
       "        button.click(method_name, toolbar_event);\n",
       "        button.mouseover(tooltip, toolbar_mouse_event);\n",
       "        nav_element.append(button);\n",
       "    }\n",
       "\n",
       "    // Add the status bar.\n",
       "    var status_bar = $('<span class=\"mpl-message\" style=\"text-align:right; float: right;\"/>');\n",
       "    nav_element.append(status_bar);\n",
       "    this.message = status_bar[0];\n",
       "\n",
       "    // Add the close button to the window.\n",
       "    var buttongrp = $('<div class=\"btn-group inline pull-right\"></div>');\n",
       "    var button = $('<button class=\"btn btn-mini btn-primary\" href=\"#\" title=\"Stop Interaction\"><i class=\"fa fa-power-off icon-remove icon-large\"></i></button>');\n",
       "    button.click(function (evt) { fig.handle_close(fig, {}); } );\n",
       "    button.mouseover('Stop Interaction', toolbar_mouse_event);\n",
       "    buttongrp.append(button);\n",
       "    var titlebar = this.root.find($('.ui-dialog-titlebar'));\n",
       "    titlebar.prepend(buttongrp);\n",
       "}\n",
       "\n",
       "mpl.figure.prototype._root_extra_style = function(el){\n",
       "    var fig = this\n",
       "    el.on(\"remove\", function(){\n",
       "\tfig.close_ws(fig, {});\n",
       "    });\n",
       "}\n",
       "\n",
       "mpl.figure.prototype._canvas_extra_style = function(el){\n",
       "    // this is important to make the div 'focusable\n",
       "    el.attr('tabindex', 0)\n",
       "    // reach out to IPython and tell the keyboard manager to turn it's self\n",
       "    // off when our div gets focus\n",
       "\n",
       "    // location in version 3\n",
       "    if (IPython.notebook.keyboard_manager) {\n",
       "        IPython.notebook.keyboard_manager.register_events(el);\n",
       "    }\n",
       "    else {\n",
       "        // location in version 2\n",
       "        IPython.keyboard_manager.register_events(el);\n",
       "    }\n",
       "\n",
       "}\n",
       "\n",
       "mpl.figure.prototype._key_event_extra = function(event, name) {\n",
       "    var manager = IPython.notebook.keyboard_manager;\n",
       "    if (!manager)\n",
       "        manager = IPython.keyboard_manager;\n",
       "\n",
       "    // Check for shift+enter\n",
       "    if (event.shiftKey && event.which == 13) {\n",
       "        this.canvas_div.blur();\n",
       "        event.shiftKey = false;\n",
       "        // Send a \"J\" for go to next cell\n",
       "        event.which = 74;\n",
       "        event.keyCode = 74;\n",
       "        manager.command_mode();\n",
       "        manager.handle_keydown(event);\n",
       "    }\n",
       "}\n",
       "\n",
       "mpl.figure.prototype.handle_save = function(fig, msg) {\n",
       "    fig.ondownload(fig, null);\n",
       "}\n",
       "\n",
       "\n",
       "mpl.find_output_cell = function(html_output) {\n",
       "    // Return the cell and output element which can be found *uniquely* in the notebook.\n",
       "    // Note - this is a bit hacky, but it is done because the \"notebook_saving.Notebook\"\n",
       "    // IPython event is triggered only after the cells have been serialised, which for\n",
       "    // our purposes (turning an active figure into a static one), is too late.\n",
       "    var cells = IPython.notebook.get_cells();\n",
       "    var ncells = cells.length;\n",
       "    for (var i=0; i<ncells; i++) {\n",
       "        var cell = cells[i];\n",
       "        if (cell.cell_type === 'code'){\n",
       "            for (var j=0; j<cell.output_area.outputs.length; j++) {\n",
       "                var data = cell.output_area.outputs[j];\n",
       "                if (data.data) {\n",
       "                    // IPython >= 3 moved mimebundle to data attribute of output\n",
       "                    data = data.data;\n",
       "                }\n",
       "                if (data['text/html'] == html_output) {\n",
       "                    return [cell, data, j];\n",
       "                }\n",
       "            }\n",
       "        }\n",
       "    }\n",
       "}\n",
       "\n",
       "// Register the function which deals with the matplotlib target/channel.\n",
       "// The kernel may be null if the page has been refreshed.\n",
       "if (IPython.notebook.kernel != null) {\n",
       "    IPython.notebook.kernel.comm_manager.register_target('matplotlib', mpl.mpl_figure_comm);\n",
       "}\n"
      ],
      "text/plain": [
       "<IPython.core.display.Javascript object>"
      ]
     },
     "metadata": {},
     "output_type": "display_data"
    },
    {
     "data": {
      "text/html": [
       "<img src=\"data:image/png;base64,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\" width=\"640\">"
      ],
      "text/plain": [
       "<IPython.core.display.HTML object>"
      ]
     },
     "metadata": {},
     "output_type": "display_data"
    }
   ],
   "source": [
    "plt.figure()\n",
    "plt.plot(data_n)\n",
    "plt.plot(data_qmf)\n",
    "plt.show()"
   ]
  },
  {
   "cell_type": "markdown",
   "metadata": {
    "heading_collapsed": true
   },
   "source": [
    "## Filter iterator"
   ]
  },
  {
   "cell_type": "code",
   "execution_count": 38,
   "metadata": {
    "ExecuteTime": {
     "end_time": "2019-09-11T18:43:53.444184Z",
     "start_time": "2019-09-11T18:43:53.206231Z"
    },
    "hidden": true,
    "scrolled": true
   },
   "outputs": [
    {
     "data": {
      "image/png": "[encoded data removed]",
      "text/plain": [
       "<Figure size 432x288 with 1 Axes>"
      ]
     },
     "metadata": {
      "needs_background": "light"
     },
     "output_type": "display_data"
    }
   ],
   "source": [
    "%matplotlib inline\n",
    "h = filter_iterator([1,1], [1,-1], 4)\n",
    "plt.figure()\n",
    "for n in range(len(h)):\n",
    "    plt.plot(h[n], label=str(n))\n",
    "    plt.legend()\n",
    "plt.show()"
   ]
  },
  {
   "cell_type": "markdown",
   "metadata": {
    "heading_collapsed": true
   },
   "source": [
    "## General QMF Filter Decomposition"
   ]
  },
  {
   "cell_type": "code",
   "execution_count": 63,
   "metadata": {
    "ExecuteTime": {
     "end_time": "2019-09-13T18:17:09.161202Z",
     "start_time": "2019-09-13T18:17:09.153372Z"
    },
    "hidden": true
   },
   "outputs": [],
   "source": [
    "def qmf_decomposition(x, h0, h1, levels):\n",
    "    h = filter_iterator(h0, h1, levels)\n",
    "    xdc = [0] * (levels + 1)\n",
    "    xd = []\n",
    "    downsample_factor = 2\n",
    "    for n in range(levels, 0, -1):\n",
    "        downsample_factor *= 2\n",
    "        xdc[n] = downsample(conv(h[n], x), downsample_factor)\n",
    "        xd = np.append(xdc[n], xd)\n",
    "    xdc[0] = downsample(conv(h[0], x), downsample_factor)\n",
    "    return xdc, xd"
   ]
  },
  {
   "cell_type": "code",
   "execution_count": 51,
   "metadata": {
    "ExecuteTime": {
     "end_time": "2019-09-13T18:13:57.395932Z",
     "start_time": "2019-09-13T18:13:57.227520Z"
    },
    "hidden": true
   },
   "outputs": [],
   "source": [
    "data = loadmat('sinais_ecg/ecg06.mat')\n",
    "data = np.array(data['x'])\n",
    "data_n = data[:1024,0]"
   ]
  },
  {
   "cell_type": "code",
   "execution_count": 41,
   "metadata": {
    "ExecuteTime": {
     "end_time": "2019-09-13T18:11:20.909045Z",
     "start_time": "2019-09-13T18:11:20.900123Z"
    },
    "hidden": true
   },
   "outputs": [],
   "source": [
    "h0 =  [0.0033357253,-0.0125807520,-0.0062414902,0.0775714938,-0.0322448696,\n",
    "       -0.2422948871,0.1384281459,0.7243085284,0.6038292698,0.1601023980]\n",
    "h1 = [-0.1601023980,0.6038292698,-0.7243085284,0.1384281459,0.2422948871,\n",
    "    -0.0322448696,-0.0775714938,-0.0062414902,0.0125807520,0.0033357253]"
   ]
  },
  {
   "cell_type": "code",
   "execution_count": 64,
   "metadata": {
    "ExecuteTime": {
     "end_time": "2019-09-13T18:17:13.945742Z",
     "start_time": "2019-09-13T18:17:13.941741Z"
    },
    "hidden": true
   },
   "outputs": [],
   "source": [
    "xdc, xd = qmf_decomposition(data_n, h0, h1, 1)"
   ]
  },
  {
   "cell_type": "markdown",
   "metadata": {},
   "source": [
    "## General Filter Reconstruction"
   ]
  },
  {
   "cell_type": "code",
   "execution_count": null,
   "metadata": {},
   "outputs": [],
   "source": [
    "def qmf_decomposition(xdc, h0, h1, g0, g1, d):\n",
    "    levels = len(xdc) - 1\n",
    "    compensatory_delay = d\n",
    "    for n range(2, len(xdc) + 1):\n",
    "        xdc[n] = np.append(np.zeros(compensatory_delay, 1), xdc[n])\n",
    "        compensatory_delay = compensatory_delay + 2^(n-2)*d\n",
    "    return x, xd, delay"
   ]
  },
  {
   "cell_type": "code",
   "execution_count": 21,
   "metadata": {
    "ExecuteTime": {
     "end_time": "2019-09-18T18:09:28.868369Z",
     "start_time": "2019-09-18T18:09:28.863439Z"
    }
   },
   "outputs": [],
   "source": [
    "a = np.zeros([10, 1])"
   ]
  },
  {
   "cell_type": "code",
   "execution_count": 22,
   "metadata": {
    "ExecuteTime": {
     "end_time": "2019-09-18T18:09:29.642501Z",
     "start_time": "2019-09-18T18:09:29.635277Z"
    }
   },
   "outputs": [
    {
     "data": {
      "text/plain": [
       "array([[ 0.],\n",
       "       [ 0.],\n",
       "       [ 0.],\n",
       "       [ 0.],\n",
       "       [ 0.],\n",
       "       [ 0.],\n",
       "       [ 0.],\n",
       "       [ 0.],\n",
       "       [ 0.],\n",
       "       [ 0.]])"
      ]
     },
     "execution_count": 22,
     "metadata": {},
     "output_type": "execute_result"
    }
   ],
   "source": [
    "a"
   ]
  },
  {
   "cell_type": "code",
   "execution_count": null,
   "metadata": {},
   "outputs": [],
   "source": []
  }
 ],
 "metadata": {
  "kernelspec": {
   "display_name": "Python 3",
   "language": "python",
   "name": "python3"
  },
  "language_info": {
   "codemirror_mode": {
    "name": "ipython",
    "version": 3
   },
   "file_extension": ".py",
   "mimetype": "text/x-python",
   "name": "python",
   "nbconvert_exporter": "python",
   "pygments_lexer": "ipython3",
   "version": "3.6.8"
  },
  "latex_envs": {
   "LaTeX_envs_menu_present": true,
   "autoclose": false,
   "autocomplete": true,
   "bibliofile": "biblio.bib",
   "cite_by": "apalike",
   "current_citInitial": 1,
   "eqLabelWithNumbers": true,
   "eqNumInitial": 1,
   "hotkeys": {
    "equation": "Ctrl-E",
    "itemize": "Ctrl-I"
   },
   "labels_anchors": false,
   "latex_user_defs": false,
   "report_style_numbering": false,
   "user_envs_cfg": false
  },
  "toc": {
   "base_numbering": 1,
   "nav_menu": {},
   "number_sections": true,
   "sideBar": true,
   "skip_h1_title": false,
   "title_cell": "Table of Contents",
   "title_sidebar": "Contents",
   "toc_cell": false,
   "toc_position": {},
   "toc_section_display": true,
   "toc_window_display": true
  },
  "varInspector": {
   "cols": {
    "lenName": 16,
    "lenType": 16,
    "lenVar": 40
   },
   "kernels_config": {
    "python": {
     "delete_cmd_postfix": "",
     "delete_cmd_prefix": "del ",
     "library": "var_list.py",
     "varRefreshCmd": "print(var_dic_list())"
    },
    "r": {
     "delete_cmd_postfix": ") ",
     "delete_cmd_prefix": "rm(",
     "library": "var_list.r",
     "varRefreshCmd": "cat(var_dic_list()) "
    }
   },
   "types_to_exclude": [
    "module",
    "function",
    "builtin_function_or_method",
    "instance",
    "_Feature"
   ],
   "window_display": false
  }
 },
 "nbformat": 4,
 "nbformat_minor": 2
}
