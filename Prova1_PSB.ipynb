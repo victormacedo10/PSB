{
 "cells": [
  {
   "cell_type": "code",
   "execution_count": 2,
   "metadata": {
    "ExecuteTime": {
     "end_time": "2019-11-22T17:12:24.371280Z",
     "start_time": "2019-11-22T17:11:50.234204Z"
    }
   },
   "outputs": [
    {
     "data": {
      "text/html": [
       "<style>\n",
       ".output {\n",
       "    align-items: center;\n",
       "}\n",
       "</style>"
      ],
      "text/plain": [
       "<IPython.core.display.HTML object>"
      ]
     },
     "execution_count": 2,
     "metadata": {},
     "output_type": "execute_result"
    }
   ],
   "source": [
    "# change to \"%matplotlib notebook\" to get interative plot with zoom functionalities \n",
    "%matplotlib inline\n",
    "#%matplotlib notebook\n",
    "import numpy as np\n",
    "import matplotlib.pyplot as plt\n",
    "import pandas as pd\n",
    "from mat4py import loadmat\n",
    "from numpy import convolve as conv\n",
    "from scipy.signal import *\n",
    "from sklearn.svm import SVC\n",
    "from sklearn.metrics import confusion_matrix\n",
    "from matplotlib.colors import ListedColormap\n",
    "from sklearn.model_selection import train_test_split\n",
    "from IPython.display import display, HTML\n",
    "from IPython.display import display, Math\n",
    "np.set_printoptions(formatter={'float_kind':'{0:.4f}'.format})\n",
    "CSS = \"\"\"\n",
    ".output {\n",
    "    align-items: center;\n",
    "}\n",
    "\"\"\"\n",
    "\n",
    "HTML('<style>{}</style>'.format(CSS))"
   ]
  },
  {
   "cell_type": "markdown",
   "metadata": {},
   "source": [
    "# Primeira Questão"
   ]
  },
  {
   "cell_type": "code",
   "execution_count": 22,
   "metadata": {
    "ExecuteTime": {
     "end_time": "2019-11-22T00:01:05.724469Z",
     "start_time": "2019-11-22T00:01:05.719472Z"
    }
   },
   "outputs": [],
   "source": [
    "Ha = np.array([-.3327, .8069, -.4599, -.1350, .0854, .0352])\n",
    "Hb = np.array([.0352, -.0854, -.1350, .4599, .8069, .3327])\n",
    "Ga = np.array([.3327, .8069, .4599, -.1350, -.0854, .0352])\n",
    "Gb = np.array([.0352, .0854, -.1350, -.4599, .8069, -.3327])"
   ]
  },
  {
   "cell_type": "markdown",
   "metadata": {},
   "source": [
    "## d)"
   ]
  },
  {
   "cell_type": "markdown",
   "metadata": {},
   "source": [
    "Para classificar os filtros acima em passa-baixa, passa-faixa, rejeita-faixa ou passa-alta, fazemos $H(z) = H(e^{j\\omega})$ e em seguida criamos um vetor de frequências (em radianos) para plotar o gráfico da magnitude da resposta em frequência. Assim, a partir desse gráfico é possível definir o tipo de cada filtro."
   ]
  },
  {
   "cell_type": "code",
   "execution_count": 23,
   "metadata": {
    "ExecuteTime": {
     "end_time": "2019-11-22T00:01:06.383995Z",
     "start_time": "2019-11-22T00:01:06.358012Z"
    }
   },
   "outputs": [],
   "source": [
    "n = 10000\n",
    "jw_vec = np.tile(np.arange(6)*-1j, (n,1))\n",
    "w_vec = np.linspace(0, 3, 10000)\n",
    "jw_array = jw_vec * w_vec[:, np.newaxis]\n",
    "ejw_array = np.power(np.e, jw_array)\n",
    "Ha_freqz = np.matmul(ejw_array, Ha)\n",
    "Hb_freqz = np.matmul(ejw_array, Hb)\n",
    "Ga_freqz = np.matmul(ejw_array, Ga)\n",
    "Gb_freqz = np.matmul(ejw_array, Gb)"
   ]
  },
  {
   "cell_type": "code",
   "execution_count": 24,
   "metadata": {
    "ExecuteTime": {
     "end_time": "2019-11-22T00:01:07.440392Z",
     "start_time": "2019-11-22T00:01:06.506927Z"
    },
    "scrolled": true
   },
   "outputs": [
    {
     "data": {
      "image/png": "[encoded data removed]",
      "text/plain": [
       "<Figure size 1080x216 with 4 Axes>"
      ]
     },
     "metadata": {
      "needs_background": "light"
     },
     "output_type": "display_data"
    }
   ],
   "source": [
    "plt.figure(figsize=[15,3])\n",
    "plt.subplot(141)\n",
    "plt.title(\"Ha Filter\")\n",
    "plt.plot(w_vec, np.abs(Ha_freqz))\n",
    "plt.grid()\n",
    "plt.subplot(142)\n",
    "plt.title(\"Hb Filter\")\n",
    "plt.plot(w_vec, np.abs(Hb_freqz))\n",
    "plt.grid()\n",
    "plt.subplot(143)\n",
    "plt.title(\"Ga Filter\")\n",
    "plt.plot(w_vec, np.abs(Ga_freqz))\n",
    "plt.grid()\n",
    "plt.subplot(144)\n",
    "plt.title(\"Gb Filter\")\n",
    "plt.plot(w_vec, np.abs(Gb_freqz))\n",
    "plt.grid()\n",
    "plt.show()"
   ]
  },
  {
   "cell_type": "markdown",
   "metadata": {},
   "source": [
    "Analisando os gráficos acima, determinamos que os filtros são:\n",
    "- Ha -> Passa-alta\n",
    "- Hb -> Passa baixa\n",
    "- Ga -> Passa baixa\n",
    "- Gb -> Passa alta"
   ]
  },
  {
   "cell_type": "markdown",
   "metadata": {},
   "source": [
    "Assim, a configuração adequada dos filtros no banco QMF seria:\n",
    "\n",
    "![image](images/qmf_1d.png)"
   ]
  },
  {
   "cell_type": "markdown",
   "metadata": {
    "ExecuteTime": {
     "end_time": "2019-11-17T20:54:38.782716Z",
     "start_time": "2019-11-17T20:54:38.774739Z"
    }
   },
   "source": [
    "**Condições para reconstrução perfeita**"
   ]
  },
  {
   "cell_type": "markdown",
   "metadata": {},
   "source": [
    "- Condição 1:\n",
    "\n",
    "$$H_b(-z)G_a(z) + H_a(-z)G_b(z) = 0$$\n",
    "\n",
    "Como a multiplicação polinomial pode ser realizada por meio de uma convolução, temos que:\n",
    "\n",
    "$$H_b(-z)*G_a(z) + H_a(-z)*G_b(z) = 0$$\n",
    "\n",
    "Podemos trabalhar os filtros como vetores, de forma que:"
   ]
  },
  {
   "cell_type": "code",
   "execution_count": 25,
   "metadata": {
    "ExecuteTime": {
     "end_time": "2019-11-22T00:01:08.123261Z",
     "start_time": "2019-11-22T00:01:08.112269Z"
    }
   },
   "outputs": [
    {
     "name": "stdout",
     "output_type": "stream",
     "text": [
      "H_b(z) = [0.0352 -0.0854 -0.1350 0.4599 0.8069 0.3327]\n",
      "H_a(z) = [-0.3327 0.8069 -0.4599 -0.1350 0.0854 0.0352]\n",
      "H_b(-z) = [0.0352 0.0854 -0.1350 -0.4599 0.8069 -0.3327]\n",
      "H_a(-z) = [-0.3327 -0.8069 -0.4599 0.1350 0.0854 -0.0352]\n"
     ]
    }
   ],
   "source": [
    "Ha_ = np.array(Ha)\n",
    "Ha_[1:len(Ha_):2] = -Ha_[1:len(Ha_):2]\n",
    "Hb_ = np.array(Hb)\n",
    "Hb_[1:len(Hb_):2] = -Hb_[1:len(Hb_):2]\n",
    "print(\"H_b(z) = {}\".format(Hb))\n",
    "print(\"H_a(z) = {}\".format(Ha))\n",
    "print(\"H_b(-z) = {}\".format(Hb_))\n",
    "print(\"H_a(-z) = {}\".format(Ha_))"
   ]
  },
  {
   "cell_type": "markdown",
   "metadata": {},
   "source": [
    "Aplicando a convolução temos que:"
   ]
  },
  {
   "cell_type": "code",
   "execution_count": 26,
   "metadata": {
    "ExecuteTime": {
     "end_time": "2019-11-22T00:01:08.576005Z",
     "start_time": "2019-11-22T00:01:08.567007Z"
    },
    "scrolled": true
   },
   "outputs": [
    {
     "name": "stdout",
     "output_type": "stream",
     "text": [
      "H_b(-z)*G_a(z) = [0.0117 0.0568 0.0402 -0.2274 -0.1793 0.3411 0.1793 -0.2274 -0.0402 0.0568\n",
      " -0.0117]\n",
      "H_a(-z)*G_b(z) = [-0.0117 -0.0568 -0.0402 0.2274 0.1793 -0.3411 -0.1793 0.2274 0.0402\n",
      " -0.0568 0.0117]\n"
     ]
    }
   ],
   "source": [
    "Hb_Ga = conv(Hb_, Ga)\n",
    "Ha_Gb = conv(Ha_, Gb)\n",
    "print(\"H_b(-z)*G_a(z) = {}\".format(Hb_Ga))\n",
    "print(\"H_a(-z)*G_b(z) = {}\".format(Ha_Gb))"
   ]
  },
  {
   "cell_type": "markdown",
   "metadata": {},
   "source": [
    "Finalmente, podemos somar os polinômios, obtendo:"
   ]
  },
  {
   "cell_type": "code",
   "execution_count": 27,
   "metadata": {
    "ExecuteTime": {
     "end_time": "2019-11-22T00:01:09.097706Z",
     "start_time": "2019-11-22T00:01:09.089712Z"
    },
    "scrolled": true
   },
   "outputs": [
    {
     "name": "stdout",
     "output_type": "stream",
     "text": [
      "H_b(-z)*G_a(z) + H_a(-z)*G_b(z) = [0.0000 0.0000 0.0000 0.0000 -0.0000 -0.0000 0.0000 0.0000 -0.0000 0.0000\n",
      " 0.0000]\n"
     ]
    }
   ],
   "source": [
    "def poly_sum(x, y):\n",
    "    x1 = np.zeros(max(len(x), len(y)))\n",
    "    y1 = np.copy(x1)\n",
    "    x1[:len(x)] = x\n",
    "    y1[:len(y)] = y\n",
    "    z = x1 + y1\n",
    "    return z\n",
    "alias_term = poly_sum(Hb_Ga, Ha_Gb)\n",
    "print(\"H_b(-z)*G_a(z) + H_a(-z)*G_b(z) = {}\".format(alias_term))"
   ]
  },
  {
   "cell_type": "markdown",
   "metadata": {},
   "source": [
    "Podemos considerar valores inferiores a 1e-4 como erro numérico e concluir que a primeira condição foi satisfeita."
   ]
  },
  {
   "cell_type": "code",
   "execution_count": 28,
   "metadata": {
    "ExecuteTime": {
     "end_time": "2019-11-22T00:01:09.789158Z",
     "start_time": "2019-11-22T00:01:09.772170Z"
    },
    "scrolled": true
   },
   "outputs": [
    {
     "ename": "NameError",
     "evalue": "name 'cond1_tol' is not defined",
     "output_type": "error",
     "traceback": [
      "\u001b[1;31m---------------------------------------------------------------------------\u001b[0m",
      "\u001b[1;31mNameError\u001b[0m                                 Traceback (most recent call last)",
      "\u001b[1;32m<ipython-input-28-4c61c7d9b537>\u001b[0m in \u001b[0;36m<module>\u001b[1;34m\u001b[0m\n\u001b[0;32m      1\u001b[0m \u001b[0mtol\u001b[0m \u001b[1;33m=\u001b[0m \u001b[1;36m1e-4\u001b[0m\u001b[1;33m\u001b[0m\u001b[1;33m\u001b[0m\u001b[0m\n\u001b[0;32m      2\u001b[0m \u001b[0malias_term_tol\u001b[0m \u001b[1;33m=\u001b[0m \u001b[0mnp\u001b[0m\u001b[1;33m.\u001b[0m\u001b[0mwhere\u001b[0m\u001b[1;33m(\u001b[0m\u001b[0mnp\u001b[0m\u001b[1;33m.\u001b[0m\u001b[0mabs\u001b[0m\u001b[1;33m(\u001b[0m\u001b[0malias_term\u001b[0m\u001b[1;33m)\u001b[0m \u001b[1;33m<\u001b[0m \u001b[0mtol\u001b[0m\u001b[1;33m,\u001b[0m \u001b[1;36m0\u001b[0m\u001b[1;33m,\u001b[0m \u001b[0malias_term\u001b[0m\u001b[1;33m)\u001b[0m\u001b[1;33m\u001b[0m\u001b[1;33m\u001b[0m\u001b[0m\n\u001b[1;32m----> 3\u001b[1;33m \u001b[0mprint\u001b[0m\u001b[1;33m(\u001b[0m\u001b[1;34m\"H_b(-z)*G_a(z) + H_a(-z)*G_b(z) = {}\"\u001b[0m\u001b[1;33m.\u001b[0m\u001b[0mformat\u001b[0m\u001b[1;33m(\u001b[0m\u001b[0mcond1_tol\u001b[0m\u001b[1;33m)\u001b[0m\u001b[1;33m)\u001b[0m\u001b[1;33m\u001b[0m\u001b[1;33m\u001b[0m\u001b[0m\n\u001b[0m\u001b[0;32m      4\u001b[0m \u001b[0mcond1\u001b[0m \u001b[1;33m=\u001b[0m \u001b[0mnp\u001b[0m\u001b[1;33m.\u001b[0m\u001b[0msum\u001b[0m\u001b[1;33m(\u001b[0m\u001b[0malias_term_tol\u001b[0m\u001b[1;33m)\u001b[0m \u001b[1;33m==\u001b[0m \u001b[1;36m0\u001b[0m\u001b[1;33m\u001b[0m\u001b[1;33m\u001b[0m\u001b[0m\n\u001b[0;32m      5\u001b[0m \u001b[1;32mif\u001b[0m \u001b[0mcond1\u001b[0m\u001b[1;33m:\u001b[0m\u001b[1;33m\u001b[0m\u001b[1;33m\u001b[0m\u001b[0m\n",
      "\u001b[1;31mNameError\u001b[0m: name 'cond1_tol' is not defined"
     ]
    }
   ],
   "source": [
    "tol = 1e-4\n",
    "alias_term_tol = np.where(np.abs(alias_term) < tol, 0, alias_term)\n",
    "print(\"H_b(-z)*G_a(z) + H_a(-z)*G_b(z) = {}\".format(alias_term_tol))\n",
    "cond1 = np.sum(alias_term_tol) == 0\n",
    "if cond1:\n",
    "    print(\"Primeira condição satisfeita!\")\n",
    "else:\n",
    "    print(\"Primeira condição não satisfeita\")"
   ]
  },
  {
   "cell_type": "markdown",
   "metadata": {},
   "source": [
    "- Condição 2:\n",
    "\n",
    "$$\\frac{1}{2}[H_b(z)G_a(z) + H_a(z)G_b(z)] = Az^{-d}$$\n",
    "\n",
    "Novamente, como a multiplicação polinomial pode ser realizada por meio de uma convolução, temos que:\n",
    "\n",
    "$$\\frac{1}{2}[H_b(z)*G_a(z) + H_a(z)*G_b(z)] = Az^{-d}$$\n",
    "\n",
    "Aplicando a convolução temos que:"
   ]
  },
  {
   "cell_type": "code",
   "execution_count": 29,
   "metadata": {
    "ExecuteTime": {
     "end_time": "2019-11-22T00:01:10.553730Z",
     "start_time": "2019-11-22T00:01:10.546718Z"
    },
    "scrolled": true
   },
   "outputs": [
    {
     "name": "stdout",
     "output_type": "stream",
     "text": [
      "H_b(z)*G_a(z) = [0.0117 -0.0000 -0.0976 0.0000 0.5860 1.0000 0.5860 0.0000 -0.0976 -0.0000\n",
      " 0.0117]\n",
      "H_a(z)*G_b(z) = [-0.0117 -0.0000 0.0976 0.0000 -0.5860 1.0000 -0.5860 0.0000 0.0976\n",
      " -0.0000 -0.0117]\n"
     ]
    }
   ],
   "source": [
    "HbGa = conv(Hb, Ga)\n",
    "HaGb = conv(Ha, Gb)\n",
    "print(\"H_b(z)*G_a(z) = {}\".format(HbGa))\n",
    "print(\"H_a(z)*G_b(z) = {}\".format(HaGb))"
   ]
  },
  {
   "cell_type": "markdown",
   "metadata": {},
   "source": [
    "Por fim, realiza-se a soma polinomial já levando em consideração o desconto da tolerância definida para erro numérico (1e-4)"
   ]
  },
  {
   "cell_type": "code",
   "execution_count": 30,
   "metadata": {
    "ExecuteTime": {
     "end_time": "2019-11-22T00:01:11.272803Z",
     "start_time": "2019-11-22T00:01:11.262808Z"
    },
    "scrolled": true
   },
   "outputs": [
    {
     "name": "stdout",
     "output_type": "stream",
     "text": [
      "H_b(z)*G_baz) + H_a(z)*G_b(z) = [0.0000 0.0000 0.0000 0.0000 0.0000 1.0000 0.0000 0.0000 0.0000 0.0000\n",
      " 0.0000]\n",
      "Segunda condição satisfeita!\n"
     ]
    }
   ],
   "source": [
    "lti_term = poly_sum(HbGa, HaGb)/2\n",
    "lti_term_tol = np.where(np.abs(lti_term) < tol, 0, lti_term)\n",
    "print(\"H_b(z)*G_baz) + H_a(z)*G_b(z) = {}\".format(lti_term_tol))\n",
    "k = np.where(lti_term_tol != 0)\n",
    "cond2 = len(k) == 1\n",
    "if cond2:\n",
    "    print(\"Segunda condição satisfeita!\")\n",
    "else:\n",
    "    print(\"Segunda condição não satisfeita\")"
   ]
  },
  {
   "cell_type": "markdown",
   "metadata": {},
   "source": [
    "Além disso, podemos determinar os valores de A e d como:"
   ]
  },
  {
   "cell_type": "code",
   "execution_count": 31,
   "metadata": {
    "ExecuteTime": {
     "end_time": "2019-11-22T00:01:11.868980Z",
     "start_time": "2019-11-22T00:01:11.861963Z"
    }
   },
   "outputs": [
    {
     "name": "stdout",
     "output_type": "stream",
     "text": [
      "A = 1\n",
      "d = 5\n"
     ]
    }
   ],
   "source": [
    "A = int(round(lti_term_tol[int(k[0][0])]))\n",
    "d = int(k[0][0])\n",
    "print(\"A =\", A)\n",
    "print(\"d =\", d)"
   ]
  },
  {
   "cell_type": "markdown",
   "metadata": {},
   "source": [
    "## e)"
   ]
  },
  {
   "cell_type": "markdown",
   "metadata": {},
   "source": [
    "Para que a decomposição seja ortogonal o produto interno dos filtros de decomposição deve ser igual a zero."
   ]
  },
  {
   "cell_type": "code",
   "execution_count": 631,
   "metadata": {
    "ExecuteTime": {
     "end_time": "2019-11-22T16:34:12.771130Z",
     "start_time": "2019-11-22T16:34:12.763131Z"
    }
   },
   "outputs": [
    {
     "data": {
      "text/plain": [
       "-5.204170427930421e-18"
      ]
     },
     "execution_count": 631,
     "metadata": {},
     "output_type": "execute_result"
    }
   ],
   "source": [
    "np.sum(Ha*Hb)"
   ]
  },
  {
   "cell_type": "markdown",
   "metadata": {},
   "source": [
    "Considerando a ordem de 1e-18 como erro númerico, podemos considerar que os filtros de decomposição são ortogonais"
   ]
  },
  {
   "cell_type": "markdown",
   "metadata": {},
   "source": [
    "## h)"
   ]
  },
  {
   "cell_type": "markdown",
   "metadata": {},
   "source": [
    "Primeiro define-se as funções para realizar e plotar os filtros iterados:"
   ]
  },
  {
   "cell_type": "code",
   "execution_count": 32,
   "metadata": {
    "ExecuteTime": {
     "end_time": "2019-11-22T00:01:13.334494Z",
     "start_time": "2019-11-22T00:01:13.318501Z"
    }
   },
   "outputs": [],
   "source": [
    "def downsample(x, factor):\n",
    "    x = x[:len(x):factor]\n",
    "    return x\n",
    "def upsample(x, factor):\n",
    "    y = np.zeros(len(x)*factor)\n",
    "    y[:len(y):factor] = x\n",
    "    return y\n",
    "\n",
    "def filter_iterator(h0, h1, levels):\n",
    "    h0 = np.array(h0)\n",
    "    h1 = np.array(h1)\n",
    "    h = [0] * (levels+1)\n",
    "    h[levels] = h1\n",
    "    aux = np.copy(h0)\n",
    "    for n in range(levels, 1, -1):\n",
    "        h_ = upsample(h[n], 2)\n",
    "        h_ = h_[:len(h_) - 1]\n",
    "        h[n-1] = conv(h_, h0)\n",
    "        aux = upsample(aux, 2)\n",
    "        aux = aux[:len(aux) - 1]\n",
    "        aux = conv(aux, h0)\n",
    "    h[0] = aux\n",
    "    return h\n",
    "\n",
    "def plot_iterated_filters(h, h_names):\n",
    "    n_filters = len(h)\n",
    "    fig = plt.figure(figsize=[13,4])\n",
    "    ax1 = fig.add_subplot(121)\n",
    "    for i in range(n_filters):\n",
    "        w, h_mag = freqz(h[i])\n",
    "        plt.plot(w, abs(h_mag), label = h_names[i])\n",
    "    plt.ylabel('Magnitude')\n",
    "    plt.xlabel('Frequencies [rad/sample]')\n",
    "    plt.grid()\n",
    "    plt.legend()\n",
    "\n",
    "    ax2 = fig.add_subplot(122)\n",
    "    for i in range(n_filters):\n",
    "        w, h_mag = freqz(h[i])\n",
    "        angles = np.unwrap(np.angle(h_mag))\n",
    "        plt.plot(w, angles, label = h_names[i])\n",
    "    plt.ylabel('Angle (radians)')\n",
    "    plt.xlabel('Frequencies [rad/sample]')\n",
    "    plt.grid()\n",
    "    plt.legend()\n",
    "    plt.show()"
   ]
  },
  {
   "cell_type": "markdown",
   "metadata": {},
   "source": [
    "Para o caso de 3 níveis:"
   ]
  },
  {
   "cell_type": "code",
   "execution_count": 33,
   "metadata": {
    "ExecuteTime": {
     "end_time": "2019-11-22T00:01:14.460865Z",
     "start_time": "2019-11-22T00:01:13.826210Z"
    }
   },
   "outputs": [
    {
     "data": {
      "image/png": "[encoded data removed]",
      "text/plain": [
       "<Figure size 936x288 with 2 Axes>"
      ]
     },
     "metadata": {
      "needs_background": "light"
     },
     "output_type": "display_data"
    }
   ],
   "source": [
    "h3n = filter_iterator(Hb, Ha, 3)\n",
    "h3n_names = [\"H0(z)H0(z)H0(z)\", \"H0(z)H0(z)H1(z)\", \"H0(z)H1(z)\", \"H1(z)\"]\n",
    "plot_iterated_filters(h3n, h3n_names)"
   ]
  },
  {
   "cell_type": "markdown",
   "metadata": {
    "ExecuteTime": {
     "end_time": "2019-11-18T00:31:07.018792Z",
     "start_time": "2019-11-18T00:31:06.375159Z"
    }
   },
   "source": [
    "Para o caso de 4 níveis:"
   ]
  },
  {
   "cell_type": "code",
   "execution_count": 34,
   "metadata": {
    "ExecuteTime": {
     "end_time": "2019-11-22T00:01:15.251392Z",
     "start_time": "2019-11-22T00:01:14.514814Z"
    }
   },
   "outputs": [
    {
     "data": {
      "image/png": "[encoded data removed]",
      "text/plain": [
       "<Figure size 936x288 with 2 Axes>"
      ]
     },
     "metadata": {
      "needs_background": "light"
     },
     "output_type": "display_data"
    }
   ],
   "source": [
    "h4n = filter_iterator(Hb, Ha, 4)\n",
    "h4n_names = [\"H0(z)H0(z)H0(z)H0(z)\", \"H0(z)H0(z)H0(z)H1(z)\", \"H0(z)H0(z)H1(z)\", \"H0(z)H1(z)\", \"H1(z)\"]\n",
    "plot_iterated_filters(h4n, h4n_names)"
   ]
  },
  {
   "cell_type": "markdown",
   "metadata": {},
   "source": [
    "## i)"
   ]
  },
  {
   "cell_type": "markdown",
   "metadata": {},
   "source": [
    "Como é possível observar pela resposta em frequência dos filtros iterados, o filtros para altas frequências possuem uma baixa precisão em frequência e, consequentemente, uma alta precisão no tempo. Conforme as frequências filtradas vão diminuindo, a precisão em frequência vai aumentando e, com isso, a precisão no tempo diminui."
   ]
  },
  {
   "cell_type": "markdown",
   "metadata": {},
   "source": [
    "## j)"
   ]
  },
  {
   "cell_type": "markdown",
   "metadata": {},
   "source": [
    "Cada conjunto permite uma representação diferente da informação, com diferentes bandas passantes, ripple, fase, etc. Isso faz com que cada conjunto possua vantagens e desvantagens em comparação aos demais, não havendo então um único filtro superior em todos os casos. Assim, a definição do filtro é comumente feita de acordo com a aplicação e muitas vezes de maneira empírica."
   ]
  },
  {
   "cell_type": "markdown",
   "metadata": {},
   "source": [
    "## k)"
   ]
  },
  {
   "cell_type": "markdown",
   "metadata": {},
   "source": []
  },
  {
   "cell_type": "markdown",
   "metadata": {},
   "source": [
    "# Segunda Questão"
   ]
  },
  {
   "cell_type": "markdown",
   "metadata": {},
   "source": [
    "## a)"
   ]
  },
  {
   "cell_type": "markdown",
   "metadata": {},
   "source": [
    "Primeiro define-se as funções para plotar a transformada de Fourier do sinal na frequência"
   ]
  },
  {
   "cell_type": "code",
   "execution_count": 35,
   "metadata": {
    "ExecuteTime": {
     "end_time": "2019-11-22T00:01:17.631275Z",
     "start_time": "2019-11-22T00:01:17.621283Z"
    }
   },
   "outputs": [],
   "source": [
    "def plotFFTSignal(signal, fs):\n",
    "    \"\"\"\n",
    "    This function plots a signal power espectrum density (PSD)\n",
    "\n",
    "    Parameters\n",
    "    ----------\n",
    "    esignal : numpy array (signal_length,)\n",
    "        The signal as a row vector\n",
    "    fs : integer\n",
    "        The signal sampling rate in Hertz\n",
    "    \"\"\"\n",
    "    N = len(signal) # store the number of sample in the signal\n",
    "    # create a frequency vector to match the frequency index for each sample\n",
    "    f = np.linspace(0, fs, N)\n",
    "    # apply the fft transform to the signal normalized by the signal length\n",
    "    signal_fft = np.fft.fft(signal)/N\n",
    "    # calculate the PSB by elevating the signal magnitude to the second power\n",
    "#     psd = np.power(np.abs(signal_fft), 2)\n",
    "    signal_fft = np.abs(signal_fft)\n",
    "    # configure plot\n",
    "    plt.figure() \n",
    "    # plot only the positive frequencies\n",
    "    plt.plot(f[:N // 2], signal_fft[:N // 2])\n",
    "    plt.xlabel(\"Frequency (Hz)\")\n",
    "    plt.ylabel(\"Magnitude\")\n",
    "    plt.grid()\n",
    "    plt.show()"
   ]
  },
  {
   "cell_type": "markdown",
   "metadata": {},
   "source": [
    "Para o sinal de ECG"
   ]
  },
  {
   "cell_type": "code",
   "execution_count": 36,
   "metadata": {
    "ExecuteTime": {
     "end_time": "2019-11-22T00:01:18.457130Z",
     "start_time": "2019-11-22T00:01:18.146351Z"
    }
   },
   "outputs": [
    {
     "data": {
      "image/png": "[encoded data removed]",
      "text/plain": [
       "<Figure size 432x288 with 1 Axes>"
      ]
     },
     "metadata": {
      "needs_background": "light"
     },
     "output_type": "display_data"
    }
   ],
   "source": [
    "data_ecg_1 = loadmat('sinais_prova_1/ecg_1.mat')\n",
    "ecg_1_fs = data_ecg_1[\"fs\"]\n",
    "ecg_1_sig = np.array(data_ecg_1[\"x\"])[:, 0]\n",
    "ecg_1_sig_ac = ecg_1_sig - np.mean(ecg_1_sig)\n",
    "plotFFTSignal(ecg_1_sig_ac, ecg_1_fs)"
   ]
  },
  {
   "cell_type": "markdown",
   "metadata": {},
   "source": [
    "Para o sinal de EMG"
   ]
  },
  {
   "cell_type": "code",
   "execution_count": 37,
   "metadata": {
    "ExecuteTime": {
     "end_time": "2019-11-22T00:01:19.136743Z",
     "start_time": "2019-11-22T00:01:18.685004Z"
    }
   },
   "outputs": [
    {
     "data": {
      "image/png": "[encoded data removed]",
      "text/plain": [
       "<Figure size 432x288 with 1 Axes>"
      ]
     },
     "metadata": {
      "needs_background": "light"
     },
     "output_type": "display_data"
    }
   ],
   "source": [
    "data_emg_1 = loadmat('sinais_prova_1/emg_1.mat') \n",
    "emg_1_fs = data_emg_1[\"fs\"]\n",
    "emg_1_sig = np.array(data_emg_1[\"x\"])[:, 0]\n",
    "plotFFTSignal(emg_1_sig, emg_1_fs)"
   ]
  },
  {
   "cell_type": "markdown",
   "metadata": {},
   "source": [
    "## b)"
   ]
  },
  {
   "cell_type": "markdown",
   "metadata": {},
   "source": [
    "Com base nas resposta em frequência o sinal de EMG possui uma banda mais larga com grande parte da energia até 200 Hz enquanto o sinal de ECG está mais concentrado em baixas frequências (em torno de 25 Hz). Dessa forma, conclui-se que o sinal de ECG possui oscilações mais rápidas enquanto o sinal de ECG possui oscilações mais lentas."
   ]
  },
  {
   "cell_type": "markdown",
   "metadata": {},
   "source": [
    "## c)"
   ]
  },
  {
   "cell_type": "markdown",
   "metadata": {},
   "source": [
    "Primeiro define-se a função para o cálculo da energia por intervalo"
   ]
  },
  {
   "cell_type": "code",
   "execution_count": 158,
   "metadata": {
    "ExecuteTime": {
     "end_time": "2019-11-22T02:16:58.456923Z",
     "start_time": "2019-11-22T02:16:58.442909Z"
    }
   },
   "outputs": [],
   "source": [
    "def energy_in_interval(signal, fs, lower_band, upper_band, get_results=False):\n",
    "    N = len(signal)\n",
    "    signal_fft = np.fft.fft(signal)/N\n",
    "    signal_fft_pos = np.abs(signal_fft[:N // 2])\n",
    "    f = np.linspace(0, fs, N)\n",
    "    f_pos = f[:N // 2]\n",
    "    lower_band_idx = round(lower_band * N/fs)\n",
    "    upper_band_idx = round(upper_band * N/fs)\n",
    "    signal_fft_interval = signal_fft_pos[lower_band_idx:upper_band_idx+1]\n",
    "    f_interval = f_pos[lower_band_idx:upper_band_idx+1]\n",
    "\n",
    "    E_total = np.sum(np.power(np.abs(signal_fft_pos), 2))\n",
    "    E_band = np.sum(np.power(np.abs(signal_fft_interval), 2))\n",
    "    E_pct = 100*(E_band/E_total)\n",
    "    if get_results:\n",
    "        return E_pct\n",
    "    else:\n",
    "        print(\"Total energy = {0:.2f}\".format(E_total))\n",
    "        print(\"Band energy = {0:.2f}\".format(E_band))\n",
    "        print(\"Band energy percentage = {0:.2f}%\".format(E_pct))\n",
    "\n",
    "        # configure plot\n",
    "        plt.figure() \n",
    "        # plot only the positive frequencies\n",
    "        plt.plot(f_pos, signal_fft_pos, label=\"Signal FFT\")\n",
    "        plt.plot(f_interval, signal_fft_interval, label=\"Signal FFT from {} to {} Hz\".format(lower_band, upper_band))\n",
    "        plt.legend()\n",
    "        plt.xlabel(\"Frequency (Hz)\")\n",
    "        plt.ylabel(\"Magnitude\")\n",
    "        plt.grid()\n",
    "        plt.show()"
   ]
  },
  {
   "cell_type": "markdown",
   "metadata": {},
   "source": [
    "Percentual de energia na banda de 2 a 40 Hz para o ECG:"
   ]
  },
  {
   "cell_type": "code",
   "execution_count": 39,
   "metadata": {
    "ExecuteTime": {
     "end_time": "2019-11-22T00:01:21.056130Z",
     "start_time": "2019-11-22T00:01:20.759306Z"
    },
    "scrolled": true
   },
   "outputs": [
    {
     "name": "stdout",
     "output_type": "stream",
     "text": [
      "Total energy = 724.97\n",
      "Band energy = 640.30\n",
      "Band energy percentage = 88.32%\n"
     ]
    },
    {
     "data": {
      "image/png": "[encoded data removed]",
      "text/plain": [
       "<Figure size 432x288 with 1 Axes>"
      ]
     },
     "metadata": {
      "needs_background": "light"
     },
     "output_type": "display_data"
    }
   ],
   "source": [
    "energy_in_interval(ecg_1_sig_ac, ecg_1_fs, lower_band=2, upper_band=40)"
   ]
  },
  {
   "cell_type": "markdown",
   "metadata": {},
   "source": [
    "## d)"
   ]
  },
  {
   "cell_type": "markdown",
   "metadata": {},
   "source": [
    "Percentual de energia na banda de 2 a 150 Hz para o EMG:"
   ]
  },
  {
   "cell_type": "code",
   "execution_count": 40,
   "metadata": {
    "ExecuteTime": {
     "end_time": "2019-11-22T00:01:21.893650Z",
     "start_time": "2019-11-22T00:01:21.558841Z"
    },
    "scrolled": true
   },
   "outputs": [
    {
     "name": "stdout",
     "output_type": "stream",
     "text": [
      "Total energy = 1.19\n",
      "Band energy = 0.88\n",
      "Band energy percentage = 73.86%\n"
     ]
    },
    {
     "data": {
      "image/png": "[encoded data removed]",
      "text/plain": [
       "<Figure size 432x288 with 1 Axes>"
      ]
     },
     "metadata": {
      "needs_background": "light"
     },
     "output_type": "display_data"
    }
   ],
   "source": [
    "energy_in_interval(emg_1_sig, emg_1_fs, lower_band=2, upper_band=150)"
   ]
  },
  {
   "cell_type": "markdown",
   "metadata": {},
   "source": [
    "## e)"
   ]
  },
  {
   "cell_type": "markdown",
   "metadata": {},
   "source": [
    "- A linha de base encontrada no sinal de ECG está relacionada a interferência da respiração no sinal captado pelo eletrodo. No geral, pode-se considerar que a respiração tem uma frequência menor que 1 Hz. Esse ruído contamina o ECG pois trata-se de um sinal bioelétrico muscular que também é coletado pelo eletrodo do ECG.\n",
    "- O outro ruído não natural está relacionado à interferência da rede elétrica, como é possível observar pelo pico em torno de 60 Hz na FFT do sinal. Esse ruído pode contaminar o sinal de ECG por contato físico com a rede elétrica pela pessoa, pelo eletrodo ou pelo equipamento de aquisição, ou ainda pela captação da radiação eletromagnética gerada pela rede em partes do sistema que funcionando como antenas."
   ]
  },
  {
   "cell_type": "markdown",
   "metadata": {},
   "source": [
    "## f)"
   ]
  },
  {
   "cell_type": "markdown",
   "metadata": {},
   "source": [
    "Para determinar os índices k da DTF para serem filtrados podemos usar a seguinte relação:\n",
    "$$k = \\frac{f_{Hz}N_{fft}}{f_s}$$\n",
    "onde $f_{Hz}$ é a frequência em Hz, $N_{fft}$ é o número de pontos da FFT e $f_s$ é a frequência de amostragem do sinal. Nesse caso, estamos considerando $N_fft$ igual ao tamanho do sinal $N$"
   ]
  },
  {
   "cell_type": "markdown",
   "metadata": {},
   "source": [
    "Assim, para o primeiro ruído (< 1Hz), podemos anular os seguintes índices k:"
   ]
  },
  {
   "cell_type": "code",
   "execution_count": 41,
   "metadata": {
    "ExecuteTime": {
     "end_time": "2019-11-22T00:01:23.253146Z",
     "start_time": "2019-11-22T00:01:23.247131Z"
    }
   },
   "outputs": [
    {
     "name": "stdout",
     "output_type": "stream",
     "text": [
      "Remove all indexes -10 <= k <= 10\n"
     ]
    }
   ],
   "source": [
    "f_lb = 1\n",
    "k_1Hz = round(f_lb * len(ecg_1_sig)/ecg_1_fs)\n",
    "print(\"Remove all indexes {} <= k <= {}\".format(-k_1Hz, k_1Hz))"
   ]
  },
  {
   "cell_type": "markdown",
   "metadata": {},
   "source": [
    "Para encontrar os índices n no vetor de coeficientes da fft devemos considerar a forma com que o a fft é formada (frequências negativas ao final do vetor). Dessa forma podemos eliminar os índices n <= 10 e n >= N - 10"
   ]
  },
  {
   "cell_type": "markdown",
   "metadata": {},
   "source": [
    "Já no segundo caso, podemos anular apenas o ruído de 60 Hz, logo:"
   ]
  },
  {
   "cell_type": "code",
   "execution_count": 42,
   "metadata": {
    "ExecuteTime": {
     "end_time": "2019-11-22T00:01:24.632208Z",
     "start_time": "2019-11-22T00:01:24.626215Z"
    }
   },
   "outputs": [
    {
     "name": "stdout",
     "output_type": "stream",
     "text": [
      "Remove the index k = 600\n"
     ]
    }
   ],
   "source": [
    "f_nn = 60\n",
    "k_60Hz = round(f_nn * len(ecg_1_sig)/ecg_1_fs)\n",
    "print(\"Remove the index k = {}\".format(k_60Hz))"
   ]
  },
  {
   "cell_type": "markdown",
   "metadata": {},
   "source": [
    "Removendo os índice podemos observar a transformada de Fourier resultante"
   ]
  },
  {
   "cell_type": "code",
   "execution_count": 43,
   "metadata": {
    "ExecuteTime": {
     "end_time": "2019-11-22T00:01:25.640630Z",
     "start_time": "2019-11-22T00:01:25.037978Z"
    }
   },
   "outputs": [
    {
     "data": {
      "image/png": "[encoded data removed]",
      "text/plain": [
       "<Figure size 1080x288 with 2 Axes>"
      ]
     },
     "metadata": {
      "needs_background": "light"
     },
     "output_type": "display_data"
    }
   ],
   "source": [
    "signal = np.copy(ecg_1_sig_ac)\n",
    "fs = ecg_1_fs\n",
    "N = len(signal) # store the number of sample in the signal\n",
    "# create a frequency vector to match the frequency index for each sample\n",
    "f = np.linspace(-fs/2, fs/2, N)\n",
    "# apply the fft transform to the signal normalized by the signal length\n",
    "signal_fft = np.fft.fft(signal)/N\n",
    "\n",
    "signal_fft_filtered = np.copy(signal_fft)\n",
    "signal_fft_filtered[:k_1Hz+1] = 0\n",
    "signal_fft_filtered[N-k_1Hz:] = 0\n",
    "signal_fft_filtered[k_60Hz] = 0\n",
    "signal_fft_filtered[N-k_60Hz] = 0\n",
    "\n",
    "# configure plot\n",
    "plt.figure(figsize=[15,4]) \n",
    "plt.subplot(121)\n",
    "# plot only the positive frequencies\n",
    "adj = 50\n",
    "plt.plot(f[N//2 - k_1Hz - adj:N//2 + k_1Hz + adj], \n",
    "         np.fft.fftshift(np.abs(signal_fft))[N//2 - k_1Hz - adj:N//2 + k_1Hz + adj], label=\"Signal FFT\")\n",
    "plt.plot(f[N//2 - k_1Hz - adj:N//2 + k_1Hz + adj], \n",
    "         np.fft.fftshift(np.abs(signal_fft_filtered))[N//2 - k_1Hz - adj:N//2 + k_1Hz + adj], label=\"Filtered Signal FFT\")\n",
    "plt.xlabel(\"Frequency (Hz)\")\n",
    "plt.ylabel(\"Magnitude\")\n",
    "plt.grid()\n",
    "plt.legend()\n",
    "plt.subplot(122)\n",
    "# plot only the positive frequencies\n",
    "plt.plot(f, np.fft.fftshift(np.abs(signal_fft)), label=\"Signal FFT\")\n",
    "plt.plot(f, np.fft.fftshift(np.abs(signal_fft_filtered)), label=\"Filtered Signal FFT\")\n",
    "plt.xlabel(\"Frequency (Hz)\")\n",
    "plt.ylabel(\"Magnitude\")\n",
    "plt.grid()\n",
    "plt.legend()\n",
    "plt.show()"
   ]
  },
  {
   "cell_type": "markdown",
   "metadata": {},
   "source": [
    "Aplicando a transformada inversa de Fourier podemos comparar o sinal filtrado com o original"
   ]
  },
  {
   "cell_type": "code",
   "execution_count": 633,
   "metadata": {
    "ExecuteTime": {
     "end_time": "2019-11-22T16:36:10.941184Z",
     "start_time": "2019-11-22T16:36:10.649286Z"
    }
   },
   "outputs": [
    {
     "data": {
      "image/png": "[encoded data removed]",
      "text/plain": [
       "<Figure size 432x288 with 1 Axes>"
      ]
     },
     "metadata": {
      "needs_background": "light"
     },
     "output_type": "display_data"
    }
   ],
   "source": [
    "signal_filtered = N*np.fft.ifft(signal_fft_filtered)\n",
    "plt.figure()\n",
    "plt.plot(signal, label=\"ECG Signal\")\n",
    "plt.plot(np.real(signal_filtered), label=\"Filtered ECG Signal\")\n",
    "plt.grid()\n",
    "plt.legend()\n",
    "plt.show()"
   ]
  },
  {
   "cell_type": "markdown",
   "metadata": {},
   "source": [
    "## g)"
   ]
  },
  {
   "cell_type": "code",
   "execution_count": 628,
   "metadata": {
    "ExecuteTime": {
     "end_time": "2019-11-22T15:16:21.028006Z",
     "start_time": "2019-11-22T15:16:20.435874Z"
    }
   },
   "outputs": [
    {
     "data": {
      "image/png": "[encoded data removed]",
      "text/plain": [
       "<Figure size 936x288 with 2 Axes>"
      ]
     },
     "metadata": {
      "needs_background": "light"
     },
     "output_type": "display_data"
    }
   ],
   "source": [
    "f_lb = 1\n",
    "\n",
    "filter_order = 1000\n",
    "signal = np.copy(ecg_1_sig_ac)\n",
    "fs = ecg_1_fs\n",
    "N = len(signal) # store the number of sample in the signal\n",
    "\n",
    "fir_window = firwin(filter_order+1, f_lb, window='hamming', fs=ecg_1_fs, pass_zero=False)\n",
    "signal_filtered = lfilter(b=fir_window, a=1, x=signal)[len(fir_window) - 1:]\n",
    "signal = signal[:N - len(fir_window) - 1]\n",
    "N = len(signal)\n",
    "\n",
    "f = np.linspace(-fs/2, fs/2, N)\n",
    "# apply the fft transform to the signal normalized by the signal length\n",
    "signal_fft = np.fft.fft(signal)/N\n",
    "signal_fft_filtered = np.fft.fft(signal_filtered)/N\n",
    "\n",
    "plt.figure(figsize=[13,4])\n",
    "plt.subplot(121)\n",
    "plt.plot(signal, label=\"ECG Signal\")\n",
    "plt.plot(signal_filtered, label=\"Filtered ECG Signal\")\n",
    "plt.legend()\n",
    "plt.grid()\n",
    "plt.subplot(122)\n",
    "# plot only the positive frequencies\n",
    "adj = 50\n",
    "plt.plot(f[N//2 - k_1Hz - adj:N//2 + k_1Hz + adj], \n",
    "         np.fft.fftshift(np.abs(signal_fft))[N//2 - k_1Hz - adj:N//2 + k_1Hz + adj], label=\"Signal FFT\")\n",
    "plt.plot(f[N//2 - k_1Hz - adj:N//2 + k_1Hz + adj], \n",
    "         np.fft.fftshift(np.abs(signal_fft_filtered))[N//2 - k_1Hz - adj:N//2 + k_1Hz + adj], label=\"Filtered Signal FFT\")\n",
    "plt.xlabel(\"Frequency (Hz)\")\n",
    "plt.ylabel(\"Magnitude\")\n",
    "plt.grid()\n",
    "plt.legend()\n",
    "plt.show()"
   ]
  },
  {
   "cell_type": "markdown",
   "metadata": {},
   "source": [
    "# Terceira Questão"
   ]
  },
  {
   "cell_type": "markdown",
   "metadata": {},
   "source": [
    "# Quarta Questão"
   ]
  },
  {
   "cell_type": "markdown",
   "metadata": {},
   "source": [
    "# Quinta Questão"
   ]
  },
  {
   "cell_type": "markdown",
   "metadata": {},
   "source": [
    "## a)"
   ]
  },
  {
   "cell_type": "code",
   "execution_count": 188,
   "metadata": {
    "ExecuteTime": {
     "end_time": "2019-11-22T03:04:51.039966Z",
     "start_time": "2019-11-22T03:04:51.030952Z"
    }
   },
   "outputs": [],
   "source": [
    "def getEEGSignals(set_name = 'A', signal_number = 1):\n",
    "    sig_str = str(signal_number)\n",
    "    sig_num = sig_str.zfill(3)\n",
    "    dir_path = 'C:/Users/victo/OneDrive/Documentos/PSB/sinais_prova_1/sinais_eeg/set'\n",
    "    if set_name == 'A':\n",
    "        data_path = dir_path + set_name + '/Z' + sig_num + '.txt'\n",
    "    if set_name == 'B':\n",
    "        data_path = dir_path + set_name + '/O' + sig_num + '.txt'\n",
    "    if set_name == 'C':\n",
    "        data_path = dir_path + set_name + '/N' + sig_num + '.TXT' \n",
    "    if set_name == 'D':\n",
    "        data_path = dir_path + set_name + '/F' + sig_num + '.txt' \n",
    "    if set_name == 'E':\n",
    "        data_path = dir_path + set_name + '/S' + sig_num + '.txt' \n",
    "    data_output = np.loadtxt(data_path)\n",
    "    return data_output"
   ]
  },
  {
   "cell_type": "code",
   "execution_count": 17,
   "metadata": {
    "ExecuteTime": {
     "end_time": "2019-11-21T23:49:06.800830Z",
     "start_time": "2019-11-21T23:49:06.787838Z"
    }
   },
   "outputs": [],
   "source": [
    "def plotSignal(signal, fs, t0=0, delta_t=-1, show_plot=True):\n",
    "    \"\"\"\n",
    "    This function plots a signal for a given time interval.\n",
    "\n",
    "    If no interval if given the whole signal will be plotted.\n",
    "\n",
    "    If the interval exceeds the signal duration, \n",
    "    a warning will be printed in the terminal\n",
    "\n",
    "    Parameters\n",
    "    ----------\n",
    "    signal : numpy array (signal_length,)\n",
    "        The signal as a row vector\n",
    "    fs : integer\n",
    "        The signal sampling rate in Hertz\n",
    "    t0 : float\n",
    "        The time to begin plotting in seconds\n",
    "    delta_t : float\n",
    "        The duration of the signal to be plotted in seconds\n",
    "    \"\"\"\n",
    "    if delta_t == -1: # if delta is -1 plot till the end of the signal\n",
    "        # set delta to the duration of the signal minus t0\n",
    "        delta_t = len(signal)*(1/fs) - t0 \n",
    "    # calculate duration from num of samples and sampling rate\n",
    "    duration = len(signal)*(1/fs) \n",
    "    # get input required duration\n",
    "    calc_duration = t0 + delta_t \n",
    "    # check if required duration exceeds the real duration\n",
    "    if calc_duration > duration: \n",
    "        print(\"Exceeded signal duration\")\n",
    "        return\n",
    "    # get equivalent sample for the initial time\n",
    "    n0 = int(round(t0*fs)) \n",
    "    # get equivalent sample for the final time\n",
    "    n1 = n0 + int(round(delta_t*fs)) \n",
    "    # produce time vector to show plot in sec\n",
    "    t = np.linspace(0, len(signal)/fs, len(signal))\n",
    "    # configure plot for the signal\n",
    "    if show_plot:\n",
    "        plt.figure()\n",
    "        plt.plot(t[n0:n1], signal[n0:n1])\n",
    "        plt.ylabel(\"EEG amplitude\")\n",
    "        plt.xlabel(\"time (s)\")\n",
    "        plt.grid()\n",
    "        plt.show()\n",
    "    else:\n",
    "        return t[n0:n1], signal[n0:n1]"
   ]
  },
  {
   "cell_type": "code",
   "execution_count": 91,
   "metadata": {
    "ExecuteTime": {
     "end_time": "2019-11-22T00:48:53.134021Z",
     "start_time": "2019-11-22T00:48:53.122026Z"
    }
   },
   "outputs": [],
   "source": [
    "def extract_windows(signal, fs):\n",
    "    window_duration_seconds = 5\n",
    "    window_overlap = 2.5\n",
    "    N_window = round(window_duration_seconds * fs)\n",
    "    window = np.hamming(N_window)\n",
    "    l_inf = 0\n",
    "    l_sup = l_inf + N_window\n",
    "    num_windows=0\n",
    "    signal_window_vec = []\n",
    "    while(l_sup<=len(signal)):\n",
    "        window_pad = np.zeros(len(signal))\n",
    "        window_pad[l_inf:l_sup] = window\n",
    "        signal_window = signal*window_pad\n",
    "        signal_window_vec.append(signal_window[l_inf:l_sup])\n",
    "        l_inf += round(window_overlap * fs)\n",
    "        l_sup = l_inf + N_window\n",
    "        num_windows+=1\n",
    "    return signal_window_vec"
   ]
  },
  {
   "cell_type": "code",
   "execution_count": 154,
   "metadata": {
    "ExecuteTime": {
     "end_time": "2019-11-22T02:02:30.959033Z",
     "start_time": "2019-11-22T02:02:30.942049Z"
    }
   },
   "outputs": [],
   "source": [
    "def extract_features(signal, fs):\n",
    "    N = len(signal)\n",
    "    signal_fft = np.fft.fft(signal)/N\n",
    "    signal_fft_pos = np.abs(signal_fft[:N // 2])\n",
    "    f = np.linspace(0, fs, N)\n",
    "    f_pos = f[:N // 2]\n",
    "    psd = np.power(np.abs(signal_fft_pos), 2)\n",
    "    freq_modal = f_pos[int(np.where(psd==max(psd))[0][0])]\n",
    "    freq_mean = np.sum(psd*f_pos)/np.sum(psd)\n",
    "\n",
    "    half_energy = np.sum(psd)/2\n",
    "    f_idx = len(f_pos)//2\n",
    "    freq_median = f_pos[f_idx]\n",
    "    current_energy = np.sum(psd[:f_idx])\n",
    "    if current_energy < half_energy:\n",
    "        while(current_energy < half_energy):\n",
    "            freq_median = f_pos[f_idx]\n",
    "            current_energy = np.sum(psd[:f_idx])\n",
    "            f_idx+=1\n",
    "    elif current_energy > half_energy:\n",
    "        while(current_energy > half_energy):\n",
    "            freq_median = f_pos[f_idx]\n",
    "            current_energy = np.sum(psd[:f_idx])\n",
    "            f_idx-=1\n",
    "\n",
    "    val_med_ret = np.mean(np.abs(signal))\n",
    "    rms = np.sqrt(np.mean(np.power(signal, 2)))\n",
    "    features = [freq_median, freq_mean, freq_modal, val_med_ret, rms]\n",
    "    return np.array(features)"
   ]
  },
  {
   "cell_type": "code",
   "execution_count": 324,
   "metadata": {
    "ExecuteTime": {
     "end_time": "2019-11-22T10:53:44.712770Z",
     "start_time": "2019-11-22T10:53:44.706774Z"
    }
   },
   "outputs": [],
   "source": [
    "def extract_features_windows(signal, fs):\n",
    "    i=0\n",
    "    window_vec = extract_windows(signal, fs)\n",
    "    features = extract_features(window_vec[i], fs)\n",
    "    for i in range(1, len(window_vec)):\n",
    "        features = features + extract_features(window_vec[i], fs)\n",
    "    features = features/len(window_vec)\n",
    "    return features"
   ]
  },
  {
   "cell_type": "code",
   "execution_count": 325,
   "metadata": {
    "ExecuteTime": {
     "end_time": "2019-11-22T10:53:45.377388Z",
     "start_time": "2019-11-22T10:53:45.141524Z"
    },
    "scrolled": false
   },
   "outputs": [
    {
     "data": {
      "text/html": [
       "<div>\n",
       "<style scoped>\n",
       "    .dataframe tbody tr th:only-of-type {\n",
       "        vertical-align: middle;\n",
       "    }\n",
       "\n",
       "    .dataframe tbody tr th {\n",
       "        vertical-align: top;\n",
       "    }\n",
       "\n",
       "    .dataframe thead th {\n",
       "        text-align: right;\n",
       "    }\n",
       "</style>\n",
       "<table border=\"1\" class=\"dataframe\">\n",
       "  <thead>\n",
       "    <tr style=\"text-align: right;\">\n",
       "      <th></th>\n",
       "      <th>F Median</th>\n",
       "      <th>F Mean</th>\n",
       "      <th>F Modal</th>\n",
       "      <th>V Med Ret</th>\n",
       "      <th>RMS</th>\n",
       "    </tr>\n",
       "  </thead>\n",
       "  <tbody>\n",
       "    <tr>\n",
       "      <th>A</th>\n",
       "      <td>4.58054</td>\n",
       "      <td>6.50059</td>\n",
       "      <td>1.87727</td>\n",
       "      <td>18.5042</td>\n",
       "      <td>27.363</td>\n",
       "    </tr>\n",
       "    <tr>\n",
       "      <th>B</th>\n",
       "      <td>6.80824</td>\n",
       "      <td>7.46218</td>\n",
       "      <td>2.478</td>\n",
       "      <td>21.1671</td>\n",
       "      <td>31.0622</td>\n",
       "    </tr>\n",
       "    <tr>\n",
       "      <th>C</th>\n",
       "      <td>2.10254</td>\n",
       "      <td>2.85706</td>\n",
       "      <td>0</td>\n",
       "      <td>21.922</td>\n",
       "      <td>33.3189</td>\n",
       "    </tr>\n",
       "    <tr>\n",
       "      <th>D</th>\n",
       "      <td>0.100121</td>\n",
       "      <td>1.31254</td>\n",
       "      <td>0</td>\n",
       "      <td>17.7568</td>\n",
       "      <td>25.6782</td>\n",
       "    </tr>\n",
       "    <tr>\n",
       "      <th>E</th>\n",
       "      <td>7.15866</td>\n",
       "      <td>8.78728</td>\n",
       "      <td>3.47921</td>\n",
       "      <td>202.905</td>\n",
       "      <td>301.07</td>\n",
       "    </tr>\n",
       "  </tbody>\n",
       "</table>\n",
       "</div>"
      ],
      "text/plain": [
       "   F Median   F Mean  F Modal V Med Ret      RMS\n",
       "A   4.58054  6.50059  1.87727   18.5042   27.363\n",
       "B   6.80824  7.46218    2.478   21.1671  31.0622\n",
       "C   2.10254  2.85706        0    21.922  33.3189\n",
       "D  0.100121  1.31254        0   17.7568  25.6782\n",
       "E   7.15866  8.78728  3.47921   202.905   301.07"
      ]
     },
     "execution_count": 325,
     "metadata": {},
     "output_type": "execute_result"
    }
   ],
   "source": [
    "features_names = [\"F Median\", \"F Mean\", \"F Modal\", \"V Med Ret\", \"RMS\"]\n",
    "eeg_signals_names = [\"A\", \"B\", \"C\", \"D\", \"E\"]\n",
    "eeg_table1_df = pd.DataFrame(index=eeg_signals_names, columns=features_names)\n",
    "for k in range(len(eeg_signals_names)):\n",
    "    sig_type = eeg_signals_names[k]\n",
    "    data_eeg_1 = getEEGSignals(sig_type, 1)\n",
    "    eeg_1_fs = 173.61\n",
    "    features = extract_features_windows(data_eeg_1, eeg_1_fs)\n",
    "    eeg_table1_df.loc[sig_type, :] = features\n",
    "eeg_table1_df"
   ]
  },
  {
   "cell_type": "markdown",
   "metadata": {},
   "source": [
    "## b)"
   ]
  },
  {
   "cell_type": "code",
   "execution_count": 161,
   "metadata": {
    "ExecuteTime": {
     "end_time": "2019-11-22T02:26:12.846383Z",
     "start_time": "2019-11-22T02:26:12.835404Z"
    }
   },
   "outputs": [],
   "source": [
    "def extract_features2(signal, fs):\n",
    "    bands = [[0, 4], [4, 7], [7, 15], [16, 31], [32, fs/2]]\n",
    "    E_pct_vec = []\n",
    "    for band in bands:\n",
    "        E_pct = energy_in_interval(signal, fs, band[0], band[1], get_results=True)\n",
    "        E_pct_vec.append(E_pct)\n",
    "    return np.array(E_pct_vec)"
   ]
  },
  {
   "cell_type": "code",
   "execution_count": 332,
   "metadata": {
    "ExecuteTime": {
     "end_time": "2019-11-22T10:55:15.912519Z",
     "start_time": "2019-11-22T10:55:15.905529Z"
    }
   },
   "outputs": [],
   "source": [
    "def extract_features2_windows(signal, fs):\n",
    "    i=0\n",
    "    window_vec = extract_windows(signal, fs)\n",
    "    features = extract_features2(window_vec[i], fs)\n",
    "    for i in range(1, len(window_vec)):\n",
    "        features = features + extract_features2(window_vec[i], fs)\n",
    "    features = features/len(window_vec)\n",
    "    return features"
   ]
  },
  {
   "cell_type": "code",
   "execution_count": 333,
   "metadata": {
    "ExecuteTime": {
     "end_time": "2019-11-22T10:55:16.502183Z",
     "start_time": "2019-11-22T10:55:16.320287Z"
    },
    "scrolled": true
   },
   "outputs": [
    {
     "data": {
      "text/html": [
       "<div>\n",
       "<style scoped>\n",
       "    .dataframe tbody tr th:only-of-type {\n",
       "        vertical-align: middle;\n",
       "    }\n",
       "\n",
       "    .dataframe tbody tr th {\n",
       "        vertical-align: top;\n",
       "    }\n",
       "\n",
       "    .dataframe thead th {\n",
       "        text-align: right;\n",
       "    }\n",
       "</style>\n",
       "<table border=\"1\" class=\"dataframe\">\n",
       "  <thead>\n",
       "    <tr style=\"text-align: right;\">\n",
       "      <th></th>\n",
       "      <th>Delta</th>\n",
       "      <th>Teta</th>\n",
       "      <th>Alfa</th>\n",
       "      <th>Beta</th>\n",
       "      <th>Gama</th>\n",
       "    </tr>\n",
       "  </thead>\n",
       "  <tbody>\n",
       "    <tr>\n",
       "      <th>A</th>\n",
       "      <td>47.2935</td>\n",
       "      <td>15.6943</td>\n",
       "      <td>30.7217</td>\n",
       "      <td>7.39415</td>\n",
       "      <td>0.463917</td>\n",
       "    </tr>\n",
       "    <tr>\n",
       "      <th>B</th>\n",
       "      <td>41.9107</td>\n",
       "      <td>10.2404</td>\n",
       "      <td>42.0088</td>\n",
       "      <td>6.04974</td>\n",
       "      <td>0.717293</td>\n",
       "    </tr>\n",
       "    <tr>\n",
       "      <th>C</th>\n",
       "      <td>75.0768</td>\n",
       "      <td>18.061</td>\n",
       "      <td>7.45417</td>\n",
       "      <td>0.753624</td>\n",
       "      <td>0.0908819</td>\n",
       "    </tr>\n",
       "    <tr>\n",
       "      <th>D</th>\n",
       "      <td>91.4497</td>\n",
       "      <td>4.98367</td>\n",
       "      <td>3.25214</td>\n",
       "      <td>0.780593</td>\n",
       "      <td>0.174741</td>\n",
       "    </tr>\n",
       "    <tr>\n",
       "      <th>E</th>\n",
       "      <td>35.3615</td>\n",
       "      <td>17.9587</td>\n",
       "      <td>32.5052</td>\n",
       "      <td>13.8969</td>\n",
       "      <td>0.29959</td>\n",
       "    </tr>\n",
       "  </tbody>\n",
       "</table>\n",
       "</div>"
      ],
      "text/plain": [
       "     Delta     Teta     Alfa      Beta       Gama\n",
       "A  47.2935  15.6943  30.7217   7.39415   0.463917\n",
       "B  41.9107  10.2404  42.0088   6.04974   0.717293\n",
       "C  75.0768   18.061  7.45417  0.753624  0.0908819\n",
       "D  91.4497  4.98367  3.25214  0.780593   0.174741\n",
       "E  35.3615  17.9587  32.5052   13.8969    0.29959"
      ]
     },
     "execution_count": 333,
     "metadata": {},
     "output_type": "execute_result"
    }
   ],
   "source": [
    "features_names = [\"Delta\", \"Teta\", \"Alfa\", \"Beta\", \"Gama\"]\n",
    "eeg_signals_names = [\"A\", \"B\", \"C\", \"D\", \"E\"]\n",
    "eeg_table2_df = pd.DataFrame(index=eeg_signals_names, columns=features_names)\n",
    "for k in range(len(eeg_signals_names)):\n",
    "    sig_type = eeg_signals_names[k]\n",
    "    data_eeg_1 = getEEGSignals(sig_type, 1)\n",
    "    eeg_1_fs = 173.61\n",
    "    features = extract_features2_windows(data_eeg_1, eeg_1_fs)\n",
    "    eeg_table2_df.loc[sig_type, :] = features\n",
    "eeg_table2_df"
   ]
  },
  {
   "cell_type": "markdown",
   "metadata": {},
   "source": [
    "## c)"
   ]
  },
  {
   "cell_type": "code",
   "execution_count": 224,
   "metadata": {
    "ExecuteTime": {
     "end_time": "2019-11-22T03:26:41.387285Z",
     "start_time": "2019-11-22T03:26:41.373308Z"
    }
   },
   "outputs": [],
   "source": [
    "def freq_at_n_pct_of_energy(signal, fs, n_pct):\n",
    "    N = len(signal)\n",
    "    signal_fft = np.fft.fft(signal)/N\n",
    "    signal_fft_pos = np.abs(signal_fft[:N // 2])\n",
    "    f = np.linspace(0, fs, N)\n",
    "    f_pos = f[:N // 2]\n",
    "    psd = np.power(np.abs(signal_fft_pos), 2)\n",
    "    energy_total = np.sum(psd)\n",
    "    # n_pct_energy = np.sum(psd)*n_pct\n",
    "    f_idx = len(f_pos)//2\n",
    "    fm = f_pos[f_idx]\n",
    "    current_energy = np.sum(psd[:f_idx])\n",
    "    curr_energy_pct = current_energy/energy_total\n",
    "    if curr_energy_pct < n_pct:\n",
    "        while(curr_energy_pct < n_pct):\n",
    "            fm = f_pos[f_idx]\n",
    "            current_energy = np.sum(psd[:f_idx])\n",
    "            curr_energy_pct = current_energy/energy_total\n",
    "            f_idx+=1\n",
    "    elif curr_energy_pct > n_pct:\n",
    "        while(curr_energy_pct > n_pct):\n",
    "            fm = f_pos[f_idx]\n",
    "            current_energy = np.sum(psd[:f_idx])\n",
    "            curr_energy_pct = current_energy/energy_total\n",
    "            f_idx-=1\n",
    "        f_idx+=2\n",
    "        fm = f_pos[f_idx]\n",
    "    return fm"
   ]
  },
  {
   "cell_type": "code",
   "execution_count": 233,
   "metadata": {
    "ExecuteTime": {
     "end_time": "2019-11-22T03:33:33.457356Z",
     "start_time": "2019-11-22T03:33:33.451359Z"
    }
   },
   "outputs": [],
   "source": [
    "def get_fm_from_signals():\n",
    "    eeg_signals_names = [\"A\", \"B\", \"C\", \"D\", \"E\"]\n",
    "    fm_max = 0\n",
    "    n_pct = 0.95\n",
    "    for sig_type in eeg_signals_names:\n",
    "        for k in range(1, 101):\n",
    "            data_eeg_1 = getEEGSignals(sig_type, k)\n",
    "            fs_eeg_1 = 173.61\n",
    "            fm = freq_at_n_pct_of_energy(data_eeg_1, fs_eeg_1, n_pct)\n",
    "            if fm > fm_max:\n",
    "                fm_max = fm\n",
    "    return fm_max"
   ]
  },
  {
   "cell_type": "code",
   "execution_count": 236,
   "metadata": {
    "ExecuteTime": {
     "end_time": "2019-11-22T03:44:58.053677Z",
     "start_time": "2019-11-22T03:44:44.779283Z"
    }
   },
   "outputs": [
    {
     "name": "stdout",
     "output_type": "stream",
     "text": [
      "fm:  35.179760742187504\n"
     ]
    }
   ],
   "source": [
    "fm = get_fm_from_signals()\n",
    "print(\"fm: \", fm)"
   ]
  },
  {
   "cell_type": "code",
   "execution_count": 423,
   "metadata": {
    "ExecuteTime": {
     "end_time": "2019-11-22T11:24:06.468122Z",
     "start_time": "2019-11-22T11:24:06.456131Z"
    }
   },
   "outputs": [],
   "source": [
    "def iir_design(bands, maximum_order = 15, filter_tol = 1e-5):\n",
    "    not_finished = 1\n",
    "    order = maximum_order\n",
    "    bands_ = bands\n",
    "    mode = 'bandpass'\n",
    "    if bands[0] == 0:\n",
    "        bands_ = bands[1]\n",
    "        mode = 'lowpass'\n",
    "    if bands[1] == 0.5:\n",
    "        bands_ = bands[0]\n",
    "        mode = 'highpass'\n",
    "    while not_finished:\n",
    "        num, den = butter(order, bands_ * 2, btype=mode, analog=False)\n",
    "        not_finished = any(np.abs(np.roots(den)) > 1 - filter_tol)\n",
    "        order = order - 1\n",
    "    return num, den"
   ]
  },
  {
   "cell_type": "code",
   "execution_count": 469,
   "metadata": {
    "ExecuteTime": {
     "end_time": "2019-11-22T11:48:54.770780Z",
     "start_time": "2019-11-22T11:48:54.759788Z"
    }
   },
   "outputs": [],
   "source": [
    "def extract_features3(signal, fs, fm, bands, maximum_order=10, filter_tol=1e-2):    \n",
    "    N = len(signal)\n",
    "    signal_fft = np.fft.fft(signal)/N\n",
    "    signal_fft_pos = signal_fft[:N // 2]\n",
    "    psd_total = np.power(np.abs(signal_fft_pos), 2)\n",
    "    E_total = np.sum(psd_total)\n",
    "    E_pct_vec = []\n",
    "    for b in range(len(bands)):\n",
    "        num, den = iir_design(bands[b], maximum_order = maximum_order, filter_tol = filter_tol)\n",
    "        signal_filtered = filtfilt(num, den, signal)\n",
    "        N = len(signal_filtered)\n",
    "        signal_fft_filtered = np.fft.fft(signal_filtered)/N\n",
    "        signal_fft_pos_filtered = signal_fft_filtered[:N // 2]\n",
    "        psd = np.power(np.abs(signal_fft_pos_filtered), 2)\n",
    "        E = np.sum(psd)\n",
    "        E_pct_vec.append(E/E_total)\n",
    "    return np.array(E_pct_vec)"
   ]
  },
  {
   "cell_type": "code",
   "execution_count": 451,
   "metadata": {
    "ExecuteTime": {
     "end_time": "2019-11-22T11:31:00.543846Z",
     "start_time": "2019-11-22T11:31:00.535829Z"
    }
   },
   "outputs": [],
   "source": [
    "def extract_features3_windows(signal, fs, fm, bands):\n",
    "    i=0\n",
    "    window_vec = extract_windows(signal, fs)\n",
    "    features = extract_features3(window_vec[i], fs, fm, bands)\n",
    "    for i in range(1, len(window_vec)):\n",
    "        features = features + extract_features3(window_vec[i], fs, fm, bands)\n",
    "    features = features/len(window_vec)\n",
    "    return features"
   ]
  },
  {
   "cell_type": "code",
   "execution_count": 452,
   "metadata": {
    "ExecuteTime": {
     "end_time": "2019-11-22T11:31:01.581564Z",
     "start_time": "2019-11-22T11:31:01.568571Z"
    },
    "scrolled": true
   },
   "outputs": [
    {
     "name": "stdout",
     "output_type": "stream",
     "text": [
      "0.00-3.52 Hz\n",
      "3.52-7.04 Hz\n",
      "7.04-10.55 Hz\n",
      "10.55-14.07 Hz\n",
      "14.07-17.59 Hz\n",
      "17.59-21.11 Hz\n",
      "21.11-24.63 Hz\n",
      "24.63-28.14 Hz\n",
      "28.14-31.66 Hz\n",
      "31.66-35.18 Hz\n"
     ]
    }
   ],
   "source": [
    "number_bands\n",
    "maximum_normalized_frequency = fm / fs\n",
    "maximum_normalized_frequency = fm / fs\n",
    "bands = np.zeros([10, 2])\n",
    "bands[:, 0] = np.linspace(0, maximum_normalized_frequency-maximum_normalized_frequency/number_bands, number_bands)\n",
    "bands[:, 1] = np.linspace(maximum_normalized_frequency/number_bands, maximum_normalized_frequency, number_bands)\n",
    "bands = np.array(bands)\n",
    "bands_freq = bands*fs\n",
    "features_names = []\n",
    "for i in range(number_bands):\n",
    "    name = \"{0:.2f}\".format(bands_freq[i, 0]) + \"-\" + \"{0:.2f}\".format(bands_freq[i, 1]) + \" Hz\"\n",
    "    features_names.append(name)\n",
    "    print(name)"
   ]
  },
  {
   "cell_type": "code",
   "execution_count": 467,
   "metadata": {
    "ExecuteTime": {
     "end_time": "2019-11-22T11:46:52.456156Z",
     "start_time": "2019-11-22T11:46:45.413305Z"
    }
   },
   "outputs": [
    {
     "data": {
      "text/html": [
       "<div>\n",
       "<style scoped>\n",
       "    .dataframe tbody tr th:only-of-type {\n",
       "        vertical-align: middle;\n",
       "    }\n",
       "\n",
       "    .dataframe tbody tr th {\n",
       "        vertical-align: top;\n",
       "    }\n",
       "\n",
       "    .dataframe thead th {\n",
       "        text-align: right;\n",
       "    }\n",
       "</style>\n",
       "<table border=\"1\" class=\"dataframe\">\n",
       "  <thead>\n",
       "    <tr style=\"text-align: right;\">\n",
       "      <th></th>\n",
       "      <th>0.00-3.52 Hz</th>\n",
       "      <th>3.52-7.04 Hz</th>\n",
       "      <th>7.04-10.55 Hz</th>\n",
       "      <th>10.55-14.07 Hz</th>\n",
       "      <th>14.07-17.59 Hz</th>\n",
       "      <th>17.59-21.11 Hz</th>\n",
       "      <th>21.11-24.63 Hz</th>\n",
       "      <th>24.63-28.14 Hz</th>\n",
       "      <th>28.14-31.66 Hz</th>\n",
       "      <th>31.66-35.18 Hz</th>\n",
       "    </tr>\n",
       "  </thead>\n",
       "  <tbody>\n",
       "    <tr>\n",
       "      <th>A</th>\n",
       "      <td>0.420753</td>\n",
       "      <td>0.167851</td>\n",
       "      <td>0.130648</td>\n",
       "      <td>0.146658</td>\n",
       "      <td>0.0272277</td>\n",
       "      <td>0.0232472</td>\n",
       "      <td>0.0187554</td>\n",
       "      <td>0.0106705</td>\n",
       "      <td>0.00514742</td>\n",
       "      <td>0.00180125</td>\n",
       "    </tr>\n",
       "    <tr>\n",
       "      <th>B</th>\n",
       "      <td>0.397781</td>\n",
       "      <td>0.109743</td>\n",
       "      <td>0.168168</td>\n",
       "      <td>0.219901</td>\n",
       "      <td>0.0234895</td>\n",
       "      <td>0.0153769</td>\n",
       "      <td>0.0205527</td>\n",
       "      <td>0.00685295</td>\n",
       "      <td>0.00528942</td>\n",
       "      <td>0.00209228</td>\n",
       "    </tr>\n",
       "    <tr>\n",
       "      <th>C</th>\n",
       "      <td>0.668319</td>\n",
       "      <td>0.192823</td>\n",
       "      <td>0.048171</td>\n",
       "      <td>0.0143482</td>\n",
       "      <td>0.00734681</td>\n",
       "      <td>0.00270453</td>\n",
       "      <td>0.00135979</td>\n",
       "      <td>0.000716754</td>\n",
       "      <td>0.000336433</td>\n",
       "      <td>0.000156783</td>\n",
       "    </tr>\n",
       "    <tr>\n",
       "      <th>D</th>\n",
       "      <td>0.738448</td>\n",
       "      <td>0.0577229</td>\n",
       "      <td>0.0176231</td>\n",
       "      <td>0.0105528</td>\n",
       "      <td>0.00373124</td>\n",
       "      <td>0.0022577</td>\n",
       "      <td>0.00222172</td>\n",
       "      <td>0.00097435</td>\n",
       "      <td>0.000771779</td>\n",
       "      <td>0.000319454</td>\n",
       "    </tr>\n",
       "    <tr>\n",
       "      <th>E</th>\n",
       "      <td>0.257462</td>\n",
       "      <td>0.207976</td>\n",
       "      <td>0.0825131</td>\n",
       "      <td>0.158148</td>\n",
       "      <td>0.148437</td>\n",
       "      <td>0.0479422</td>\n",
       "      <td>0.0156288</td>\n",
       "      <td>0.00506468</td>\n",
       "      <td>0.00245682</td>\n",
       "      <td>0.00159173</td>\n",
       "    </tr>\n",
       "  </tbody>\n",
       "</table>\n",
       "</div>"
      ],
      "text/plain": [
       "  0.00-3.52 Hz 3.52-7.04 Hz 7.04-10.55 Hz 10.55-14.07 Hz 14.07-17.59 Hz  \\\n",
       "A     0.420753     0.167851      0.130648       0.146658      0.0272277   \n",
       "B     0.397781     0.109743      0.168168       0.219901      0.0234895   \n",
       "C     0.668319     0.192823      0.048171      0.0143482     0.00734681   \n",
       "D     0.738448    0.0577229     0.0176231      0.0105528     0.00373124   \n",
       "E     0.257462     0.207976     0.0825131       0.158148       0.148437   \n",
       "\n",
       "  17.59-21.11 Hz 21.11-24.63 Hz 24.63-28.14 Hz 28.14-31.66 Hz 31.66-35.18 Hz  \n",
       "A      0.0232472      0.0187554      0.0106705     0.00514742     0.00180125  \n",
       "B      0.0153769      0.0205527     0.00685295     0.00528942     0.00209228  \n",
       "C     0.00270453     0.00135979    0.000716754    0.000336433    0.000156783  \n",
       "D      0.0022577     0.00222172     0.00097435    0.000771779    0.000319454  \n",
       "E      0.0479422      0.0156288     0.00506468     0.00245682     0.00159173  "
      ]
     },
     "execution_count": 467,
     "metadata": {},
     "output_type": "execute_result"
    }
   ],
   "source": [
    "eeg_signals_names = [\"A\", \"B\", \"C\", \"D\", \"E\"]\n",
    "eeg_table3_df = pd.DataFrame(index=eeg_signals_names, columns=features_names)\n",
    "for k in range(len(eeg_signals_names)):\n",
    "    sig_type = eeg_signals_names[k]\n",
    "    data_eeg_1 = getEEGSignals(sig_type, 1)\n",
    "    eeg_1_fs = 173.61\n",
    "    features = extract_features3_windows(data_eeg_1, eeg_1_fs, fm, bands)\n",
    "    eeg_table3_df.loc[sig_type, :] = features\n",
    "eeg_table3_df"
   ]
  },
  {
   "cell_type": "markdown",
   "metadata": {},
   "source": [
    "## d)"
   ]
  },
  {
   "cell_type": "code",
   "execution_count": 450,
   "metadata": {
    "ExecuteTime": {
     "end_time": "2019-11-22T11:26:53.509345Z",
     "start_time": "2019-11-22T11:26:53.491356Z"
    },
    "scrolled": true
   },
   "outputs": [
    {
     "data": {
      "text/html": [
       "<div>\n",
       "<style scoped>\n",
       "    .dataframe tbody tr th:only-of-type {\n",
       "        vertical-align: middle;\n",
       "    }\n",
       "\n",
       "    .dataframe tbody tr th {\n",
       "        vertical-align: top;\n",
       "    }\n",
       "\n",
       "    .dataframe thead th {\n",
       "        text-align: right;\n",
       "    }\n",
       "</style>\n",
       "<table border=\"1\" class=\"dataframe\">\n",
       "  <thead>\n",
       "    <tr style=\"text-align: right;\">\n",
       "      <th></th>\n",
       "      <th>F Median</th>\n",
       "      <th>F Mean</th>\n",
       "      <th>F Modal</th>\n",
       "      <th>V Med Ret</th>\n",
       "      <th>RMS</th>\n",
       "    </tr>\n",
       "  </thead>\n",
       "  <tbody>\n",
       "    <tr>\n",
       "      <th>A</th>\n",
       "      <td>4.58054</td>\n",
       "      <td>6.50059</td>\n",
       "      <td>1.87727</td>\n",
       "      <td>18.5042</td>\n",
       "      <td>27.363</td>\n",
       "    </tr>\n",
       "    <tr>\n",
       "      <th>B</th>\n",
       "      <td>6.80824</td>\n",
       "      <td>7.46218</td>\n",
       "      <td>2.478</td>\n",
       "      <td>21.1671</td>\n",
       "      <td>31.0622</td>\n",
       "    </tr>\n",
       "    <tr>\n",
       "      <th>C</th>\n",
       "      <td>2.10254</td>\n",
       "      <td>2.85706</td>\n",
       "      <td>0</td>\n",
       "      <td>21.922</td>\n",
       "      <td>33.3189</td>\n",
       "    </tr>\n",
       "    <tr>\n",
       "      <th>D</th>\n",
       "      <td>0.100121</td>\n",
       "      <td>1.31254</td>\n",
       "      <td>0</td>\n",
       "      <td>17.7568</td>\n",
       "      <td>25.6782</td>\n",
       "    </tr>\n",
       "    <tr>\n",
       "      <th>E</th>\n",
       "      <td>7.15866</td>\n",
       "      <td>8.78728</td>\n",
       "      <td>3.47921</td>\n",
       "      <td>202.905</td>\n",
       "      <td>301.07</td>\n",
       "    </tr>\n",
       "  </tbody>\n",
       "</table>\n",
       "</div>"
      ],
      "text/plain": [
       "   F Median   F Mean  F Modal V Med Ret      RMS\n",
       "A   4.58054  6.50059  1.87727   18.5042   27.363\n",
       "B   6.80824  7.46218    2.478   21.1671  31.0622\n",
       "C   2.10254  2.85706        0    21.922  33.3189\n",
       "D  0.100121  1.31254        0   17.7568  25.6782\n",
       "E   7.15866  8.78728  3.47921   202.905   301.07"
      ]
     },
     "execution_count": 450,
     "metadata": {},
     "output_type": "execute_result"
    }
   ],
   "source": [
    "eeg_table1_df"
   ]
  },
  {
   "cell_type": "markdown",
   "metadata": {},
   "source": [
    "## e)"
   ]
  },
  {
   "cell_type": "code",
   "execution_count": 508,
   "metadata": {
    "ExecuteTime": {
     "end_time": "2019-11-22T13:39:19.160559Z",
     "start_time": "2019-11-22T13:38:09.433070Z"
    }
   },
   "outputs": [
    {
     "name": "stdout",
     "output_type": "stream",
     "text": [
      "[100/100]      "
     ]
    }
   ],
   "source": [
    "features_types_names = [\"Features 1\", \"Features 2\", \"Features 3\"]\n",
    "samples_per_class = 100\n",
    "class_names = [\"A\", \"D\"] # 0, 1\n",
    "n_classes = len(class_names)\n",
    "X_vec = []\n",
    "y_vec = []\n",
    "for features_type in range(1, len(features_types_names)+1):    \n",
    "    X = []\n",
    "    y = []\n",
    "    for i in range(samples_per_class):\n",
    "        for class_name in class_names:\n",
    "            data_eeg_1 = getEEGSignals(class_name, i+1)\n",
    "            eeg_1_fs = 173.61\n",
    "            if features_type == 1:\n",
    "                features = extract_features_windows(data_eeg_1, eeg_1_fs)\n",
    "            elif features_type == 2:\n",
    "                features = extract_features2_windows(data_eeg_1, eeg_1_fs)\n",
    "            else:\n",
    "                features = extract_features3_windows(data_eeg_1, eeg_1_fs, fm, bands)\n",
    "            X.append(features)\n",
    "            y.append(class_names.index(class_name))\n",
    "        print(\"\\r[{}/{}]      \".format(i+1, samples_per_class), end=\"\")\n",
    "    X = np.array(X)\n",
    "    y = np.array(y)\n",
    "    X_vec.append(X)\n",
    "    y_vec.append(y)"
   ]
  },
  {
   "cell_type": "code",
   "execution_count": 522,
   "metadata": {
    "ExecuteTime": {
     "end_time": "2019-11-22T13:44:49.019362Z",
     "start_time": "2019-11-22T13:44:48.972395Z"
    }
   },
   "outputs": [
    {
     "data": {
      "text/html": [
       "<div>\n",
       "<style scoped>\n",
       "    .dataframe tbody tr th:only-of-type {\n",
       "        vertical-align: middle;\n",
       "    }\n",
       "\n",
       "    .dataframe tbody tr th {\n",
       "        vertical-align: top;\n",
       "    }\n",
       "\n",
       "    .dataframe thead th {\n",
       "        text-align: right;\n",
       "    }\n",
       "</style>\n",
       "<table border=\"1\" class=\"dataframe\">\n",
       "  <thead>\n",
       "    <tr style=\"text-align: right;\">\n",
       "      <th></th>\n",
       "      <th>Accuracy</th>\n",
       "      <th>Precision</th>\n",
       "      <th>Recall</th>\n",
       "      <th>F1 Score</th>\n",
       "    </tr>\n",
       "  </thead>\n",
       "  <tbody>\n",
       "    <tr>\n",
       "      <th>Features 1</th>\n",
       "      <td>0.85</td>\n",
       "      <td>0.894737</td>\n",
       "      <td>0.809524</td>\n",
       "      <td>0.85</td>\n",
       "    </tr>\n",
       "    <tr>\n",
       "      <th>Features 2</th>\n",
       "      <td>0.875</td>\n",
       "      <td>0.818182</td>\n",
       "      <td>0.947368</td>\n",
       "      <td>0.878049</td>\n",
       "    </tr>\n",
       "    <tr>\n",
       "      <th>Features 3</th>\n",
       "      <td>0.95</td>\n",
       "      <td>0.954545</td>\n",
       "      <td>0.954545</td>\n",
       "      <td>0.954545</td>\n",
       "    </tr>\n",
       "  </tbody>\n",
       "</table>\n",
       "</div>"
      ],
      "text/plain": [
       "           Accuracy Precision    Recall  F1 Score\n",
       "Features 1     0.85  0.894737  0.809524      0.85\n",
       "Features 2    0.875  0.818182  0.947368  0.878049\n",
       "Features 3     0.95  0.954545  0.954545  0.954545"
      ]
     },
     "execution_count": 522,
     "metadata": {},
     "output_type": "execute_result"
    }
   ],
   "source": [
    "features_types_names = [\"Features 1\", \"Features 2\", \"Features 3\"]\n",
    "metrics_names = [\"Accuracy\", \"Precision\", \"Recall\", \"F1 Score\"]\n",
    "samples_per_class = 100\n",
    "class_names = [\"A\", \"D\"] # 0, 1\n",
    "n_classes = len(class_names)\n",
    "smv_table1_df = pd.DataFrame(index=features_types_names, columns=metrics_names)\n",
    "for features_type in range(1, len(features_types_names)+1):\n",
    "    # Splitting the dataset into the Training set and Test set\n",
    "#     X = X_vec[0]\n",
    "#     y = y_vec[features_type-1]\n",
    "    X_train, X_test, y_train, y_test = train_test_split(X_vec[features_type-1], y_vec[features_type-1], test_size = 0.20)\n",
    "    sc = StandardScaler()\n",
    "    X_train = sc.fit_transform(X_train)\n",
    "    X_test = sc.transform(X_test)\n",
    "    classifier = SVC(kernel = 'rbf')\n",
    "    classifier.fit(X_train, y_train)\n",
    "    # Predicting the Test set results\n",
    "    y_pred = classifier.predict(X_test)\n",
    "    # Making the Confusion Matrix\n",
    "    cm = confusion_matrix(y_test, y_pred)\n",
    "    Tp = cm[0, 0]\n",
    "    Fp = cm[1, 0]\n",
    "    Fn = cm[0, 1]\n",
    "    Tn = cm[1, 1]\n",
    "    accuracy = (Tp+Tn) / (Tp+Fp+Tn+Fn)\n",
    "    precision = (Tp) / (Tp+Fp)\n",
    "    recall = (Tp) / (Tp+Fn)\n",
    "    f1_score = 2 * (precision*recall) / (precision+recall)\n",
    "    metrics = [accuracy, precision, recall, f1_score]\n",
    "    feat_name = features_types_names[features_type-1]\n",
    "    smv_table1_df.loc[feat_name] = metrics\n",
    "smv_table1_df"
   ]
  },
  {
   "cell_type": "markdown",
   "metadata": {},
   "source": [
    "## f)"
   ]
  },
  {
   "cell_type": "code",
   "execution_count": 624,
   "metadata": {
    "ExecuteTime": {
     "end_time": "2019-11-22T14:45:15.566878Z",
     "start_time": "2019-11-22T14:45:10.186965Z"
    }
   },
   "outputs": [
    {
     "name": "stdout",
     "output_type": "stream",
     "text": [
      "[500/500]      "
     ]
    },
    {
     "data": {
      "text/html": [
       "<div>\n",
       "<style scoped>\n",
       "    .dataframe tbody tr th:only-of-type {\n",
       "        vertical-align: middle;\n",
       "    }\n",
       "\n",
       "    .dataframe tbody tr th {\n",
       "        vertical-align: top;\n",
       "    }\n",
       "\n",
       "    .dataframe thead th {\n",
       "        text-align: right;\n",
       "    }\n",
       "</style>\n",
       "<table border=\"1\" class=\"dataframe\">\n",
       "  <thead>\n",
       "    <tr style=\"text-align: right;\">\n",
       "      <th></th>\n",
       "      <th>Accuracy</th>\n",
       "      <th>Precision</th>\n",
       "      <th>Recall</th>\n",
       "      <th>F1 Score</th>\n",
       "    </tr>\n",
       "  </thead>\n",
       "  <tbody>\n",
       "    <tr>\n",
       "      <th>Features 1</th>\n",
       "      <td>0.8867</td>\n",
       "      <td>0.911574</td>\n",
       "      <td>0.86068</td>\n",
       "      <td>0.881107</td>\n",
       "    </tr>\n",
       "    <tr>\n",
       "      <th>Features 2</th>\n",
       "      <td>0.9347</td>\n",
       "      <td>0.919416</td>\n",
       "      <td>0.954471</td>\n",
       "      <td>0.935087</td>\n",
       "    </tr>\n",
       "    <tr>\n",
       "      <th>Features 3</th>\n",
       "      <td>0.96085</td>\n",
       "      <td>0.97178</td>\n",
       "      <td>0.949918</td>\n",
       "      <td>0.959493</td>\n",
       "    </tr>\n",
       "  </tbody>\n",
       "</table>\n",
       "</div>"
      ],
      "text/plain": [
       "           Accuracy Precision    Recall  F1 Score\n",
       "Features 1   0.8867  0.911574   0.86068  0.881107\n",
       "Features 2   0.9347  0.919416  0.954471  0.935087\n",
       "Features 3  0.96085   0.97178  0.949918  0.959493"
      ]
     },
     "execution_count": 624,
     "metadata": {},
     "output_type": "execute_result"
    }
   ],
   "source": [
    "sessions = 500\n",
    "features_types_names = [\"Features 1\", \"Features 2\", \"Features 3\"]\n",
    "metrics_names = [\"Accuracy\", \"Precision\", \"Recall\", \"F1 Score\"]\n",
    "samples_per_class = 100\n",
    "class_names = [\"A\", \"D\"] # 0, 1\n",
    "n_classes = len(class_names)\n",
    "smv_table2_df = pd.DataFrame(index=features_types_names, columns=metrics_names)\n",
    "smv_table2_total_df = pd.DataFrame(index=features_types_names, columns=metrics_names)\n",
    "smv_parcial_table = np.zeros([len(features_types_names), len(metrics_names)])\n",
    "for k in range(sessions):\n",
    "    for features_type in range(1, len(features_types_names)+1):\n",
    "        # Splitting the dataset into the Training set and Test set\n",
    "    #     X = X_vec[0]\n",
    "    #     y = y_vec[features_type-1]\n",
    "        X_train, X_test, y_train, y_test = train_test_split(X_vec[features_type-1], y_vec[features_type-1], test_size = 0.20)\n",
    "        sc = StandardScaler()\n",
    "        X_train = sc.fit_transform(X_train)\n",
    "        X_test = sc.transform(X_test)\n",
    "        classifier = SVC(kernel = 'rbf')\n",
    "        classifier.fit(X_train, y_train)\n",
    "        # Predicting the Test set results\n",
    "        y_pred = classifier.predict(X_test)\n",
    "        # Making the Confusion Matrix\n",
    "        cm = confusion_matrix(y_test, y_pred)\n",
    "        Tp = cm[0, 0]\n",
    "        Fp = cm[1, 0]\n",
    "        Fn = cm[0, 1]\n",
    "        Tn = cm[1, 1]\n",
    "        accuracy = (Tp+Tn) / (Tp+Fp+Tn+Fn)\n",
    "        precision = (Tp) / (Tp+Fp)\n",
    "        recall = (Tp) / (Tp+Fn)\n",
    "        f1_score = 2 * (precision*recall) / (precision+recall)\n",
    "        metrics = [accuracy, precision, recall, f1_score]\n",
    "        feat_name = features_types_names[features_type-1]\n",
    "        smv_table2_df.loc[feat_name] = metrics\n",
    "    smv_parcial_table = smv_parcial_table + np.array(smv_table2_df)\n",
    "    print(\"\\r[{}/{}]      \".format(k+1, sessions), end=\"\")\n",
    "smv_parcial_table = smv_parcial_table/sessions\n",
    "smv_table2_total_df.loc[:,:] = smv_parcial_table\n",
    "smv_table2_total_df"
   ]
  },
  {
   "cell_type": "markdown",
   "metadata": {},
   "source": [
    "## g)"
   ]
  },
  {
   "cell_type": "code",
   "execution_count": 604,
   "metadata": {
    "ExecuteTime": {
     "end_time": "2019-11-22T14:34:15.354918Z",
     "start_time": "2019-11-22T14:34:14.830465Z"
    }
   },
   "outputs": [
    {
     "name": "stdout",
     "output_type": "stream",
     "text": [
      "Features 1\n"
     ]
    },
    {
     "data": {
      "text/html": [
       "<div>\n",
       "<style scoped>\n",
       "    .dataframe tbody tr th:only-of-type {\n",
       "        vertical-align: middle;\n",
       "    }\n",
       "\n",
       "    .dataframe tbody tr th {\n",
       "        vertical-align: top;\n",
       "    }\n",
       "\n",
       "    .dataframe thead th {\n",
       "        text-align: right;\n",
       "    }\n",
       "</style>\n",
       "<table border=\"1\" class=\"dataframe\">\n",
       "  <thead>\n",
       "    <tr style=\"text-align: right;\">\n",
       "      <th></th>\n",
       "      <th>1</th>\n",
       "      <th>2</th>\n",
       "      <th>3</th>\n",
       "      <th>4</th>\n",
       "      <th>5</th>\n",
       "      <th>6</th>\n",
       "      <th>7</th>\n",
       "      <th>8</th>\n",
       "      <th>9</th>\n",
       "      <th>10</th>\n",
       "      <th>Min</th>\n",
       "      <th>Mean</th>\n",
       "      <th>Max</th>\n",
       "    </tr>\n",
       "  </thead>\n",
       "  <tbody>\n",
       "    <tr>\n",
       "      <th>Accuracy</th>\n",
       "      <td>0.95</td>\n",
       "      <td>1</td>\n",
       "      <td>0.95</td>\n",
       "      <td>0.85</td>\n",
       "      <td>0.75</td>\n",
       "      <td>0.95</td>\n",
       "      <td>0.9</td>\n",
       "      <td>0.8</td>\n",
       "      <td>0.85</td>\n",
       "      <td>0.9</td>\n",
       "      <td>0.75</td>\n",
       "      <td>0.89</td>\n",
       "      <td>1</td>\n",
       "    </tr>\n",
       "    <tr>\n",
       "      <th>Precision</th>\n",
       "      <td>0.91</td>\n",
       "      <td>1</td>\n",
       "      <td>0.91</td>\n",
       "      <td>0.82</td>\n",
       "      <td>0.78</td>\n",
       "      <td>0.91</td>\n",
       "      <td>0.9</td>\n",
       "      <td>0.8</td>\n",
       "      <td>0.82</td>\n",
       "      <td>0.9</td>\n",
       "      <td>0.78</td>\n",
       "      <td>0.875</td>\n",
       "      <td>1</td>\n",
       "    </tr>\n",
       "    <tr>\n",
       "      <th>Recall</th>\n",
       "      <td>1</td>\n",
       "      <td>1</td>\n",
       "      <td>1</td>\n",
       "      <td>0.9</td>\n",
       "      <td>0.7</td>\n",
       "      <td>1</td>\n",
       "      <td>0.9</td>\n",
       "      <td>0.8</td>\n",
       "      <td>0.9</td>\n",
       "      <td>0.9</td>\n",
       "      <td>0.7</td>\n",
       "      <td>0.91</td>\n",
       "      <td>1</td>\n",
       "    </tr>\n",
       "    <tr>\n",
       "      <th>F1 Score</th>\n",
       "      <td>0.95</td>\n",
       "      <td>1</td>\n",
       "      <td>0.95</td>\n",
       "      <td>0.86</td>\n",
       "      <td>0.74</td>\n",
       "      <td>0.95</td>\n",
       "      <td>0.9</td>\n",
       "      <td>0.8</td>\n",
       "      <td>0.86</td>\n",
       "      <td>0.9</td>\n",
       "      <td>0.74</td>\n",
       "      <td>0.891</td>\n",
       "      <td>1</td>\n",
       "    </tr>\n",
       "  </tbody>\n",
       "</table>\n",
       "</div>"
      ],
      "text/plain": [
       "              1  2     3     4     5     6    7    8     9   10   Min   Mean  \\\n",
       "Accuracy   0.95  1  0.95  0.85  0.75  0.95  0.9  0.8  0.85  0.9  0.75   0.89   \n",
       "Precision  0.91  1  0.91  0.82  0.78  0.91  0.9  0.8  0.82  0.9  0.78  0.875   \n",
       "Recall        1  1     1   0.9   0.7     1  0.9  0.8   0.9  0.9   0.7   0.91   \n",
       "F1 Score   0.95  1  0.95  0.86  0.74  0.95  0.9  0.8  0.86  0.9  0.74  0.891   \n",
       "\n",
       "          Max  \n",
       "Accuracy    1  \n",
       "Precision   1  \n",
       "Recall      1  \n",
       "F1 Score    1  "
      ]
     },
     "metadata": {},
     "output_type": "display_data"
    },
    {
     "name": "stdout",
     "output_type": "stream",
     "text": [
      "Features 2\n"
     ]
    },
    {
     "data": {
      "text/html": [
       "<div>\n",
       "<style scoped>\n",
       "    .dataframe tbody tr th:only-of-type {\n",
       "        vertical-align: middle;\n",
       "    }\n",
       "\n",
       "    .dataframe tbody tr th {\n",
       "        vertical-align: top;\n",
       "    }\n",
       "\n",
       "    .dataframe thead th {\n",
       "        text-align: right;\n",
       "    }\n",
       "</style>\n",
       "<table border=\"1\" class=\"dataframe\">\n",
       "  <thead>\n",
       "    <tr style=\"text-align: right;\">\n",
       "      <th></th>\n",
       "      <th>1</th>\n",
       "      <th>2</th>\n",
       "      <th>3</th>\n",
       "      <th>4</th>\n",
       "      <th>5</th>\n",
       "      <th>6</th>\n",
       "      <th>7</th>\n",
       "      <th>8</th>\n",
       "      <th>9</th>\n",
       "      <th>10</th>\n",
       "      <th>Min</th>\n",
       "      <th>Mean</th>\n",
       "      <th>Max</th>\n",
       "    </tr>\n",
       "  </thead>\n",
       "  <tbody>\n",
       "    <tr>\n",
       "      <th>Accuracy</th>\n",
       "      <td>1</td>\n",
       "      <td>0.8</td>\n",
       "      <td>1</td>\n",
       "      <td>0.9</td>\n",
       "      <td>0.95</td>\n",
       "      <td>0.9</td>\n",
       "      <td>0.9</td>\n",
       "      <td>0.85</td>\n",
       "      <td>1</td>\n",
       "      <td>1</td>\n",
       "      <td>0.8</td>\n",
       "      <td>0.93</td>\n",
       "      <td>1</td>\n",
       "    </tr>\n",
       "    <tr>\n",
       "      <th>Precision</th>\n",
       "      <td>1</td>\n",
       "      <td>0.71</td>\n",
       "      <td>1</td>\n",
       "      <td>1</td>\n",
       "      <td>1</td>\n",
       "      <td>0.83</td>\n",
       "      <td>1</td>\n",
       "      <td>1</td>\n",
       "      <td>1</td>\n",
       "      <td>1</td>\n",
       "      <td>0.71</td>\n",
       "      <td>0.954</td>\n",
       "      <td>1</td>\n",
       "    </tr>\n",
       "    <tr>\n",
       "      <th>Recall</th>\n",
       "      <td>1</td>\n",
       "      <td>1</td>\n",
       "      <td>1</td>\n",
       "      <td>0.8</td>\n",
       "      <td>0.9</td>\n",
       "      <td>1</td>\n",
       "      <td>0.8</td>\n",
       "      <td>0.7</td>\n",
       "      <td>1</td>\n",
       "      <td>1</td>\n",
       "      <td>0.7</td>\n",
       "      <td>0.92</td>\n",
       "      <td>1</td>\n",
       "    </tr>\n",
       "    <tr>\n",
       "      <th>F1 Score</th>\n",
       "      <td>1</td>\n",
       "      <td>0.83</td>\n",
       "      <td>1</td>\n",
       "      <td>0.89</td>\n",
       "      <td>0.95</td>\n",
       "      <td>0.91</td>\n",
       "      <td>0.89</td>\n",
       "      <td>0.82</td>\n",
       "      <td>1</td>\n",
       "      <td>1</td>\n",
       "      <td>0.82</td>\n",
       "      <td>0.929</td>\n",
       "      <td>1</td>\n",
       "    </tr>\n",
       "  </tbody>\n",
       "</table>\n",
       "</div>"
      ],
      "text/plain": [
       "           1     2  3     4     5     6     7     8  9 10   Min   Mean Max\n",
       "Accuracy   1   0.8  1   0.9  0.95   0.9   0.9  0.85  1  1   0.8   0.93   1\n",
       "Precision  1  0.71  1     1     1  0.83     1     1  1  1  0.71  0.954   1\n",
       "Recall     1     1  1   0.8   0.9     1   0.8   0.7  1  1   0.7   0.92   1\n",
       "F1 Score   1  0.83  1  0.89  0.95  0.91  0.89  0.82  1  1  0.82  0.929   1"
      ]
     },
     "metadata": {},
     "output_type": "display_data"
    },
    {
     "name": "stdout",
     "output_type": "stream",
     "text": [
      "Features 3\n"
     ]
    },
    {
     "data": {
      "text/html": [
       "<div>\n",
       "<style scoped>\n",
       "    .dataframe tbody tr th:only-of-type {\n",
       "        vertical-align: middle;\n",
       "    }\n",
       "\n",
       "    .dataframe tbody tr th {\n",
       "        vertical-align: top;\n",
       "    }\n",
       "\n",
       "    .dataframe thead th {\n",
       "        text-align: right;\n",
       "    }\n",
       "</style>\n",
       "<table border=\"1\" class=\"dataframe\">\n",
       "  <thead>\n",
       "    <tr style=\"text-align: right;\">\n",
       "      <th></th>\n",
       "      <th>1</th>\n",
       "      <th>2</th>\n",
       "      <th>3</th>\n",
       "      <th>4</th>\n",
       "      <th>5</th>\n",
       "      <th>6</th>\n",
       "      <th>7</th>\n",
       "      <th>8</th>\n",
       "      <th>9</th>\n",
       "      <th>10</th>\n",
       "      <th>Min</th>\n",
       "      <th>Mean</th>\n",
       "      <th>Max</th>\n",
       "    </tr>\n",
       "  </thead>\n",
       "  <tbody>\n",
       "    <tr>\n",
       "      <th>Accuracy</th>\n",
       "      <td>1</td>\n",
       "      <td>0.8</td>\n",
       "      <td>1</td>\n",
       "      <td>0.95</td>\n",
       "      <td>1</td>\n",
       "      <td>0.95</td>\n",
       "      <td>0.9</td>\n",
       "      <td>1</td>\n",
       "      <td>1</td>\n",
       "      <td>1</td>\n",
       "      <td>0.8</td>\n",
       "      <td>0.96</td>\n",
       "      <td>1</td>\n",
       "    </tr>\n",
       "    <tr>\n",
       "      <th>Precision</th>\n",
       "      <td>1</td>\n",
       "      <td>0.71</td>\n",
       "      <td>1</td>\n",
       "      <td>1</td>\n",
       "      <td>1</td>\n",
       "      <td>0.91</td>\n",
       "      <td>0.9</td>\n",
       "      <td>1</td>\n",
       "      <td>1</td>\n",
       "      <td>1</td>\n",
       "      <td>0.71</td>\n",
       "      <td>0.952</td>\n",
       "      <td>1</td>\n",
       "    </tr>\n",
       "    <tr>\n",
       "      <th>Recall</th>\n",
       "      <td>1</td>\n",
       "      <td>1</td>\n",
       "      <td>1</td>\n",
       "      <td>0.9</td>\n",
       "      <td>1</td>\n",
       "      <td>1</td>\n",
       "      <td>0.9</td>\n",
       "      <td>1</td>\n",
       "      <td>1</td>\n",
       "      <td>1</td>\n",
       "      <td>0.9</td>\n",
       "      <td>0.98</td>\n",
       "      <td>1</td>\n",
       "    </tr>\n",
       "    <tr>\n",
       "      <th>F1 Score</th>\n",
       "      <td>1</td>\n",
       "      <td>0.83</td>\n",
       "      <td>1</td>\n",
       "      <td>0.95</td>\n",
       "      <td>1</td>\n",
       "      <td>0.95</td>\n",
       "      <td>0.9</td>\n",
       "      <td>1</td>\n",
       "      <td>1</td>\n",
       "      <td>1</td>\n",
       "      <td>0.83</td>\n",
       "      <td>0.963</td>\n",
       "      <td>1</td>\n",
       "    </tr>\n",
       "  </tbody>\n",
       "</table>\n",
       "</div>"
      ],
      "text/plain": [
       "           1     2  3     4  5     6    7  8  9 10   Min   Mean Max\n",
       "Accuracy   1   0.8  1  0.95  1  0.95  0.9  1  1  1   0.8   0.96   1\n",
       "Precision  1  0.71  1     1  1  0.91  0.9  1  1  1  0.71  0.952   1\n",
       "Recall     1     1  1   0.9  1     1  0.9  1  1  1   0.9   0.98   1\n",
       "F1 Score   1  0.83  1  0.95  1  0.95  0.9  1  1  1  0.83  0.963   1"
      ]
     },
     "metadata": {},
     "output_type": "display_data"
    }
   ],
   "source": [
    "from sklearn.model_selection import cross_validate\n",
    "from sklearn.metrics import make_scorer\n",
    "\n",
    "features_types_names = [\"Features 1\", \"Features 2\", \"Features 3\"]\n",
    "metrics_names = [\"Accuracy\", \"Precision\", \"Recall\", \"F1 Score\"]\n",
    "samples_per_class = 100\n",
    "class_names = [\"A\", \"D\"] # 0, 1\n",
    "k_fold_num = 10\n",
    "n_classes = len(class_names)\n",
    "column_names = [str(v) for v in np.arange(1,k_fold_num+1)]\n",
    "column_names.append(\"Min\")\n",
    "column_names.append(\"Mean\")\n",
    "column_names.append(\"Max\")\n",
    "smv_table1_df = pd.DataFrame(index=metrics_names, columns=column_names)\n",
    "for features_type in range(1, len(features_types_names)+1):\n",
    "    # Splitting the dataset into the Training set and Test set\n",
    "    sc = StandardScaler()\n",
    "    X = sc.fit_transform(X_vec[features_type-1])\n",
    "    y = y_vec[features_type-1]\n",
    "    classifier = SVC(kernel = 'rbf', gamma='scale')\n",
    "    scores = cross_validate(classifier, X, y, cv=k_fold_num,\n",
    "                            scoring=('accuracy', 'precision', 'recall', 'f1'),\n",
    "                            return_train_score=True)\n",
    "    print(\"Features \" + str(features_type))\n",
    "    smv_table1_df.loc[\"Accuracy\",:-3] = np.around(scores[\"test_accuracy\"], decimals=2)\n",
    "    smv_table1_df.loc[\"Accuracy\", \"Min\"] = min(np.around(scores[\"test_accuracy\"], decimals=2))\n",
    "    smv_table1_df.loc[\"Accuracy\", \"Mean\"] = np.mean(np.around(scores[\"test_accuracy\"], decimals=2))\n",
    "    smv_table1_df.loc[\"Accuracy\", \"Max\"] = max(np.around(scores[\"test_accuracy\"], decimals=2))\n",
    "    smv_table1_df.loc[\"Precision\",:-3] = np.around(scores[\"test_precision\"], decimals=2)\n",
    "    smv_table1_df.loc[\"Precision\", \"Min\"] = min(np.around(scores[\"test_precision\"], decimals=2))\n",
    "    smv_table1_df.loc[\"Precision\", \"Mean\"] = np.mean(np.around(scores[\"test_precision\"], decimals=2))\n",
    "    smv_table1_df.loc[\"Precision\", \"Max\"] = max(np.around(scores[\"test_precision\"], decimals=2))\n",
    "    smv_table1_df.loc[\"Recall\",:-3] = np.around(scores[\"test_recall\"], decimals=2)\n",
    "    smv_table1_df.loc[\"Recall\", \"Min\"] = min(np.around(scores[\"test_recall\"], decimals=2))\n",
    "    smv_table1_df.loc[\"Recall\", \"Mean\"] = np.mean(np.around(scores[\"test_recall\"], decimals=2))\n",
    "    smv_table1_df.loc[\"Recall\", \"Max\"] = max(np.around(scores[\"test_recall\"], decimals=2))\n",
    "    smv_table1_df.loc[\"F1 Score\",:-3] = np.around(scores[\"test_f1\"], decimals=2)\n",
    "    smv_table1_df.loc[\"F1 Score\", \"Min\"] = min(np.around(scores[\"test_f1\"], decimals=2))\n",
    "    smv_table1_df.loc[\"F1 Score\", \"Mean\"] = np.mean(np.around(scores[\"test_f1\"], decimals=2))\n",
    "    smv_table1_df.loc[\"F1 Score\", \"Max\"] = max(np.around(scores[\"test_f1\"], decimals=2))\n",
    "                                       \n",
    "    display(smv_table1_df)"
   ]
  }
 ],
 "metadata": {
  "hide_input": false,
  "kernelspec": {
   "display_name": "Python 3",
   "language": "python",
   "name": "python3"
  },
  "language_info": {
   "codemirror_mode": {
    "name": "ipython",
    "version": 3
   },
   "file_extension": ".py",
   "mimetype": "text/x-python",
   "name": "python",
   "nbconvert_exporter": "python",
   "pygments_lexer": "ipython3",
   "version": "3.7.5"
  },
  "latex_envs": {
   "LaTeX_envs_menu_present": true,
   "autoclose": false,
   "autocomplete": true,
   "bibliofile": "biblio.bib",
   "cite_by": "apalike",
   "current_citInitial": 1,
   "eqLabelWithNumbers": true,
   "eqNumInitial": 1,
   "hotkeys": {
    "equation": "Ctrl-E",
    "itemize": "Ctrl-I"
   },
   "labels_anchors": false,
   "latex_user_defs": false,
   "report_style_numbering": false,
   "user_envs_cfg": false
  },
  "toc": {
   "base_numbering": 1,
   "nav_menu": {},
   "number_sections": true,
   "sideBar": true,
   "skip_h1_title": false,
   "title_cell": "Table of Contents",
   "title_sidebar": "Contents",
   "toc_cell": false,
   "toc_position": {},
   "toc_section_display": true,
   "toc_window_display": false
  },
  "varInspector": {
   "cols": {
    "lenName": 16,
    "lenType": 16,
    "lenVar": 40
   },
   "kernels_config": {
    "python": {
     "delete_cmd_postfix": "",
     "delete_cmd_prefix": "del ",
     "library": "var_list.py",
     "varRefreshCmd": "print(var_dic_list())"
    },
    "r": {
     "delete_cmd_postfix": ") ",
     "delete_cmd_prefix": "rm(",
     "library": "var_list.r",
     "varRefreshCmd": "cat(var_dic_list()) "
    }
   },
   "types_to_exclude": [
    "module",
    "function",
    "builtin_function_or_method",
    "instance",
    "_Feature"
   ],
   "window_display": false
  }
 },
 "nbformat": 4,
 "nbformat_minor": 2
}
