{
 "cells": [
  {
   "cell_type": "markdown",
   "metadata": {},
   "source": [
    "Extensão das técnicas de filtragem e decomposição para domínios de dimensão superior.\n",
    "\n",
    "**-> Filtragem**\n",
    "- FIR\n",
    "    - Implementação\n",
    "        - Conv1D -> Conv2D\n",
    "    - Projeto\n",
    "        - Projeto 1D na horizontal/vertical -> produto externo -> núclo 2D -> filtros separáveis\n",
    "        - Partir de uma especificação em frequência não separável para obter o filtro de forma análoga às técnicas 1D: por exemplo, janelamento -> filtros não separáveis\n",
    "        \n",
    "Uma vez projetados os filtros de domínio 2D separáveis ou não separáveis, como podemos usá-los nas decomposições multinível?"
   ]
  },
  {
   "cell_type": "markdown",
   "metadata": {},
   "source": [
    "![image](images/multiQMF.png)"
   ]
  },
  {
   "cell_type": "code",
   "execution_count": 2,
   "metadata": {
    "ExecuteTime": {
     "end_time": "2019-11-22T17:49:09.610662Z",
     "start_time": "2019-11-22T17:49:09.590670Z"
    }
   },
   "outputs": [],
   "source": [
    "def downsample(x, factor):\n",
    "    x = x[:len(x):factor]\n",
    "    return x\n",
    "def upsample(x, factor):\n",
    "    y = np.zeros(len(x)*factor)\n",
    "    y[:len(y):factor] = x\n",
    "    return y\n",
    "\n",
    "def filter_iterator(h0, h1, levels):\n",
    "    h0 = np.array(h0)\n",
    "    h1 = np.array(h1)\n",
    "    h = [0] * (levels+1)\n",
    "    h[levels] = h1\n",
    "    aux = np.copy(h0)\n",
    "    for n in range(levels, 1, -1):\n",
    "        h_ = upsample(h[n], 2)\n",
    "        h_ = h_[:len(h_) - 1]\n",
    "        h[n-1] = conv(h_, h0)\n",
    "        aux = upsample(aux, 2)\n",
    "        aux = aux[:len(aux) - 1]\n",
    "        aux = conv(aux, h0)\n",
    "    h[0] = aux\n",
    "    return h\n",
    "\n",
    "def plot_iterated_filters(h, h_names):\n",
    "    n_filters = len(h)\n",
    "    fig = plt.figure(figsize=[13,4])\n",
    "    ax1 = fig.add_subplot(121)\n",
    "    for i in range(n_filters):\n",
    "        w, h_mag = freqz(h[i])\n",
    "        plt.plot(w, abs(h_mag), label = h_names[i])\n",
    "    plt.ylabel('Magnitude')\n",
    "    plt.xlabel('Frequencies [rad/sample]')\n",
    "    plt.grid()\n",
    "    plt.legend()\n",
    "\n",
    "    ax2 = fig.add_subplot(122)\n",
    "    for i in range(n_filters):\n",
    "        w, h_mag = freqz(h[i])\n",
    "        angles = np.unwrap(np.angle(h_mag))\n",
    "        plt.plot(w, angles, label = h_names[i])\n",
    "    plt.ylabel('Angle (radians)')\n",
    "    plt.xlabel('Frequencies [rad/sample]')\n",
    "    plt.grid()\n",
    "    plt.legend()\n",
    "    plt.show()"
   ]
  },
  {
   "cell_type": "code",
   "execution_count": 3,
   "metadata": {
    "ExecuteTime": {
     "end_time": "2019-11-22T17:49:11.049233Z",
     "start_time": "2019-11-22T17:49:11.037236Z"
    }
   },
   "outputs": [],
   "source": [
    "def qmf_decomposition(x, h0, h1, levels):\n",
    "    h = filter_iterator(h0, h1, levels)\n",
    "    xdc = [0] * (levels + 1)\n",
    "    xd = []\n",
    "    downsample_factor = 1\n",
    "    for n in range(levels, -1, -1):\n",
    "        downsample_factor *= 2\n",
    "        xdc[n] = downsample(conv(h[n], x), downsample_factor)\n",
    "        xd = np.append(xdc[n], xd)\n",
    "    xdc[0] = downsample(conv(h[0], x), downsample_factor)\n",
    "    return xdc, xd"
   ]
  },
  {
   "cell_type": "code",
   "execution_count": null,
   "metadata": {},
   "outputs": [],
   "source": [
    "def iterate2dfilters(h, downsample_factors):\n",
    "    hi[len(h) + 3] = hi[len(h)]\n",
    "    for n in range(5, len(h)+2):\n",
    "        hi[n] = h[n-3]\n",
    "    return hi, downsample_factors_i"
   ]
  },
  {
   "cell_type": "code",
   "execution_count": null,
   "metadata": {},
   "outputs": [],
   "source": [
    "def qmf_decomposition_2d(x, h0, h1, levels):\n",
    "    h = []\n",
    "    h.append(np.outer(h0, h0))\n",
    "    h.append(np.outer(h1, h0))\n",
    "    h.append(np.outer(h0, h1))\n",
    "    h.append(np.outer(h1, h1))\n",
    "    downsample_factors = [2, 2, 2, 2]\n",
    "    for n in range(levels-1):\n",
    "        iterate2dfilters\n",
    "    return xdc, xd, h"
   ]
  }
 ],
 "metadata": {
  "hide_input": false,
  "kernelspec": {
   "display_name": "Python 3",
   "language": "python",
   "name": "python3"
  },
  "language_info": {
   "codemirror_mode": {
    "name": "ipython",
    "version": 3
   },
   "file_extension": ".py",
   "mimetype": "text/x-python",
   "name": "python",
   "nbconvert_exporter": "python",
   "pygments_lexer": "ipython3",
   "version": "3.7.5"
  },
  "latex_envs": {
   "LaTeX_envs_menu_present": true,
   "autoclose": false,
   "autocomplete": true,
   "bibliofile": "biblio.bib",
   "cite_by": "apalike",
   "current_citInitial": 1,
   "eqLabelWithNumbers": true,
   "eqNumInitial": 1,
   "hotkeys": {
    "equation": "Ctrl-E",
    "itemize": "Ctrl-I"
   },
   "labels_anchors": false,
   "latex_user_defs": false,
   "report_style_numbering": false,
   "user_envs_cfg": false
  },
  "toc": {
   "base_numbering": 1,
   "nav_menu": {},
   "number_sections": true,
   "sideBar": true,
   "skip_h1_title": false,
   "title_cell": "Table of Contents",
   "title_sidebar": "Contents",
   "toc_cell": false,
   "toc_position": {},
   "toc_section_display": true,
   "toc_window_display": false
  },
  "varInspector": {
   "cols": {
    "lenName": 16,
    "lenType": 16,
    "lenVar": 40
   },
   "kernels_config": {
    "python": {
     "delete_cmd_postfix": "",
     "delete_cmd_prefix": "del ",
     "library": "var_list.py",
     "varRefreshCmd": "print(var_dic_list())"
    },
    "r": {
     "delete_cmd_postfix": ") ",
     "delete_cmd_prefix": "rm(",
     "library": "var_list.r",
     "varRefreshCmd": "cat(var_dic_list()) "
    }
   },
   "types_to_exclude": [
    "module",
    "function",
    "builtin_function_or_method",
    "instance",
    "_Feature"
   ],
   "window_display": false
  }
 },
 "nbformat": 4,
 "nbformat_minor": 2
}
