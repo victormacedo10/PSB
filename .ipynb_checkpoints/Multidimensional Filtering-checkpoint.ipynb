{
 "cells": [
  {
   "cell_type": "markdown",
   "metadata": {},
   "source": [
    "Extensão das técnicas de filtragem e decomposição para domínios de dimensão superior.\n",
    "\n",
    "**-> Filtragem**\n",
    "- FIR\n",
    "    - Implementação\n",
    "        - Conv1D -> Conv2D\n",
    "    - Projeto\n",
    "        - Projeto 1D na horizontal/vertical -> produto externo -> núclo 2D -> filtros separáveis\n",
    "        - Partir de uma especificação em frequência não separável para obter o filtro de forma análoga às técnicas 1D: por exemplo, janelamento -> filtros não separáveis\n",
    "        \n",
    "Uma vez projetados os filtros de domínio 2D separáveis ou não separáveis, como podemos usá-los nas decomposições multinível?"
   ]
  },
  {
   "cell_type": "markdown",
   "metadata": {},
   "source": [
    "![image](images/multiQMF.png)"
   ]
  },
  {
   "cell_type": "code",
   "execution_count": 1,
   "metadata": {
    "ExecuteTime": {
     "end_time": "2019-11-29T17:30:29.494578Z",
     "start_time": "2019-11-29T17:29:49.024929Z"
    }
   },
   "outputs": [
    {
     "data": {
      "text/html": [
       "<style>\n",
       ".output {\n",
       "    align-items: center;\n",
       "}\n",
       "</style>"
      ],
      "text/plain": [
       "<IPython.core.display.HTML object>"
      ]
     },
     "execution_count": 1,
     "metadata": {},
     "output_type": "execute_result"
    }
   ],
   "source": [
    "%matplotlib inline\n",
    "#%matplotlib notebook\n",
    "import numpy as np\n",
    "import matplotlib.pyplot as plt\n",
    "import pandas as pd\n",
    "from mat4py import loadmat\n",
    "from numpy import convolve as conv\n",
    "from scipy.signal import *\n",
    "from sklearn.svm import SVC\n",
    "from sklearn.metrics import confusion_matrix\n",
    "from matplotlib.colors import ListedColormap\n",
    "from sklearn.model_selection import train_test_split\n",
    "from IPython.display import display, HTML\n",
    "from IPython.display import display, Math\n",
    "from scipy.signal import convolve2d\n",
    "np.set_printoptions(formatter={'float_kind':'{0:.4f}'.format})\n",
    "CSS = \"\"\"\n",
    ".output {\n",
    "    align-items: center;\n",
    "}\n",
    "\"\"\"\n",
    "\n",
    "HTML('<style>{}</style>'.format(CSS))"
   ]
  },
  {
   "cell_type": "code",
   "execution_count": 2,
   "metadata": {
    "ExecuteTime": {
     "end_time": "2019-11-29T17:30:29.557290Z",
     "start_time": "2019-11-29T17:30:29.521312Z"
    }
   },
   "outputs": [],
   "source": [
    "def conv2(x, y, mode='same'):\n",
    "    return np.rot90(convolve2d(np.rot90(x, 2), np.rot90(y, 2), mode=mode), 2)\n",
    "\n",
    "def downsample(x, factor):\n",
    "    x = x[:len(x):factor]\n",
    "    return x\n",
    "def upsample(x, factor):\n",
    "    y = np.zeros(len(x)*factor)\n",
    "    y[:len(y):factor] = x\n",
    "    return y\n",
    "\n",
    "def filter_iterator(h0, h1, levels):\n",
    "    h0 = np.array(h0)\n",
    "    h1 = np.array(h1)\n",
    "    h = [0] * (levels+1)\n",
    "    h[levels] = h1\n",
    "    aux = np.copy(h0)\n",
    "    for n in range(levels, 1, -1):\n",
    "        h_ = upsample(h[n], 2)\n",
    "        h_ = h_[:len(h_) - 1]\n",
    "        h[n-1] = conv(h_, h0)\n",
    "        aux = upsample(aux, 2)\n",
    "        aux = aux[:len(aux) - 1]\n",
    "        aux = conv(aux, h0)\n",
    "    h[0] = aux\n",
    "    return h\n",
    "\n",
    "def plot_iterated_filters(h, h_names):\n",
    "    n_filters = len(h)\n",
    "    fig = plt.figure(figsize=[13,4])\n",
    "    ax1 = fig.add_subplot(121)\n",
    "    for i in range(n_filters):\n",
    "        w, h_mag = freqz(h[i])\n",
    "        plt.plot(w, abs(h_mag), label = h_names[i])\n",
    "    plt.ylabel('Magnitude')\n",
    "    plt.xlabel('Frequencies [rad/sample]')\n",
    "    plt.grid()\n",
    "    plt.legend()\n",
    "\n",
    "    ax2 = fig.add_subplot(122)\n",
    "    for i in range(n_filters):\n",
    "        w, h_mag = freqz(h[i])\n",
    "        angles = np.unwrap(np.angle(h_mag))\n",
    "        plt.plot(w, angles, label = h_names[i])\n",
    "    plt.ylabel('Angle (radians)')\n",
    "    plt.xlabel('Frequencies [rad/sample]')\n",
    "    plt.grid()\n",
    "    plt.legend()\n",
    "    plt.show()\n",
    "    \n",
    "def up2d(x, factor):\n",
    "    y = np.zeros([x.shape[0]*factor, x.shape[1]*factor])\n",
    "    y[::factor, ::factor] = x\n",
    "    return y"
   ]
  },
  {
   "cell_type": "code",
   "execution_count": 3,
   "metadata": {
    "ExecuteTime": {
     "end_time": "2019-11-29T17:30:30.019402Z",
     "start_time": "2019-11-29T17:30:29.583275Z"
    }
   },
   "outputs": [],
   "source": [
    "def qmf_decomposition(x, h0, h1, levels):\n",
    "    h = filter_iterator(h0, h1, levels)\n",
    "    xdc = [0] * (levels + 1)\n",
    "    xd = []\n",
    "    downsample_factor = 1\n",
    "    for n in range(levels, -1, -1):\n",
    "        downsample_factor *= 2\n",
    "        xdc[n] = downsample(conv(h[n], x), downsample_factor)\n",
    "        xd = np.append(xdc[n], xd)\n",
    "    xdc[0] = downsample(conv(h[0], x), downsample_factor)\n",
    "    return xdc, xd"
   ]
  },
  {
   "cell_type": "code",
   "execution_count": 4,
   "metadata": {
    "ExecuteTime": {
     "end_time": "2019-11-29T17:30:30.172208Z",
     "start_time": "2019-11-29T17:30:30.057318Z"
    }
   },
   "outputs": [],
   "source": [
    "def iterate2dfilters(h, downsample_factors):\n",
    "    hi[len(h) + 3] = hi[len(h)]\n",
    "    downsample_factors_i = np.ones(len(downsample_factors) + 3)\n",
    "    for n in range(5, len(h)+2):\n",
    "        hi[n] = h[n-3]\n",
    "    hi = [0]*4\n",
    "    hi[0] = conv2(h[0], up2d(h_ll))\n",
    "    hi[1] = conv2(h[0], up2d(h[len(h) - 2]))\n",
    "    hi[2] = conv2(h[0], up2d(h[len(h) - 1]))\n",
    "    hi[3] = conv2(h[0], up2d(h[len(h)]))\n",
    "    downsample_factors_i[:4] = downsample_factors[0] * 2\n",
    "    return hi, downsample_factors_i"
   ]
  },
  {
   "cell_type": "code",
   "execution_count": 5,
   "metadata": {
    "ExecuteTime": {
     "end_time": "2019-11-29T17:30:30.363204Z",
     "start_time": "2019-11-29T17:30:30.189195Z"
    }
   },
   "outputs": [],
   "source": [
    "def qmf_decomposition_2d(x, h0, h1, levels):\n",
    "    h_ll, h_hl, h_lh, h_hh = np.outer(h0, h0), np.outer(h1, h0), np.outer(h0, h1), np.outer(h1, h1)\n",
    "    h = [0]*4\n",
    "    h[0], h[1], h[2], h[3] = h_ll, h_hl, h_lh, h_hh\n",
    "    downsample_factors_i = [0, 0, 0, downsample_factors]\n",
    "    for n in range(levels-1):\n",
    "        hi, downsample_factors_i = downiterate2dfilters(h, downsample_factors, h_ll)\n",
    "    return xdc, xd, h"
   ]
  },
  {
   "cell_type": "code",
   "execution_count": null,
   "metadata": {},
   "outputs": [],
   "source": [
    "iterate2dfilters(h, downsample_factors)"
   ]
  },
  {
   "cell_type": "code",
   "execution_count": 42,
   "metadata": {
    "ExecuteTime": {
     "end_time": "2019-11-22T18:44:26.931899Z",
     "start_time": "2019-11-22T18:44:26.919899Z"
    }
   },
   "outputs": [],
   "source": [
    "h0 = np.array([1, 1])\n",
    "h1 = np.array([1, -1])\n",
    "h_ll, h_hl, h_lh, h_hh = np.outer(h0, h0), np.outer(h1, h0), np.outer(h0, h1), np.outer(h1, h1)\n",
    "h = [0]*4\n",
    "h[0], h[1], h[2], h[3] = h_ll, h_hl, h_lh, h_hh\n",
    "downsample_factors = [2,2,2,2]"
   ]
  },
  {
   "cell_type": "code",
   "execution_count": 43,
   "metadata": {
    "ExecuteTime": {
     "end_time": "2019-11-22T18:44:27.179837Z",
     "start_time": "2019-11-22T18:44:27.151863Z"
    }
   },
   "outputs": [
    {
     "ename": "NameError",
     "evalue": "name 'hi' is not defined",
     "output_type": "error",
     "traceback": [
      "\u001b[1;31m---------------------------------------------------------------------------\u001b[0m",
      "\u001b[1;31mNameError\u001b[0m                                 Traceback (most recent call last)",
      "\u001b[1;32m<ipython-input-43-308bbac1e3f0>\u001b[0m in \u001b[0;36m<module>\u001b[1;34m\u001b[0m\n\u001b[1;32m----> 1\u001b[1;33m \u001b[0mhi\u001b[0m\u001b[1;33m[\u001b[0m\u001b[0mlen\u001b[0m\u001b[1;33m(\u001b[0m\u001b[0mh\u001b[0m\u001b[1;33m)\u001b[0m \u001b[1;33m+\u001b[0m \u001b[1;36m3\u001b[0m\u001b[1;33m]\u001b[0m \u001b[1;33m=\u001b[0m \u001b[0mhi\u001b[0m\u001b[1;33m[\u001b[0m\u001b[0mlen\u001b[0m\u001b[1;33m(\u001b[0m\u001b[0mh\u001b[0m\u001b[1;33m)\u001b[0m\u001b[1;33m]\u001b[0m\u001b[1;33m\u001b[0m\u001b[1;33m\u001b[0m\u001b[0m\n\u001b[0m\u001b[0;32m      2\u001b[0m \u001b[0mdownsample_factors_i\u001b[0m \u001b[1;33m=\u001b[0m \u001b[0mnp\u001b[0m\u001b[1;33m.\u001b[0m\u001b[0mones\u001b[0m\u001b[1;33m(\u001b[0m\u001b[0mlen\u001b[0m\u001b[1;33m(\u001b[0m\u001b[0mdownsample_factors\u001b[0m\u001b[1;33m)\u001b[0m \u001b[1;33m+\u001b[0m \u001b[1;36m3\u001b[0m\u001b[1;33m)\u001b[0m\u001b[1;33m\u001b[0m\u001b[1;33m\u001b[0m\u001b[0m\n\u001b[0;32m      3\u001b[0m \u001b[1;32mfor\u001b[0m \u001b[0mn\u001b[0m \u001b[1;32min\u001b[0m \u001b[0mrange\u001b[0m\u001b[1;33m(\u001b[0m\u001b[1;36m5\u001b[0m\u001b[1;33m,\u001b[0m \u001b[0mlen\u001b[0m\u001b[1;33m(\u001b[0m\u001b[0mh\u001b[0m\u001b[1;33m)\u001b[0m\u001b[1;33m+\u001b[0m\u001b[1;36m2\u001b[0m\u001b[1;33m)\u001b[0m\u001b[1;33m:\u001b[0m\u001b[1;33m\u001b[0m\u001b[1;33m\u001b[0m\u001b[0m\n\u001b[0;32m      4\u001b[0m     \u001b[0mhi\u001b[0m\u001b[1;33m[\u001b[0m\u001b[0mn\u001b[0m\u001b[1;33m]\u001b[0m \u001b[1;33m=\u001b[0m \u001b[0mh\u001b[0m\u001b[1;33m[\u001b[0m\u001b[0mn\u001b[0m\u001b[1;33m-\u001b[0m\u001b[1;36m3\u001b[0m\u001b[1;33m]\u001b[0m\u001b[1;33m\u001b[0m\u001b[1;33m\u001b[0m\u001b[0m\n\u001b[0;32m      5\u001b[0m \u001b[0mhi\u001b[0m \u001b[1;33m=\u001b[0m \u001b[1;33m[\u001b[0m\u001b[1;36m0\u001b[0m\u001b[1;33m]\u001b[0m\u001b[1;33m*\u001b[0m\u001b[1;36m4\u001b[0m\u001b[1;33m\u001b[0m\u001b[1;33m\u001b[0m\u001b[0m\n",
      "\u001b[1;31mNameError\u001b[0m: name 'hi' is not defined"
     ]
    }
   ],
   "source": [
    "hi[len(h) + 3] = hi[len(h)]\n",
    "downsample_factors_i = np.ones(len(downsample_factors) + 3)\n",
    "for n in range(5, len(h)+2):\n",
    "    hi[n] = h[n-3]\n",
    "hi = [0]*4\n",
    "hi[0] = conv2(h[0], up2d(h_ll))\n",
    "hi[1] = conv2(h[0], up2d(h[len(h) - 2]))\n",
    "hi[2] = conv2(h[0], up2d(h[len(h) - 1]))\n",
    "hi[3] = conv2(h[0], up2d(h[len(h)]))\n",
    "downsample_factors_i[:4] = downsample_factors[0] * 2"
   ]
  },
  {
   "cell_type": "code",
   "execution_count": null,
   "metadata": {},
   "outputs": [],
   "source": []
  }
 ],
 "metadata": {
  "hide_input": false,
  "kernelspec": {
   "display_name": "Python 3",
   "language": "python",
   "name": "python3"
  },
  "language_info": {
   "codemirror_mode": {
    "name": "ipython",
    "version": 3
   },
   "file_extension": ".py",
   "mimetype": "text/x-python",
   "name": "python",
   "nbconvert_exporter": "python",
   "pygments_lexer": "ipython3",
   "version": "3.7.5"
  },
  "latex_envs": {
   "LaTeX_envs_menu_present": true,
   "autoclose": false,
   "autocomplete": true,
   "bibliofile": "biblio.bib",
   "cite_by": "apalike",
   "current_citInitial": 1,
   "eqLabelWithNumbers": true,
   "eqNumInitial": 1,
   "hotkeys": {
    "equation": "Ctrl-E",
    "itemize": "Ctrl-I"
   },
   "labels_anchors": false,
   "latex_user_defs": false,
   "report_style_numbering": false,
   "user_envs_cfg": false
  },
  "toc": {
   "base_numbering": 1,
   "nav_menu": {},
   "number_sections": true,
   "sideBar": true,
   "skip_h1_title": false,
   "title_cell": "Table of Contents",
   "title_sidebar": "Contents",
   "toc_cell": false,
   "toc_position": {},
   "toc_section_display": true,
   "toc_window_display": false
  },
  "varInspector": {
   "cols": {
    "lenName": 16,
    "lenType": 16,
    "lenVar": 40
   },
   "kernels_config": {
    "python": {
     "delete_cmd_postfix": "",
     "delete_cmd_prefix": "del ",
     "library": "var_list.py",
     "varRefreshCmd": "print(var_dic_list())"
    },
    "r": {
     "delete_cmd_postfix": ") ",
     "delete_cmd_prefix": "rm(",
     "library": "var_list.r",
     "varRefreshCmd": "cat(var_dic_list()) "
    }
   },
   "types_to_exclude": [
    "module",
    "function",
    "builtin_function_or_method",
    "instance",
    "_Feature"
   ],
   "window_display": false
  }
 },
 "nbformat": 4,
 "nbformat_minor": 2
}
